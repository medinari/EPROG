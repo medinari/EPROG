{
 "cells": [
  {
   "cell_type": "markdown",
   "metadata": {},
   "source": [
    "# Einführung in das Programmieren - Übung 10\n"
   ]
  },
  {
   "cell_type": "markdown",
   "metadata": {},
   "source": [
    "- Registrieren Sie sich bei https://exercism.org/tracks/python\n",
    "\n",
    "- Auf https://exercism.org/tracks/python/exercises können Sie verschiedene Übungsaufgaben einsehen.\n",
    "\n",
    "- Implementieren Sie Lösungen für die Aufgaben: (Für die Präsentation: Angabe + Lösung entweder im Browser oder im Editor herzeigen)\n",
    "    - \"Binary Search\" (https://exercism.org/tracks/python/exercises/binary-search) \n",
    "    - \"Minesweeper\" (https://exercism.org/tracks/python/exercises/minesweeper)\n",
    "    - Eine weitere Aufgabe Ihrer Wahl.\n",
    "\n",
    "- Vergleichen Sie für jede Aufgabe Ihre Lösung mit den Community solutions. (Nicht relevant für die Präsentation)\n",
    "\n",
    "- Freiwillig: Lösen Sie die Aufgabe \"4 Gewinnt\" (Abschnitt \"Prüfungsvorbereitung\", \"4_gewinnt.ipynb\" auf Moodle)"
   ]
  }
 ],
 "metadata": {
  "kernelspec": {
   "display_name": "biot5",
   "language": "python",
   "name": "python3"
  },
  "language_info": {
   "codemirror_mode": {
    "name": "ipython",
    "version": 3
   },
   "file_extension": ".py",
   "mimetype": "text/x-python",
   "name": "python",
   "nbconvert_exporter": "python",
   "pygments_lexer": "ipython3",
   "version": "3.8.19"
  }
 },
 "nbformat": 4,
 "nbformat_minor": 2
}
