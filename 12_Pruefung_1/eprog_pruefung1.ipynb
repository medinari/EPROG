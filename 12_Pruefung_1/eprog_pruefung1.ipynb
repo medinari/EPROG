{
 "cells": [
  {
   "cell_type": "markdown",
   "metadata": {},
   "source": [
    "# `Einführung in das Programmieren`\n",
    "\n",
    "## `Prüfung - 1. Antritt`\n",
    "Sie haben 90 Minuten Zeit, um die Aufgaben zu lösen."
   ]
  },
  {
   "cell_type": "markdown",
   "metadata": {},
   "source": [
    "# **Prüfungsaufgabe:**\n",
    "\n",
    "Erstellen Sie eine Klasse `DNARepository` und eine Tochterklasse `AnalyzedRepository`, um Genom-Daten zu verwalten und Analysen durchzuführen. Implementieren Sie die folgenden Anforderungen:\n",
    "\n",
    "## **Klasse `DNARepository` (60 Punkte)**\n",
    "\n",
    "Die Klasse `DNARepository` verwaltet eine Sammlung von DNA-Sequenzen, die in einem Dictionary gespeichert werden. Jede Sequenz wird mit einem eindeutigen Identifier (Key) verknüpft.\n",
    "\n",
    "### **Instanzattribute**\n",
    "- `sequences: dict[str, str]`  \n",
    "  Speichert die DNA-Sequenzen als Schlüssel-Wert-Paare, wobei der Schlüssel eine eindeutige ID (z. B. `\"seq1\"`, `\"seq2\"`) ist und der Wert die DNA-Sequenz.\n",
    "\n",
    "### **Instanzmethoden**\n",
    "\n",
    "1. **`__init__(self, sequences: dict[str, str])` (0 Punkte)**  \n",
    "   Initialisiert die DNA-Sammlung.  \n",
    "\n",
    "2. **`add_sequence(self, id: str, sequence: str)` (5 Punkte)**  \n",
    "   Fügt eine neue Sequenz mit einer ID hinzu.  \n",
    "   - Falls die ID bereits existiert, werfen Sie einen `KeyError(\"ID already exists.\")`.\n",
    "\n",
    "3. **`remove_sequence(self, id: str)` (5 Punkte)**  \n",
    "   Entfernt die Sequenz mit der angegebenen ID.  \n",
    "   - Falls die ID nicht existiert, werfen Sie einen `KeyError(\"ID not found.\")`.\n",
    "\n",
    "4. **`get_sequence_by_id(self, id: str) -> str` (5 Punkte)**  \n",
    "   Gibt die Sequenz zurück, die mit der ID verknüpft ist.  \n",
    "   - Falls die ID nicht existiert, werfen Sie einen `KeyError`.\n",
    "\n",
    "5. **`check_validity(self) -> list[str]` (10 Punkte)**  \n",
    "   Überprüft für alle DNA-Sequenzen in `self.sequences`, ob sie gültig sind.  \n",
    "   - Eine Sequenz ist gültig, wenn sie ausschließlich die Zeichen `'A'`, `'T'`, `'C'`, `'G'` enthält.  \n",
    "   - Die Methode gibt eine Liste der IDs zurück, deren Sequenzen nicht gültig sind.\n",
    "\n",
    "6. **`deduplicate(self) -> list[str]` (20 Punkte)**  \n",
    "   Entfernt doppelte Sequenzen aus dem Dictionary.  \n",
    "   - Wenn dieselbe DNA-Sequenz unter mehreren IDs gespeichert ist, wird nur einer der Einträge (z. B. der erste gefundene) beibehalten.  \n",
    "   - Die Methode gibt eine Liste der IDs zurück, die entfernt wurden.  \n",
    "   - Nach dem Aufruf soll `self.sequences` ein neues Dictionary ohne Duplikate sein.\n",
    "\n",
    "- **`Vergleich von zwei Instanzen` (15 Punkte)**  \n",
    "   Implementieren Sie die Möglichkeit, zwei Instanzen von `DNARepository` miteinander zu vergleichen.  \n",
    "   - Zwei Instanzen sollen gleich sein, wenn die enthaltenen Sequenzen (auch die Anzahl) identisch sind (unabhängig von den IDs). \n",
    "   - Falls das andere Objekt kein `DNARepository`-Objekt ist, soll `False` zurückgegeben werden.  \n",
    "   - Beispiel:  \n",
    "     - `repo1 = DNARepository({\"seq1\": \"ATG\", \"seq2\": \"CGT\"})`  \n",
    "     - `repo2 = DNARepository({\"seqA\": \"ATG\", \"seqB\": \"CGT\"})`  \n",
    "       -> `repo1 == repo2` soll `True` zurückgeben.  \n",
    "     - `repo1 == \"not_a_repository\"` soll `False` zurückgeben.\n",
    "   - `Hinweis`: Hier könnte es hilfreich sein, mit sets zu arbeiten."
   ]
  },
  {
   "cell_type": "code",
   "execution_count": null,
   "metadata": {},
   "outputs": [],
   "source": [
    "# your code here"
   ]
  },
  {
   "cell_type": "markdown",
   "metadata": {},
   "source": [
    "```python\n",
    "# Initialisierung\n",
    "repo = DNARepository({\n",
    "    \"seq1\": \"ATGCCG\",\n",
    "    \"seq2\": \"TTAACG\",\n",
    "    \"seq3\": \"ATGCCG\",  # Duplikat von seq1\n",
    "    \"seq4\": \"AACCTT\",\n",
    "    \"seq5\": \"ATBGCC\"  # Ungültig\n",
    "})\n",
    "\n",
    "# Gültigkeitsprüfung\n",
    "invalid_ids = repo.check_validity()\n",
    "print(\"Ungültige IDs:\", invalid_ids)  # Output: ['seq5']\n",
    "\n",
    "# Entfernen der ungültigen Sequenz\n",
    "repo.remove_sequence(\"seq5\")\n",
    "print(repo.sequences)\n",
    "# {'seq1': 'ATGCCG', 'seq2': 'TTAACG', 'seq3': 'ATGCCG', 'seq4': 'AACCTT'}\n",
    "\n",
    "# Duplikate entfernen\n",
    "removed_ids = repo.deduplicate()\n",
    "print(\"Entfernte IDs:\", removed_ids)  # Output: ['seq3']\n",
    "print(repo.sequences)\n",
    "# {'seq1': 'ATGCCG', 'seq2': 'TTAACG', 'seq4': 'AACCTT'}\n",
    "\n",
    "# Hinzufügen einer neuen Sequenz\n",
    "repo.add_sequence(\"seq6\", \"GGGCCC\")\n",
    "print(repo.sequences)\n",
    "# {'seq1': 'ATGCCG', 'seq2': 'TTAACG', 'seq4': 'AACCTT', 'seq6': 'GGGCCC'}\n",
    "\n",
    "repo1 = DNARepository({\"seq1\": \"ATG\", \"seq2\": \"CGT\"})\n",
    "repo2 = DNARepository({\"seqA\": \"ATG\", \"seqB\": \"CGT\"})\n",
    "repo1 == repo2 #True\n",
    "\n",
    "repo1 == \"not_a_repository\" # False\n"
   ]
  },
  {
   "cell_type": "markdown",
   "metadata": {},
   "source": [
    "## **Klasse `AnalyzedRepository` (40 Punkte)**\n",
    "\n",
    "Die Klasse `AnalyzedRepository` erbt von `DNARepository` und fügt einfache Analyse- und Filtermöglichkeiten hinzu.\n",
    "\n",
    "### **Neue Instanzmethoden**\n",
    "1. **`filter_by_length(self, min_length: int, max_length: int) -> dict[str, str]` (20 Punkte)**  \n",
    "   Filtert Sequenzen basierend auf ihrer Länge.  \n",
    "   - Nur Sequenzen, deren Länge zwischen `min_length` und `max_length` liegt (beides inklusive), werden in das Ergebnis aufgenommen.  \n",
    "   - Gibt ein Dictionary zurück, das die IDs und Sequenzen enthält, die die Kriterien erfüllen.\n",
    "\n",
    "2. **`compare_sequences(self, id1: str, id2: str) -> dict[str, int]` (20 Punkte)**  \n",
    "   Vergleicht zwei Sequenzen und gibt ein Dictionary zurück, das die Anzahl der Übereinstimmungen und Unterschiede in den Basen speichert:  \n",
    "   - `'matches': int` - Anzahl der übereinstimmenden Basen.  \n",
    "   - `'mismatches': int` - Anzahl der unterschiedlichen Basen.  \n",
    "   - Falls die Sequenzen unterschiedliche Längen haben, werfen Sie einen `ValueError(\"Sequences must have the same length.\")`.  \n",
    "   - Falls eine oder beide der übergebenen IDs nicht in `self.sequences` enthalten ist, werfen Sie einen `KeyError(\"No sequence is available for given key(s)\").`\n"
   ]
  },
  {
   "cell_type": "code",
   "execution_count": 1,
   "metadata": {},
   "outputs": [],
   "source": [
    "# your code here"
   ]
  },
  {
   "cell_type": "markdown",
   "metadata": {},
   "source": [
    "### Beispiel - Aufrufe"
   ]
  },
  {
   "cell_type": "markdown",
   "metadata": {},
   "source": [
    "#### `filter_by_length`"
   ]
  },
  {
   "cell_type": "markdown",
   "metadata": {},
   "source": [
    "```python\n",
    "# Initialisierung des Repositories\n",
    "analyzed_repo = AnalyzedRepository({\n",
    "    \"seq1\": \"ATGCCG\",\n",
    "    \"seq2\": \"TTAACG\",\n",
    "    \"seq3\": \"AT\",\n",
    "    \"seq4\": \"AACCTTAA\",\n",
    "    \"seq5\": \"GGG\"\n",
    "})\n",
    "\n",
    "# Filterung nach Sequenzen mit einer Länge zwischen 4 und 6\n",
    "filtered_by_length = analyzed_repo.filter_by_length(4, 6)\n",
    "print(filtered_by_length)\n",
    "# Output: {'seq1': 'ATGCCG', 'seq2': 'TTAACG'}\n"
   ]
  },
  {
   "cell_type": "markdown",
   "metadata": {},
   "source": [
    "#### `compare_sequences`"
   ]
  },
  {
   "cell_type": "markdown",
   "metadata": {},
   "source": [
    "```python\n",
    "# Initialisierung des Repositories\n",
    "analyzed_repo = AnalyzedRepository({\n",
    "    \"seq1\": \"ATGCCG\",\n",
    "    \"seq2\": \"TTAACG\",\n",
    "    \"seq3\": \"AACCTTG\"\n",
    "})\n",
    "\n",
    "# Vergleich von zwei Sequenzen\n",
    "comparison = analyzed_repo.compare_sequences(\"seq1\", \"seq2\")\n",
    "print(comparison)\n",
    "# Output: {'matches': 3, 'mismatches': 3}\n",
    "\n",
    "# Vergleich von Sequenzen mit unterschiedlichen Längen (löst ValueError aus)\n",
    "try:\n",
    "    comparison = analyzed_repo.compare_sequences(\"seq1\", \"seq3\")\n",
    "except ValueError as e:\n",
    "    print(e)  # Output: \"Sequences must have the same length.\"\n",
    "\n",
    "# Vergleich von nicht existierenden IDs (löst KeyError aus)\n",
    "try:\n",
    "    comparison = analyzed_repo.compare_sequences(\"seq1\", \"seq4\")\n",
    "except KeyError as e:\n",
    "    print(e)  # Output: \"No sequence is available for given key(s).\"\n"
   ]
  }
 ],
 "metadata": {
  "kernelspec": {
   "display_name": "dlnn2",
   "language": "python",
   "name": "python3"
  },
  "language_info": {
   "codemirror_mode": {
    "name": "ipython",
    "version": 3
   },
   "file_extension": ".py",
   "mimetype": "text/x-python",
   "name": "python",
   "nbconvert_exporter": "python",
   "pygments_lexer": "ipython3",
   "version": "3.7.16"
  }
 },
 "nbformat": 4,
 "nbformat_minor": 2
}
