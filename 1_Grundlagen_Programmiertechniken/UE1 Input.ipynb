{
 "cells": [
  {
   "cell_type": "markdown",
   "id": "8d3881e2",
   "metadata": {},
   "source": [
    "# Input Übung 1"
   ]
  },
  {
   "cell_type": "markdown",
   "id": "dec3d5b1",
   "metadata": {},
   "source": [
    "## Kommentare, Variablen und Konsole"
   ]
  },
  {
   "cell_type": "markdown",
   "id": "ddd56239",
   "metadata": {},
   "source": [
    "In Python können Kommentare hinzugefügt werden, indem man ein `#` Zeichen verwendet. Kommentare werden vom Interpreter ignoriert und sind nützlich, um den Code zu dokumentieren.\n",
    "Beispiel:\n",
    "```python\n",
    "# Dies ist ein Kommentar\n",
    "print('Hallo, Welt!')  # Ein weiterer Kommentar\n",
    "```\n",
    "\n",
    "### Variablen in Python\n",
    "Variablen sind Speicherorte für Werte. Sie müssen nicht deklariert werden, bevor sie verwendet werden, und können verschiedene Datentypen haben.\n",
    "Beispiel:\n",
    "```python\n",
    "boolsche_variable = True  # Boolean (bool)\n",
    "ganze_zahl = 12  # Integer (int)\n",
    "gleitkommazahl = 1.5  # Float\n",
    "zeichenkette = 'hallo'  # String (str)\n",
    "```\n",
    "### Die `print()`-Funktion\n",
    "Die `print()`-Funktion gibt den übergebenen Wert auf der Konsole aus.\n",
    "Beispiel:\n",
    "```python\n",
    "print(ganze_zahl)\n",
    "print(zeichenkette * 5)  # Gibt die Zeichenkette fünfmal aus\n",
    "```"
   ]
  },
  {
   "cell_type": "code",
   "execution_count": 2,
   "id": "f3cf2724",
   "metadata": {},
   "outputs": [
    {
     "name": "stdout",
     "output_type": "stream",
     "text": [
      "Anna ist 10 Jahre alt, und hat 5 Hunde\n"
     ]
    }
   ],
   "source": [
    "a = 5\n",
    "b = 10\n",
    "a_word = \"hello\"\n",
    "\n",
    "print(f\"Anna ist {b} Jahre alt, und hat {a} Hunde\")"
   ]
  },
  {
   "cell_type": "markdown",
   "id": "7a367f89",
   "metadata": {},
   "source": [
    "## Formatierung von Ausgaben"
   ]
  },
  {
   "cell_type": "markdown",
   "id": "6ccca795",
   "metadata": {},
   "source": [
    "Python bietet viele Möglichkeiten, um Ausgaben zu formatieren. Eine der gebräuchlichsten Methoden ist die Verwendung von f-Strings (formatierte Zeichenkettenliterale).\n",
    "### Beispiel für f-Strings:\n",
    "```python\n",
    "ganze_zahl = 12\n",
    "gleitkommazahl = 1.5\n",
    "print(f'{ganze_zahl:05d}')  # Ausgabe: 00012\n",
    "print(f'{gleitkommazahl:10.3f}')  # Ausgabe:     1.500\n",
    "```\n",
    "- `{ganze_zahl:05d}`: Druckt die ganze Zahl mit einer Mindestbreite von 5 und führenden Nullen.\n",
    "- `{gleitkommazahl:10.3f}`: Druckt die Gleitkommazahl mit einer Mindestbreite von 10 und 3 Dezimalstellen."
   ]
  },
  {
   "cell_type": "markdown",
   "id": "298c2ae0",
   "metadata": {},
   "source": [
    "## Benutzereingaben"
   ]
  },
  {
   "cell_type": "markdown",
   "id": "2f3ce1d7",
   "metadata": {},
   "source": [
    "Die `input()`-Funktion wird verwendet, um Eingaben von Benutzern zu lesen. Die Eingabe wird immer als Zeichenkette (str) zurückgegeben, daher ist oft eine Konvertierung erforderlich.\n",
    "### Beispiel für Benutzereingaben:\n",
    "```python\n",
    "eingabe = input('Geben Sie eine Zahl ein: ')\n",
    "zahl = int(eingabe)  # Konvertiert die Eingabe in eine Ganzzahl (int)\n",
    "```\n",
    "### Mehrere Eingaben lesen und konvertieren:\n",
    "```python\n",
    "a = int(input('a: '))\n",
    "b = int(input('b: '))\n",
    "c = int(input('c: '))\n",
    "d = int(input('d: '))\n",
    "```"
   ]
  },
  {
   "cell_type": "markdown",
   "id": "1e79e73b",
   "metadata": {},
   "source": [
    "## Mathematische Operationen und Berechnungen"
   ]
  },
  {
   "cell_type": "markdown",
   "id": "8d6d4134",
   "metadata": {},
   "source": [
    "Python unterstützt eine Vielzahl von mathematischen Operationen wie Addition, Subtraktion, Multiplikation, Division und Modulo.\n",
    "### Beispiele für mathematische Operationen:\n",
    "```python\n",
    "summe = a + b + d\n",
    "produkt = a * b * c * d\n",
    "ganze_division = a // d  # Ganzzahldivision\n",
    "normale_division = a / d  # Normale Division\n",
    "rest = a % b  # Modulo, gibt den Rest der Division zurück\n",
    "```\n",
    "Für komplexere Berechnungen kann die `math`-Bibliothek verwendet werden:\n",
    "```python\n",
    "import math\n",
    "wurzel_b = math.sqrt(b)  # Quadratwurzel von b\n",
    "```\n",
    "Exponentiation (z. B. `c` hoch `-a`) wird mit dem `**` Operator durchgeführt:\n",
    "```python\n",
    "ergebnis = c ** -a\n",
    "```"
   ]
  }
 ],
 "metadata": {
  "kernelspec": {
   "display_name": "dlnn2",
   "language": "python",
   "name": "python3"
  },
  "language_info": {
   "codemirror_mode": {
    "name": "ipython",
    "version": 3
   },
   "file_extension": ".py",
   "mimetype": "text/x-python",
   "name": "python",
   "nbconvert_exporter": "python",
   "pygments_lexer": "ipython3",
   "version": "3.7.16"
  }
 },
 "nbformat": 4,
 "nbformat_minor": 5
}
