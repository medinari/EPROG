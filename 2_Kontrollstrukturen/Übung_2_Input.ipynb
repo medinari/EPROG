{
 "cells": [
  {
   "cell_type": "markdown",
   "id": "78355415",
   "metadata": {},
   "source": [
    "# Übung 2: Input\n"
   ]
  },
  {
   "cell_type": "markdown",
   "id": "228b630b",
   "metadata": {},
   "source": [
    "## Aufgabe 1: Fahrberechtigung prüfen\n",
    "\n",
    "Schreiben Sie ein Programm, das den Benutzer nach seinem Alter fragt und darauf basierend ausgibt, ob er eine Fahrerlaubnis erhalten kann.\n",
    "\n",
    "- Unter 16 Jahren: 'Zu jung für den Führerschein'\n",
    "- Zwischen 16 und 18 Jahren: 'Begleitendes Fahren möglich'\n",
    "- Ab 18 Jahren: 'Fahrberechtigung möglich'\n",
    "\n",
    "### Beispiel:\n",
    "Eingabe:\n",
    "```\n",
    "Wie alt sind Sie? 17\n",
    "```\n",
    "Ausgabe:\n",
    "```\n",
    "Begleitendes Fahren möglich\n",
    "```\n"
   ]
  },
  {
   "cell_type": "code",
   "execution_count": 8,
   "id": "86887126",
   "metadata": {},
   "outputs": [
    {
     "name": "stdout",
     "output_type": "stream",
     "text": [
      "Zu jung für den Führerschein\n"
     ]
    }
   ],
   "source": [
    "# your code here\n",
    "age = int(input(\"Bitte geben Sie Ihr Alter ein: \"))\n",
    "\n",
    "if age < 16:\n",
    "    print(\"Zu jung für den Führerschein\")\n",
    "elif age < 18:\n",
    "    print(\"Begleitendes Fahren möglich\")\n",
    "else:\n",
    "    print(\"Fahrberechtigung möglich\")"
   ]
  },
  {
   "cell_type": "markdown",
   "id": "9977f213",
   "metadata": {},
   "source": [
    "## Aufgabe 2: Passwort überprüfen\n",
    "\n",
    "Schreiben Sie ein Programm, das den Benutzer auffordert, ein Passwort einzugeben. Das Programm soll in einer Schleife laufen, bis das korrekte Passwort eingegeben wurde (nehmen Sie an, das Passwort lautet 'eprog123').\n",
    "\n",
    "Jedes Mal, wenn ein falsches Passwort eingegeben wird, sollte das Programm 'Falsches Passwort, bitte erneut versuchen' ausgeben. Beim korrekten Passwort soll es 'Zugang gewährt' ausgeben und die Schleife beenden.\n",
    "\n",
    "### Beispiel:\n",
    "Eingabe:\n",
    "```\n",
    "Geben Sie das Passwort ein: test123\n",
    "```\n",
    "Ausgabe:\n",
    "```\n",
    "Falsches Passwort, bitte erneut versuchen\n",
    "```\n",
    "\n",
    "Eingabe:\n",
    "```\n",
    "Geben Sie das Passwort ein: eprog123\n",
    "```\n",
    "Ausgabe:\n",
    "```\n",
    "Zugang gewährt\n",
    "```\n"
   ]
  },
  {
   "cell_type": "code",
   "execution_count": null,
   "id": "db222e8e",
   "metadata": {},
   "outputs": [],
   "source": [
    "r_passw = \"eprog123\"\n",
    "user_input = None # Variable muss definiert sein - sonst kommt es bei der ersten Evaluierung in der loop zu einem error.\n",
    "\n",
    "while user_input != r_passw:\n",
    "    # Wichtig: wir ändern durch die Zuweisung zu user_input den Wert \n",
    "    # der Variable und somit potenziell den Wert der boolean expression. \n",
    "    # Dadurch vermeiden wir eine Endlosschleife\n",
    "    user_input = input(\"Geben Sie Ihr Passwort ein: \")\n",
    "    if user_input == r_passw:\n",
    "        print(\"Zugang gewährt\")\n",
    "    else:\n",
    "        print(\"Falsches Passwort, bitte erneut versuchen.\")\n",
    "    "
   ]
  },
  {
   "cell_type": "markdown",
   "id": "dd71a1cb",
   "metadata": {},
   "source": [
    "## Aufgabe 3: Auflistung von Gegenständen\n",
    "\n",
    "Schreiben Sie ein Programm, das den Benutzer nach einer Liste von Gegenständen (durch Komma getrennt) fragt und diese mit ihrer Position (beginnend bei 1) auflistet. Verwenden Sie dabei die Funktion `enumerate()`.\n",
    "\n",
    "### Beispiel:\n",
    "Eingabe:\n",
    "```\n",
    "Geben Sie eine Liste von Gegenständen ein: Apfel, Banane, Kirsche\n",
    "```\n",
    "Ausgabe:\n",
    "```\n",
    "1: Apfel\n",
    "2: Banane\n",
    "3: Kirsche\n",
    "```\n"
   ]
  },
  {
   "cell_type": "code",
   "execution_count": 3,
   "id": "a36c0500",
   "metadata": {},
   "outputs": [
    {
     "name": "stdout",
     "output_type": "stream",
     "text": [
      "1: Apfel\n",
      "2: Birne\n",
      "3: Kirsche\n"
     ]
    }
   ],
   "source": [
    "# your code here\n",
    "\n",
    "# Vorgeschmack auf nächste Einheit: hier erstellen wir durch die Funktion .split() eine Liste (list) und iterieren über die Liste\n",
    "list_of_words = input(\"Geben Sie eine Liste an Gegenständen ein\").split(\",\")\n",
    "\n",
    "for idx, word in enumerate(list_of_words):\n",
    "    print(f\"{idx + 1}: {word}\")"
   ]
  },
  {
   "cell_type": "markdown",
   "id": "df984a56",
   "metadata": {},
   "source": [
    "## Aufgabe 4: Summe von Zahlen\n",
    "\n",
    "Schreiben Sie ein Programm, das die Summe der Zahlen von 1 bis zu einer vom Benutzer angegebenen Zahl berechnet. Verwenden Sie dazu `range()`.\n",
    "\n",
    "### Beispiel:\n",
    "Eingabe:\n",
    "```\n",
    "Geben Sie eine Zahl ein: 5\n",
    "```\n",
    "Ausgabe:\n",
    "```\n",
    "Die Summe von 1 bis 5 ist 15\n",
    "```\n"
   ]
  },
  {
   "cell_type": "code",
   "execution_count": 5,
   "id": "e4399c24",
   "metadata": {},
   "outputs": [
    {
     "name": "stdout",
     "output_type": "stream",
     "text": [
      "Die Summe von 1 bis 5 ist 15\n"
     ]
    }
   ],
   "source": [
    "number = int(input(\"Geben Sie eine Zahl ein: \"))\n",
    "sum = 0\n",
    "for num in range(1,number+1):\n",
    "    sum += num\n",
    "print(f\"Die Summe von 1 bis {number} ist {sum}\")"
   ]
  }
 ],
 "metadata": {
  "kernelspec": {
   "display_name": "biot5",
   "language": "python",
   "name": "python3"
  },
  "language_info": {
   "codemirror_mode": {
    "name": "ipython",
    "version": 3
   },
   "file_extension": ".py",
   "mimetype": "text/x-python",
   "name": "python",
   "nbconvert_exporter": "python",
   "pygments_lexer": "ipython3",
   "version": "3.7.16"
  }
 },
 "nbformat": 4,
 "nbformat_minor": 5
}
