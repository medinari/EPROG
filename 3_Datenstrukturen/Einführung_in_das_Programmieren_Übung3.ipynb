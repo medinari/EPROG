{
 "cells": [
  {
   "cell_type": "markdown",
   "id": "a368c135",
   "metadata": {},
   "source": [
    "# Einführung in das Programmieren - Übung 3\n",
    "\n",
    "### Sie dürfen für diese Übung auch Konzepte/Funktionen verwenden, die wir nicht bereits behandelt haben, aber keine zusätzlichen packages importieren."
   ]
  },
  {
   "cell_type": "markdown",
   "id": "f2ed6282",
   "metadata": {},
   "source": [
    "## Aufgabe 1"
   ]
  },
  {
   "cell_type": "markdown",
   "id": "94657969",
   "metadata": {},
   "source": [
    "\n",
    "Schreiben Sie ein Programm, das eine Matrix liest, die durch die Anzahl der Zeilen und Spalten spezifiziert ist, und diese Matrix dann ausgibt. Die Matrix muss wie folgt erstellt werden:\n",
    "\n",
    "- Der Benutzer kann die Anzahl der Zeilen (Ganzzahl) und die Anzahl der Spalten (Ganzzahl) eingeben. Sie können davon ausgehen, dass beide Zahlen im Bereich [1, 10] liegen.\n",
    "- Die Matrix muss mit einer verschachtelten Liste erstellt werden.\n",
    "- Alle Elemente der Matrix müssen auf 0 gesetzt werden, außer bei übereinstimmenden Zeilen- und Spaltenindizes, bei denen die Elemente auf 1 gesetzt werden müssen.\n",
    "\n",
    "Beispiel Eingabe und Ausgabe:\n",
    "\n",
    "```\n",
    "Anzahl der Zeilen: 3\n",
    "Anzahl der Spalten: 4\n",
    "\n",
    "   0 1 2 3\n",
    "  --------\n",
    "0| 1 0 0 0\n",
    "1| 0 1 0 0\n",
    "2| 0 0 1 0\n",
    "```"
   ]
  },
  {
   "cell_type": "code",
   "execution_count": null,
   "id": "905d6ba2",
   "metadata": {},
   "outputs": [],
   "source": [
    "# your code here"
   ]
  },
  {
   "cell_type": "markdown",
   "id": "04351a7b",
   "metadata": {},
   "source": [
    "## Aufgabe 2"
   ]
  },
  {
   "cell_type": "markdown",
   "id": "59f6b9f6",
   "metadata": {},
   "source": [
    "\n",
    "Schreiben Sie ein Programm, das wiederholt Elemente/Strings vom Benutzer liest, bis \"x\" eingegeben wird. Alle Elemente müssen in der Reihenfolge ihres Auftretens gespeichert und anschließend ausgegeben werden. Zusätzlich müssen nur die einzigartigen Elemente identifiziert und dann als sortierte Liste (aufsteigende Reihenfolge) ausgegeben werden.\n",
    "\n",
    "Beispiel Eingabe und Ausgabe:\n",
    "\n",
    "```\n",
    "Geben Sie ein Element ein oder 'x', um zu beenden: hi\n",
    "Geben Sie ein Element ein oder 'x', um zu beenden: hello\n",
    "Geben Sie ein Element ein oder 'x', um zu beenden: x\n",
    "alle: ['hi', 'hello']\n",
    "einzigartige (sortiert): ['hello', 'hi']\n",
    "```"
   ]
  },
  {
   "cell_type": "code",
   "execution_count": null,
   "id": "6d20fc22",
   "metadata": {},
   "outputs": [],
   "source": [
    "# your code here"
   ]
  },
  {
   "cell_type": "markdown",
   "id": "d4273e7e",
   "metadata": {},
   "source": [
    "## Aufgabe 3"
   ]
  },
  {
   "cell_type": "markdown",
   "id": "bf9db0e3",
   "metadata": {},
   "source": [
    "\n",
    "Schreiben Sie ein Programm, bei dem der Benutzer eine Zeichenfolge eingeben kann, die durch Kommas getrennte Elemente enthält. Diese Zeichenfolge muss anhand des trennenden Kommas aufgeteilt werden. Für jedes Zeichenketten-Element sollen Sie dann einen einfachen Hash-Wert gemäß der folgenden Spezifikation berechnen.\n",
    "\n",
    "- Für jedes Zeichen in einem solchen String-Teil rufen Sie ord(char) auf, wobei char das aktuelle Zeichen ist.\n",
    "- Der Hash-Wert des gesamten String-Teils ist die Summe aller Zeichen-Ordinalwerte.\n",
    "\n",
    "Beispiel Eingabe und Ausgabe:\n",
    "\n",
    "```\n",
    "Geben Sie kommagetrennte Elemente ein: test\n",
    "'test' -> 448\n",
    "```"
   ]
  },
  {
   "cell_type": "code",
   "execution_count": null,
   "id": "9182357e",
   "metadata": {},
   "outputs": [],
   "source": [
    "# your code here"
   ]
  },
  {
   "cell_type": "markdown",
   "id": "79d32a81",
   "metadata": {},
   "source": [
    "## Aufgabe 4"
   ]
  },
  {
   "cell_type": "markdown",
   "id": "c83e362f",
   "metadata": {},
   "source": [
    "\n",
    "Schreiben Sie ein Programm, bei dem der Benutzer eine Zeichenfolge eingeben kann, die durch Kommas getrennte Elemente enthält. Diese Zeichenfolge muss anhand des trennenden Kommas aufgeteilt werden. Für jedes Zeichenketten-Element soll ermittelt werden, ob es sich um eine Ganzzahl handelt.\n",
    "\n",
    "Beispiel Eingabe und Ausgabe:\n",
    "\n",
    "```\n",
    "Geben Sie kommagetrennte Elemente ein: abc,1,12,test\n",
    "Ganzzahlen: [1, 12]\n",
    "Vorkommen: {1: 1, 12: 1}\n",
    "Rest: ['abc', 'test']\n",
    "```"
   ]
  },
  {
   "cell_type": "code",
   "execution_count": null,
   "id": "446ae74e",
   "metadata": {},
   "outputs": [],
   "source": [
    "# your code here"
   ]
  }
 ],
 "metadata": {
  "kernelspec": {
   "display_name": "Python 3",
   "language": "python",
   "name": "python3"
  },
  "language_info": {
   "name": "python",
   "version": "3.8.19"
  }
 },
 "nbformat": 4,
 "nbformat_minor": 5
}
