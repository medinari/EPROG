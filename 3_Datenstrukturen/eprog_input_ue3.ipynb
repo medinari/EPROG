{
 "cells": [
  {
   "cell_type": "markdown",
   "id": "e1ca575e",
   "metadata": {},
   "source": [
    "\n",
    "# Einführung in das Programmieren ILV\n",
    "## Input Übung 3 (Datenstrukturen)\n",
    "###### WS 2024/25 | Mohamed Goha, BSc.\n"
   ]
  },
  {
   "cell_type": "markdown",
   "id": "99ffb35b",
   "metadata": {},
   "source": [
    "\n",
    "## Listen\n",
    "Eine Liste ist ein veränderbarer Sequenztyp, der eine geordnete Liste von Werten/Objekten enthält. Listen können beliebige Objekte enthalten, auch von unterschiedlichen Datentypen.\n"
   ]
  },
  {
   "cell_type": "code",
   "execution_count": 3,
   "id": "006e70c4",
   "metadata": {},
   "outputs": [
    {
     "name": "stdout",
     "output_type": "stream",
     "text": [
      "List: [1, 2.3456, 3, 'abc']\n",
      "Length of list: 4\n",
      "First element: 1\n",
      "Modified list: [1, 9.8765, 3, 'abc']\n",
      "List after appending: [1, 9.8765, 3, 'abc', 'new item']\n",
      "List after removing an element: [1, 9.8765, 'abc', 'new item']\n",
      "1 is contained in a_list: True\n",
      "original list: [1, 9.8765, 'abc', 'new item']\tchanged copy: ['changed first element!', 9.8765, 'abc', 'new item']\n",
      "\n",
      "\t\t\t#### SORTING ####\n",
      "\n",
      "original list: [5, 2, 4, 6, 5, 1]\n",
      "sorted list (ascending): [1, 2, 4, 5, 5, 6]\n",
      "sorted list (descending): [6, 5, 5, 4, 2, 1]\n",
      "reverse list: [1, 2, 4, 5, 5, 6]\n",
      "original list: [5, 2, 4, 6, 5, 1], sorted_numbers: [1, 2, 4, 5, 5, 6]\n"
     ]
    }
   ],
   "source": [
    "\n",
    "# Creating an empty list\n",
    "empty_list = []\n",
    "empty_list = list()\n",
    "\n",
    "# Creating a list with various data types\n",
    "a_list = [1, 2.3456, 3, \"abc\"]\n",
    "print(\"List:\", a_list)\n",
    "\n",
    "# Getting the length of the list\n",
    "length = len(a_list)\n",
    "print(\"Length of list:\", length)\n",
    "\n",
    "# Accessing list elements by index\n",
    "first_element = a_list[0]\n",
    "print(\"First element:\", first_element)\n",
    "\n",
    "# Modifying list elements\n",
    "a_list[1] = 9.8765\n",
    "print(\"Modified list:\", a_list)\n",
    "\n",
    "# Adding elements\n",
    "a_list.append(\"new item\")\n",
    "print(\"List after appending:\", a_list)\n",
    "\n",
    "# Removing elements\n",
    "a_list.remove(3)\n",
    "print(\"List after removing an element:\", a_list)\n",
    "\n",
    "# check if list contains object\n",
    "print(f\"1 is contained in a_list: {1 in a_list}\")\n",
    "\n",
    "# copy a list\n",
    "copy = list(a_list)\n",
    "# or\n",
    "copy = a_list.copy()\n",
    "copy[0] = \"changed first element!\"\n",
    "print(f\"original list: {a_list}\\tchanged copy: {copy}\")\n",
    "\n",
    "\n",
    "print(\"\\n\\t\\t\\t#### SORTING ####\\n\")\n",
    "# sorting list in-place\n",
    "some_numbers = [5,2,4,6,5,1]\n",
    "print(f\"original list: {some_numbers}\")\n",
    "\n",
    "# ascending order\n",
    "some_numbers.sort() # sorting happens in-place - object is altered, no need to assign to variable again\n",
    "print(f\"sorted list (ascending): {some_numbers}\")\n",
    "\n",
    "# descending order\n",
    "some_numbers.sort(reverse=True)\n",
    "print(f\"sorted list (descending): {some_numbers}\")\n",
    "\n",
    "# reversing using slicing (more on slicing below)\n",
    "print(f\"reverse list: {some_numbers[::-1]}\")\n",
    "\n",
    "# sorting, not in-place\n",
    "some_numbers = [5,2,4,6,5,1]\n",
    "new_numbers_list = sorted(some_numbers) # not in-place. some_numbers variable is unchanged\n",
    "print(f\"original list: {some_numbers}, sorted_numbers: {new_numbers_list}\")\n"
   ]
  },
  {
   "cell_type": "markdown",
   "id": "215ba386",
   "metadata": {},
   "source": [
    "\n",
    "## Tupel\n",
    "Tupel sind immutable Sequenzen, was bedeutet, dass ihre Elemente nach der Erstellung nicht geändert werden können.\n"
   ]
  },
  {
   "cell_type": "code",
   "execution_count": 4,
   "id": "6af960d1",
   "metadata": {},
   "outputs": [
    {
     "name": "stdout",
     "output_type": "stream",
     "text": [
      "Tuple with one element: (1,)\n",
      "Tuple: (1, 2, 3, 'abc')\n",
      "Second element: 2\n",
      "Concatenated tuple:  (1, 2, 3, 'abc', 4, 5, 6)\n",
      "Repeated tuple: (1, 2, 3, 'abc', 1, 2, 3, 'abc', 1, 2, 3, 'abc')\n"
     ]
    }
   ],
   "source": [
    "\n",
    "# Creating an empty tuple\n",
    "empty_tuple = ()\n",
    "empty_tuple = tuple()\n",
    "\n",
    "# Creating tuple with values\n",
    "a_tuple = 1, # don't forget comma\n",
    "print(\"Tuple with one element:\",a_tuple)\n",
    "\n",
    "a_tuple = (1, 2, 3, \"abc\")\n",
    "print(\"Tuple:\", a_tuple)\n",
    "\n",
    "# Accessing elements\n",
    "second_element = a_tuple[1]\n",
    "print(\"Second element:\", second_element)\n",
    "\n",
    "# Some possible operations\n",
    "another_tuple = (4,5,6)\n",
    "concated_tuple = a_tuple + another_tuple # concatenate\n",
    "print(\"Concatenated tuple: \", concated_tuple)\n",
    "\n",
    "repeated_tuple = a_tuple * 3\n",
    "print(\"Repeated tuple:\", repeated_tuple)\n",
    "\n"
   ]
  },
  {
   "cell_type": "markdown",
   "id": "a28a55d8",
   "metadata": {},
   "source": [
    "\n",
    "## Sets\n",
    "Sets sind ungeordnete Mengen von unique Elementen und eignen sich gut für Mitgliedstests und das Entfernen von Duplikaten.\n"
   ]
  },
  {
   "cell_type": "code",
   "execution_count": 5,
   "id": "4e2a9195",
   "metadata": {},
   "outputs": [
    {
     "name": "stdout",
     "output_type": "stream",
     "text": [
      "Set with unique elements: {1, 2, 3, 4}\n",
      "Set after adding an element: {1, 2, 3, 4, 5}\n",
      "Set after removing an element: {1, 2, 4, 5}\n",
      "Union: {1, 2, 3, 4, 5}\n",
      "Intersection: {3}\n",
      "Difference: {1, 2}\n",
      "Difference (swapped): {4, 5}\n"
     ]
    }
   ],
   "source": [
    "\n",
    "# Creating a set\n",
    "a_set = {1, 2, 3, 3, 4}\n",
    "# or\n",
    "a_set = set([1, 2, 3, 3, 4]) # can be used to create empty set\n",
    "print(\"Set with unique elements:\", a_set)\n",
    "\n",
    "# Adding an element\n",
    "a_set.add(5)\n",
    "print(\"Set after adding an element:\", a_set)\n",
    "\n",
    "# Removing an element\n",
    "a_set.remove(3)\n",
    "print(\"Set after removing an element:\", a_set)\n",
    "\n",
    "# Set operations: union, intersection, difference\n",
    "set1 = {1, 2, 3}\n",
    "set2 = {3, 4, 5}\n",
    "print(\"Union:\", set1 | set2)\n",
    "print(\"Intersection:\", set1 & set2)\n",
    "print(\"Difference:\", set1 - set2)\n",
    "print(\"Difference (swapped):\", set2 - set1)\n"
   ]
  },
  {
   "cell_type": "markdown",
   "id": "4344d0db",
   "metadata": {},
   "source": [
    "\n",
    "## Dictionaries\n",
    "Dictionaries speichern Daten in key-value pairs und eignen sich gut zur Darstellung von Beziehungen zwischen Daten/Objekten.\n"
   ]
  },
  {
   "cell_type": "code",
   "execution_count": 6,
   "id": "dcd0158b",
   "metadata": {},
   "outputs": [
    {
     "name": "stdout",
     "output_type": "stream",
     "text": [
      "Phone number of Max: +43 123 456789\n",
      "Phone number of Max: +43 123 456789\n",
      "Updated phonebook: {'Max Mustermann': '+43 123 456789', 'Erika Musterfrau': '+43 987 654321', 'Hans Müller': '+43 234 567890', ('Peter', 'Gerhard'): '+43 234 599890', 'Anna Schmidt': '+49 111 222333'}\n",
      "Phonebook after update: {'Max Mustermann': '+43 123 456789', 'Erika Musterfrau': '+43 987 654321', 'Hans Müller': '+49 234 567891', ('Peter', 'Gerhard'): '+43 234 599890', 'Anna Schmidt': '+49 111 222333'}\n",
      "Phonebook after deletion: {'Max Mustermann': '+43 123 456789', 'Hans Müller': '+49 234 567891', ('Peter', 'Gerhard'): '+43 234 599890', 'Anna Schmidt': '+49 111 222333'}\n",
      "Value of removed entry:  +49 234 567891\n",
      "Anna Schmidt is in the phonebook!\n",
      "\n",
      "\t\t##### keys and values ####\n",
      "\n",
      "Max Mustermann: +43 123 456789\n",
      "('Peter', 'Gerhard'): +43 234 599890\n",
      "Anna Schmidt: +49 111 222333\n",
      "Matthias Bauer: +43 123 456749\n",
      "\n",
      "\t\t#####   only values   ####\n",
      "\n",
      "number: +43 123 456789\n",
      "number: +43 234 599890\n",
      "number: +49 111 222333\n",
      "number: +43 123 456749\n",
      "\n",
      "\t\t#####   only keys     ####\n",
      "\n",
      "name: Max Mustermann\n",
      "name: ('Peter', 'Gerhard')\n",
      "name: Anna Schmidt\n",
      "name: Matthias Bauer\n"
     ]
    }
   ],
   "source": [
    "\n",
    "# Creating a dictionary\n",
    "phonebook = {\n",
    "    \"Max Mustermann\": \"+43 123 456789\",\n",
    "    \"Erika Musterfrau\": \"+43 987 654321\",\n",
    "    \"Hans Müller\": \"+43 234 567890\",\n",
    "    # tuple as key (remember: key must be hashable)\n",
    "    # most immutable types are hashable\n",
    "    (\"Peter\", \"Gerhard\"): \"+43 234 599890\"\n",
    "}\n",
    "\n",
    "# Accessing values by keys\n",
    "print(\"Phone number of Max:\", phonebook[\"Max Mustermann\"])\n",
    "# or\n",
    "print(\"Phone number of Max:\", phonebook.get(\"Max Mustermann\"))\n",
    "\n",
    "# Adding a new entry (remember: mutability!)\n",
    "phonebook[\"Anna Schmidt\"] = \"+49 111 222333\"\n",
    "print(\"Updated phonebook:\", phonebook)\n",
    "\n",
    "# Updating existing value (remember: mutability!)\n",
    "phonebook[\"Hans Müller\"] = \"+49 234 567891\"\n",
    "print(\"Phonebook after update:\", phonebook)\n",
    "\n",
    "# Removing an entry (remember: mutability!)\n",
    "del phonebook[\"Erika Musterfrau\"]\n",
    "print(\"Phonebook after deletion:\", phonebook)\n",
    "\n",
    "# update dictionary with another one\n",
    "another_phonebook = {\n",
    "    \"Matthias Bauer\": \"+43 123 456749\",\n",
    "}\n",
    "phonebook.update(another_phonebook)\n",
    "# question: what happens if another_phonebook contains\n",
    "# e.g. the key \"Max Mustermann\" (already contained in phonebook) \n",
    "# with a different value than in phonebook, and we do \n",
    "# phonebook.update(another_phonebook)? Try it out!\n",
    "\n",
    "# remove an entry and save its value to variable\n",
    "removed = phonebook.pop(\"Hans Müller\")\n",
    "print(\"Value of removed entry: \", removed)\n",
    "\n",
    "# get list of keys/values from dictionary\n",
    "keys = list(phonebook.keys())\n",
    "values = list(phonebook.values())\n",
    "\n",
    "# check if key is in dictionary\n",
    "if \"Anna Schmidt\" in phonebook:\n",
    "    print(\"Anna Schmidt is in the phonebook!\")\n",
    "\n",
    "# Iterating over dictionary items\n",
    "print(\"\\n\\t\\t##### keys and values ####\\n\")\n",
    "for name, number in phonebook.items():\n",
    "    print(f\"{name}: {number}\")\n",
    "\n",
    "# Iterating over dictionary values\n",
    "print(\"\\n\\t\\t#####   only values   ####\\n\")\n",
    "for number in phonebook.values():\n",
    "    print(f\"number: {number}\")\n",
    "\n",
    "# Iterating over dictionary keys\n",
    "print(\"\\n\\t\\t#####   only keys     ####\\n\")\n",
    "for name in phonebook.keys():\n",
    "    print(f\"name: {name}\")\n",
    "# or just\n",
    "for name in phonebook:\n",
    "    continue # to avoid duplicate printing\n",
    "    #print(f\"name: {name}\")"
   ]
  },
  {
   "cell_type": "markdown",
   "id": "82a81f51",
   "metadata": {},
   "source": [
    "\n",
    "## Entpacken von Datenstrukturen\n",
    "Durch das Entpacken kann man Elemente von Sequenzen wie Listen oder Tupeln direkt Variablen zuweisen.\n"
   ]
  },
  {
   "cell_type": "code",
   "execution_count": 7,
   "id": "7e5efa02",
   "metadata": {},
   "outputs": [
    {
     "name": "stdout",
     "output_type": "stream",
     "text": [
      "a = 1, b = 2, c = 3\n",
      "a = 1, rest = [2, 3]\n",
      "x = Max, y = Erika, z = Hans\n",
      "a = 1, c = 3\n",
      "Inner list: [2, 3, 4]\n"
     ]
    }
   ],
   "source": [
    "\n",
    "# Unpack a list\n",
    "numbers = [1, 2, 3]\n",
    "a, b, c = numbers\n",
    "print(f\"a = {a}, b = {b}, c = {c}\")\n",
    "\n",
    "# can also unpack multiple values to one variable\n",
    "a, *rest = numbers\n",
    "print(f\"a = {a}, rest = {rest}\")\n",
    "# question: what happens if we do a, *rest = numbers\n",
    "# with numbers being a list containing only 1 element? try it out!\n",
    "\n",
    "# Unpack a tuple\n",
    "personen = (\"Max\", \"Erika\", \"Hans\")\n",
    "x, y, z = personen\n",
    "print(f\"x = {x}, y = {y}, z = {z}\")\n",
    "\n",
    "# skip elements while unpacking\n",
    "zahlen = [1, 2, 3, 4]\n",
    "a, _, c, _ = zahlen\n",
    "print(f\"a = {a}, c = {c}\")\n",
    "\n",
    "# nested unpacking\n",
    "my_list = [34, 2.3, ([2, 3, 4], \"hello\")]\n",
    "num1, num2, a_tuple = my_list\n",
    "num1, num2, (inner_list, a_string) = my_list\n",
    "print(\"Inner list:\", inner_list)\n"
   ]
  },
  {
   "cell_type": "markdown",
   "id": "9d71a6d4",
   "metadata": {},
   "source": [
    "\n",
    "## Slicing (Ausschnitte) von Sequenzen\n",
    "Slicing ermöglicht es, Teilbereiche von Sequenzen wie Listen, Tupeln oder Strings auszuwählen, zu extrahieren, und zu manipulieren.\n"
   ]
  },
  {
   "cell_type": "code",
   "execution_count": 8,
   "id": "06e4aa16",
   "metadata": {},
   "outputs": [
    {
     "name": "stdout",
     "output_type": "stream",
     "text": [
      "Original list: [0, 1, 2, 3, 4, 5, 6]\n",
      "Slice from index 2 to 4: [3, 4]\n",
      "Every second element: [1, 3]\n",
      "Originale text: Programming\n",
      "First part: Progr\n",
      "Last part: mming\n",
      "Result of reusable slice: rgamn\n",
      "variable numbers after replacing elements:  [8, 7, 6, 7, 9, 0, 5, 6]\n"
     ]
    }
   ],
   "source": [
    "# general syntax for slicing: [start:stop:step]\n",
    "\n",
    "# slicing a list\n",
    "numbers = [0, 1, 2, 3, 4, 5, 6]\n",
    "print(\"Original list:\", numbers)\n",
    "\n",
    "# elements from index 2 (incl.) to element 5 (exclusive)\n",
    "slice1 = zahlen[2:5]\n",
    "print(\"Slice from index 2 to 4:\", slice1)\n",
    "\n",
    "# every second element\n",
    "slice2 = zahlen[::2]\n",
    "print(\"Every second element:\", slice2)\n",
    "\n",
    "# slicing a string\n",
    "text = \"Programming\"\n",
    "print(\"Originale text:\", text)\n",
    "print(\"First part:\", text[:5])\n",
    "print(\"Last part:\", text[-5:])\n",
    "\n",
    "# slice object for reusable slices\n",
    "reusable_slice = slice(1,10,2) # (start, stop, step)\n",
    "print(\"Result of reusable slice:\", text[reusable_slice])\n",
    "\n",
    "# replace elements with slice\n",
    "numbers[:5] = [8, 7, 6, 7, 9, 0] # does not have to be same length!\n",
    "print(\"variable numbers after replacing elements: \", numbers)"
   ]
  },
  {
   "cell_type": "markdown",
   "id": "cca57c16",
   "metadata": {},
   "source": [
    "\n",
    "## Vergleiche zwischen Sequenzen\n"
   ]
  },
  {
   "cell_type": "code",
   "execution_count": 9,
   "id": "ed36e9fe",
   "metadata": {},
   "outputs": [
    {
     "name": "stdout",
     "output_type": "stream",
     "text": [
      "list1: [1, 2, 3]\n",
      "list2: [1, 2, 4]\n",
      "list1 == list2: False\n",
      "list1 < list2: True\n",
      "list1 is list 2: False\n",
      "tuple1: (1, 2, 3)\n",
      "tuple2: (1, 2, 3)\n",
      "tuple1 == tuple2: True\n",
      "Comarison list and tuple with same values: False\n"
     ]
    }
   ],
   "source": [
    "\n",
    "# comparing lists\n",
    "list1 = [1, 2, 3]\n",
    "list2 = [1, 2, 4]\n",
    "print(\"list1:\", list1)\n",
    "print(\"list2:\", list2)\n",
    "print(\"list1 == list2:\", list1 == list2)  # False, because last elements are different\n",
    "print(\"list1 < list2:\", list1 < list2)    # True, because 3 < 4\n",
    "# try it out: play around with the values in the list and see how the truth value\n",
    "# of the boolean expression list1 < list2 changes!\n",
    "\n",
    "# identity\n",
    "list1 = [1, 2, 3]\n",
    "list2 = [1, 2, 3] # identical values inside both lists\n",
    "print(\"list1 is list 2:\", list1 is list2) # False, list1 and list2 don't reference same object\n",
    "\n",
    "# comparing tuples\n",
    "tuple1 = (1, 2, 3)\n",
    "tuple2 = (1, 2, 3)\n",
    "print(\"tuple1:\", tuple1)\n",
    "print(\"tuple2:\", tuple2)\n",
    "print(\"tuple1 == tuple2:\", tuple1 == tuple2)  # True, because all elements are equal and bot tuples have same length\n",
    "\n",
    "# Comparison between different sequence types\n",
    "# tuple and list with same values are still not equal\n",
    "print(\"Comarison list and tuple with same values:\", tuple1 == list1)  # False"
   ]
  }
 ],
 "metadata": {
  "kernelspec": {
   "display_name": "biot5",
   "language": "python",
   "name": "python3"
  },
  "language_info": {
   "codemirror_mode": {
    "name": "ipython",
    "version": 3
   },
   "file_extension": ".py",
   "mimetype": "text/x-python",
   "name": "python",
   "nbconvert_exporter": "python",
   "pygments_lexer": "ipython3",
   "version": "3.8.19"
  }
 },
 "nbformat": 4,
 "nbformat_minor": 5
}
