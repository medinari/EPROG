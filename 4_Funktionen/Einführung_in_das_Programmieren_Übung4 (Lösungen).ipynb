{
 "cells": [
  {
   "cell_type": "markdown",
   "id": "b3fd7d21",
   "metadata": {},
   "source": [
    "# Einführung in das Programmieren - Übung 4\n",
    "\n",
    "### Sie dürfen für diese Übung auch Konzepte/Funktionen verwenden, die wir nicht bereits behandelt haben, aber keine zusätzlichen packages importieren."
   ]
  },
  {
   "cell_type": "markdown",
   "id": "47256bcd",
   "metadata": {},
   "source": [
    "## Aufgabe 1: Liste aufteilen\n",
    "Schreibe eine Funktion `split_list(lst: list, num_sublists: int) -> list`, die eine gegebene Liste in (größtenteils) gleich große Unterlisten aufteilt.\n",
    "\n",
    "**Anforderungen:**\n",
    "- `num_sublists` gibt an, in wie viele Unterlisten `lst` aufgeteilt werden soll.\n",
    "- Die Funktion füllt alle Unterlisten so auf, dass die maximale Differenz in der Größe der Unterlisten 1 beträgt.\n",
    "- Falls `num_sublists` 0 ist, soll die originale Liste zurückgegeben werden.\n",
    "\n",
    "Beispiel-Aufrufe und Ergebnisse:\n",
    "\n",
    "`split_list([0,1,2,3], 2)` → `[[0,2],[1,3]]`\n",
    "\n",
    "`split_list([0,1,2,3], 1)` → `[[0,1,2,3]]`\n",
    "\n",
    "`split_list([0,1,2,3,4,5,6,7], 3)` → `[[0,3,6],[1,4,7],[2,5]]`\n",
    "\n",
    "`split_list([0,1,2,3,4,5,6,7], 0)` → `[0,1,2,3,4,5,6,7]`\n",
    "\n",
    "`split_list([0,1,2,3,4], 2)` → `[[0,2,4],[1,3]]`"
   ]
  },
  {
   "cell_type": "code",
   "execution_count": 88,
   "id": "d7c6fa36",
   "metadata": {},
   "outputs": [],
   "source": [
    "def split_list(lst: list, num_sublists: int) -> list:\n",
    "    if num_sublists == 0:\n",
    "        return lst\n",
    "    out_lists =  []\n",
    "    for _ in range(num_sublists):\n",
    "        out_lists.append([])\n",
    "    # out_lists = [[] for _ in range(num_sublists)] # also possible with list comprehension\n",
    "    for i,element in enumerate(lst):\n",
    "        out_lists[i % num_sublists].append(element)\n",
    "    return out_lists"
   ]
  },
  {
   "cell_type": "code",
   "execution_count": 89,
   "id": "a84ef558",
   "metadata": {},
   "outputs": [
    {
     "data": {
      "text/plain": [
       "[[1, 4, 7], [2, 5, 8], [3, 6]]"
      ]
     },
     "execution_count": 89,
     "metadata": {},
     "output_type": "execute_result"
    }
   ],
   "source": [
    "split_list([1,2,3,4,5,6,7,8], 3)"
   ]
  },
  {
   "cell_type": "markdown",
   "id": "381732f5",
   "metadata": {},
   "source": [
    "## Aufgabe 2: Werte begrenzen\n",
    "Schreibe eine Funktion `clip(*values, min_=0, max_=1) -> list`, die eine Liste von begrenzten Werten zurückgibt, basierend auf beliebig vielen Eingabewerten (`*values`).\n",
    "\n",
    "**Anforderungen:**\n",
    "- Wenn ein Wert kleiner als `min_` ist, füge `min_` zur Liste hinzu.\n",
    "- Wenn ein Wert größer als `max_` ist, füge `max_` zur Liste hinzu.\n",
    "- Andernfalls füge den ursprünglichen Wert zur Liste hinzu.\n",
    "\n",
    "Beispiel-Aufrufe und Ergebnisse:\n",
    "\n",
    "`clip()` → `[]`\n",
    "\n",
    "`clip(1, 2, 0.1, 0)` → `[1, 1, 0.1, 0]`\n",
    "\n",
    "`clip(-1, 0.5)` → `[0, 0.5]`\n",
    "\n",
    "`clip(-1, 0.5, min_=-2)` → `[-1, 0.5]`\n",
    "\n",
    "`clip(-1, 0.5, max_=0.3)` → `[0, 0.3]`\n",
    "\n",
    "`clip(-1, 0.5, min_=2, max_=3)` → `[2, 2]`"
   ]
  },
  {
   "cell_type": "code",
   "execution_count": 87,
   "id": "81f818a1",
   "metadata": {},
   "outputs": [
    {
     "name": "stdout",
     "output_type": "stream",
     "text": [
      "[]\n",
      "[1, 1, 0.1, 0]\n",
      "[0, 0.5]\n",
      "[-1, 0.5]\n",
      "[0, 0.3]\n",
      "[2, 2]\n"
     ]
    }
   ],
   "source": [
    "# your code here\n",
    "def clip(*values, min_=0, max_=1) -> list:\n",
    "    clipped_lst = []\n",
    "\n",
    "    for val in values:\n",
    "        if val < min_:\n",
    "            val = min_\n",
    "        if val > max_:\n",
    "            val=max_\n",
    "        clipped_lst.append(val)\n",
    "\n",
    "    return clipped_lst\n",
    "\n",
    "print(clip())\n",
    "\n",
    "print(clip(1, 2, 0.1, 0))\n",
    "\n",
    "print(clip(-1, 0.5))\n",
    "\n",
    "print(clip(-1, 0.5, min_=-2))\n",
    "\n",
    "print(clip(-1, 0.5, max_=0.3))\n",
    "\n",
    "print(clip(-1, 0.5, min_=2, max_=3))\n",
    "\n",
    "#alternative using list comprehension (more compact, but arguably less readable):\n",
    "def clip(*values, min_=0, max_=1) -> list:\n",
    "    return [min_ if v < min_ else (max_ if v > max_ else v) for v in values]"
   ]
  },
  {
   "cell_type": "markdown",
   "id": "eab1652a",
   "metadata": {},
   "source": [
    "## Aufgabe 3: Runden\n",
    "Schreibe eine Funktion `round_(number, ndigits: int = None)`, die eine gegebene Zahl auf eine bestimmte Anzahl von Dezimalstellen rundet.\n",
    "\n",
    "**Anforderungen:**\n",
    "- Falls `ndigits` `None` ist, soll auf 0 Dezimalstellen gerundet und ein Integer zurückgegeben werden.\n",
    "- Andernfalls wird auf `ndigits` Dezimalstellen gerundet und ein Float zurückgegeben.\n",
    "- Verwende nicht die eingebaute Funktion `round()`.\n",
    "\n",
    "Beispiel-Aufrufe und Ergebnisse:\n",
    "\n",
    "`round_(777.777)` → `778`\n",
    "\n",
    "`round_(777.777, 0)` → `778.0`\n",
    "\n",
    "`round_(777.777, 1)` → `777.8`\n",
    "\n",
    "`round_(777.777, 2)` → `777.78`\n"
   ]
  },
  {
   "cell_type": "code",
   "execution_count": 81,
   "id": "cc058d70",
   "metadata": {},
   "outputs": [],
   "source": [
    "def round_(number, ndigits: int = None):\n",
    "    if ndigits is None:\n",
    "        return int(number + 0.5 if number > 0 else number - 0.5)\n",
    "    else:\n",
    "        factor = 10 ** ndigits\n",
    "        if number > 0:\n",
    "            rounded = number * factor + 0.5\n",
    "        else:\n",
    "            rounded = number * factor - 0.5\n",
    "        # equivalent to:\n",
    "        #rounded = (number * factor + 0.5 if number > 0 else number * factor - 0.5) # more compact\n",
    "        return int(rounded) / factor"
   ]
  },
  {
   "cell_type": "markdown",
   "id": "0c1d2969",
   "metadata": {},
   "source": [
    "## Aufgabe 4: Sortieren\n",
    "Schreibe eine Funktion `sort(elements: list, ascending: bool = True)`, die die angegebene Liste sortiert (in-place, d.h., die Liste wird direkt verändert).\n",
    "Sie können davon ausgehen, dass alle Elemente in der List integers sind!\n",
    "\n",
    "**Anforderungen:**\n",
    "- Die Funktion verwendet den Insertion Sort Algorithmus, um die Liste zu sortieren.\n",
    "- Der Parameter `ascending` gibt an, ob aufsteigend oder absteigend sortiert wird.\n",
    "\n",
    "Beispiel-Aufrufe und Ergebnisse:\n",
    "\n",
    "`sort(some_list)` → `some_list hat nun den Inhalt [0, 1, 3, 4, 5]`\n",
    "\n",
    "`sort(some_list, ascending=False)` → `some_list hat nun den Inhalt [5, 4, 3, 1, 0]`\n"
   ]
  },
  {
   "cell_type": "code",
   "execution_count": 79,
   "id": "c336154c",
   "metadata": {},
   "outputs": [],
   "source": [
    "# your code here\n",
    "def sort(elements: list, ascending: bool = True):\n",
    "    for i in range(1, len(elements)):\n",
    "        current = elements[i]\n",
    "        j = i\n",
    "        if ascending:\n",
    "            while j > 0 and current < elements[j - 1]:\n",
    "                elements[j] = elements[j - 1]\n",
    "                j -= 1\n",
    "        else:\n",
    "            while j > 0 and current > elements[j - 1]:\n",
    "                elements[j] = elements[j - 1]\n",
    "                j -= 1\n",
    "        elements[j] = current\n",
    "    return elements\n",
    "\n",
    "# same, but more compact code:\n",
    "def sort(elements: list, ascending: bool = True):\n",
    "    for i in range(1, len(elements)):\n",
    "        current = elements[i]\n",
    "        j = i\n",
    "        # no code duplication\n",
    "        while j > 0 and ((current < elements[j-1]) if ascending else (current > elements[j-1])):\n",
    "            elements[j] = elements[j - 1]\n",
    "            j -= 1\n",
    "        elements[j] = current\n",
    "    return elements\n"
   ]
  },
  {
   "cell_type": "code",
   "execution_count": 80,
   "id": "4f26c66d",
   "metadata": {},
   "outputs": [
    {
     "data": {
      "text/plain": [
       "[1, 1, 2, 2, 3, 5]"
      ]
     },
     "execution_count": 80,
     "metadata": {},
     "output_type": "execute_result"
    }
   ],
   "source": [
    "sort([1,2,3,5,1,2], True)"
   ]
  }
 ],
 "metadata": {
  "kernelspec": {
   "display_name": "biot5",
   "language": "python",
   "name": "python3"
  },
  "language_info": {
   "codemirror_mode": {
    "name": "ipython",
    "version": 3
   },
   "file_extension": ".py",
   "mimetype": "text/x-python",
   "name": "python",
   "nbconvert_exporter": "python",
   "pygments_lexer": "ipython3",
   "version": "3.7.16"
  }
 },
 "nbformat": 4,
 "nbformat_minor": 5
}
