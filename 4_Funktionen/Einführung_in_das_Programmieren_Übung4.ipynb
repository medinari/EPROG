{
 "cells": [
  {
   "cell_type": "markdown",
   "id": "b3fd7d21",
   "metadata": {},
   "source": [
    "# Einführung in das Programmieren - Übung 4\n",
    "\n",
    "### Sie dürfen für diese Übung auch Konzepte/Funktionen verwenden, die wir nicht bereits behandelt haben, aber keine zusätzlichen packages importieren."
   ]
  },
  {
   "cell_type": "markdown",
   "id": "47256bcd",
   "metadata": {},
   "source": [
    "## Aufgabe 1: Liste aufteilen\n",
    "Schreibe eine Funktion `split_list(lst: list, num_sublists: int) -> list`, die eine gegebene Liste in (größtenteils) gleich große Unterlisten aufteilt.\n",
    "\n",
    "**Anforderungen:**\n",
    "- `num_sublists` gibt an, in wie viele Unterlisten `lst` aufgeteilt werden soll.\n",
    "- Die Funktion füllt alle Unterlisten so auf, dass die maximale Differenz in der Größe der Unterlisten 1 beträgt.\n",
    "- Falls `num_sublists` 0 ist, soll die originale Liste zurückgegeben werden.\n",
    "\n",
    "Beispiel-Aufrufe und Ergebnisse:\n",
    "\n",
    "`split_list([0,1,2,3], 2)` → `[[0,2],[1,3]]`\n",
    "\n",
    "`split_list([0,1,2,3], 1)` → `[[0,1,2,3]]`\n",
    "\n",
    "`split_list([0,1,2,3,4,5,6,7], 3)` → `[[0,3,6],[1,4,7],[2,5]]`\n",
    "\n",
    "`split_list([0,1,2,3,4,5,6,7], 0)` → `[0,1,2,3,4,5,6,7]`\n",
    "\n",
    "`split_list([0,1,2,3,4], 2)` → `[[0,2,4],[1,3]]`"
   ]
  },
  {
   "cell_type": "code",
   "execution_count": null,
   "id": "ee8e02e6",
   "metadata": {},
   "outputs": [],
   "source": [
    "# your code here"
   ]
  },
  {
   "cell_type": "markdown",
   "id": "381732f5",
   "metadata": {},
   "source": [
    "## Aufgabe 2: Werte begrenzen\n",
    "Schreibe eine Funktion `clip(*values, min_=0, max_=1) -> list`, die eine Liste von begrenzten Werten zurückgibt, basierend auf beliebig vielen Eingabewerten (`*values`).\n",
    "\n",
    "**Anforderungen:**\n",
    "- Wenn ein Wert kleiner als `min_` ist, füge `min_` zur Liste hinzu.\n",
    "- Wenn ein Wert größer als `max_` ist, füge `max_` zur Liste hinzu.\n",
    "- Andernfalls füge den ursprünglichen Wert zur Liste hinzu.\n",
    "\n",
    "Beispiel-Aufrufe und Ergebnisse:\n",
    "\n",
    "`clip()` → `[]`\n",
    "\n",
    "`clip(1, 2, 0.1, 0)` → `[1, 1, 0.1, 0]`\n",
    "\n",
    "`clip(-1, 0.5)` → `[0, 0.5]`\n",
    "\n",
    "`clip(-1, 0.5, min_=-2)` → `[-1, 0.5]`\n",
    "\n",
    "`clip(-1, 0.5, max_=0.3)` → `[0, 0.3]`\n",
    "\n",
    "`clip(-1, 0.5, min_=2, max_=3)` → `[2, 2]`"
   ]
  },
  {
   "cell_type": "code",
   "execution_count": null,
   "id": "81f818a1",
   "metadata": {},
   "outputs": [],
   "source": [
    "# your code here"
   ]
  },
  {
   "cell_type": "markdown",
   "id": "eab1652a",
   "metadata": {},
   "source": [
    "## Aufgabe 3: Runden\n",
    "Schreibe eine Funktion `round_(number, ndigits: int = None)`, die eine gegebene Zahl auf eine bestimmte Anzahl von Dezimalstellen rundet.\n",
    "\n",
    "**Anforderungen:**\n",
    "- Falls `ndigits` `None` ist, soll auf 0 Dezimalstellen gerundet und ein Integer zurückgegeben werden.\n",
    "- Andernfalls wird auf `ndigits` Dezimalstellen gerundet und ein Float zurückgegeben.\n",
    "- Verwende nicht die eingebaute Funktion `round()`.\n",
    "\n",
    "Beispiel-Aufrufe und Ergebnisse:\n",
    "\n",
    "`round_(777.777)` → `778`\n",
    "\n",
    "`round_(777.777, 0)` → `778.0`\n",
    "\n",
    "`round_(777.777, 1)` → `777.8`\n",
    "\n",
    "`round_(777.777, 2)` → `777.78`\n"
   ]
  },
  {
   "cell_type": "code",
   "execution_count": null,
   "id": "c3b60fcc",
   "metadata": {},
   "outputs": [],
   "source": [
    "# your code here"
   ]
  },
  {
   "cell_type": "markdown",
   "id": "0c1d2969",
   "metadata": {},
   "source": [
    "## Aufgabe 4: Sortieren\n",
    "Schreibe eine Funktion `sort(elements: list, ascending: bool = True)`, die die angegebene Liste sortiert (in-place, d.h., die Liste wird direkt verändert).\n",
    "Sie können davon ausgehen, dass alle Elemente in der List integers sind!\n",
    "\n",
    "**Anforderungen:**\n",
    "- Die Funktion verwendet den Insertion Sort Algorithmus, um die Liste zu sortieren.\n",
    "- Der Parameter `ascending` gibt an, ob aufsteigend oder absteigend sortiert wird.\n",
    "\n",
    "Beispiel-Aufrufe und Ergebnisse:\n",
    "\n",
    "`sort(some_list)` → `some_list hat nun den Inhalt [0, 1, 3, 4, 5]`\n",
    "\n",
    "`sort(some_list, ascending=False)` → `some_list hat nun den Inhalt [5, 4, 3, 1, 0]`\n"
   ]
  },
  {
   "cell_type": "code",
   "execution_count": null,
   "id": "c336154c",
   "metadata": {},
   "outputs": [],
   "source": [
    "# your code here"
   ]
  }
 ],
 "metadata": {
  "kernelspec": {
   "display_name": "Python 3",
   "language": "python",
   "name": "python3"
  },
  "language_info": {
   "name": "python",
   "version": "3.8.19"
  }
 },
 "nbformat": 4,
 "nbformat_minor": 5
}
