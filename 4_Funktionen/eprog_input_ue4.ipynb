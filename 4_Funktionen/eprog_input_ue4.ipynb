{
 "cells": [
  {
   "cell_type": "markdown",
   "metadata": {},
   "source": [
    "# Einführung in das Programmieren ILV\n",
    "## Input Übung 4 (Funktionen)\n",
    "###### WS 2024/25 | Mohamed Goha, BSc.\n"
   ]
  },
  {
   "cell_type": "markdown",
   "metadata": {},
   "source": [
    "## Funktionen\n",
    "\n",
    "Funktionen können verwendet werden, um wiederverwendbare Codeabschnitte zu erstellen. In umfassenderen Programmen werden sie oft verwendet, um eine Teillösung zu repräsentieren. Das zu lösende Problem wird in meherere kleine Aufgaben geteilt, und für jede kleinere Aufgabe wird eine Funktion geschrieben, die sie löst. Das Hauptprogramm ruft dann diese Funktionen auf, um die gesamte Aufgabe zu lösen. Der Code wird dadurch vor allem übersichtlicher und lesbarer.\n",
    "\n",
    "Ähnlich wie bei Variablen, werden Funktionsnamen typischerweise in Kleinbuchstaben geschrieben, und Wörter werden durch einen Unterstrich getrennt. Funktionen müssen definiert werden, bevor sie aufgerufen werden. Sie werden mit dem keyword \"def\" definiert.\n",
    "\n",
    "Funktionen können einen output haben, müssen sie aber nicht. Werte, die als Ergebnis der Funktion an die Stelle zurückgegeben werden soll, an der sie aufgerufen wurde, werden mit \"return <(Ergebnis)>\" zurückgegeben. \n",
    "\n",
    "Wie alles andere in Python, sind Funktionen Objekte."
   ]
  },
  {
   "cell_type": "code",
   "execution_count": 65,
   "metadata": {},
   "outputs": [],
   "source": [
    "# a function that takes no arguments, computes \n",
    "# gravitational force between two defined masses\n",
    "# think about it: what is the problem with this code?\n",
    "def compute_gravitational_force():\n",
    "    mass1 = 200.0\n",
    "    mass2 = 250.0\n",
    "    r = 1000 # distance between masses\n",
    "    g = 6.674 * 10**-11  # gravitational constant\n",
    "    force = g * ((mass1 * mass2) / r**2)\n",
    "    \n",
    "    return force"
   ]
  },
  {
   "cell_type": "code",
   "execution_count": 66,
   "metadata": {},
   "outputs": [
    {
     "data": {
      "text/plain": [
       "3.337e-12"
      ]
     },
     "execution_count": 66,
     "metadata": {},
     "output_type": "execute_result"
    }
   ],
   "source": [
    "# we can now call this function whenever we need it, \n",
    "# without having to write the same code again\n",
    "\n",
    "# think about it: what is the difference to loops\n",
    "# when it comes to code duplication?\n",
    "force = compute_gravitational_force() # calling the function\n",
    "force"
   ]
  },
  {
   "cell_type": "code",
   "execution_count": 67,
   "metadata": {},
   "outputs": [
    {
     "data": {
      "text/plain": [
       "3.337e-12"
      ]
     },
     "execution_count": 67,
     "metadata": {},
     "output_type": "execute_result"
    }
   ],
   "source": [
    "# because functions are objects, we can work with \n",
    "# references similarly as to what we have already seen for \n",
    "# variables. Here, we create another reference to the same \n",
    "# function\n",
    "another_name_for_func = compute_gravitational_force # without braces!\n",
    "force = another_name_for_func() # calls \"compute_gravitational_force\" func.\n",
    "force\n"
   ]
  },
  {
   "cell_type": "code",
   "execution_count": 2,
   "metadata": {},
   "outputs": [],
   "source": [
    "# We can define a function inside another function \n",
    "# (nested function definition). Look out: The inner function \n",
    "# is not visible outside the outer function!\n",
    "\n",
    "def outer_function(): # enclosing function\n",
    "    def inner_function(): # local function\n",
    "        return 5\n",
    "    \n",
    "    intermediate_result = inner_function()\n",
    "    return intermediate_result * 10\n",
    "\n",
    "result = outer_function()\n",
    "#result_inner = inner_function() # what happens if we run this?"
   ]
  },
  {
   "cell_type": "markdown",
   "metadata": {},
   "source": [
    "### Argumente und Parameter\n",
    "\n",
    "Manchmal wollen wir Funktionen bestimmte Werte übergeben, die innerhalb der Funktion verwendet werden sollen."
   ]
  },
  {
   "cell_type": "code",
   "execution_count": 69,
   "metadata": {},
   "outputs": [
    {
     "name": "stdout",
     "output_type": "stream",
     "text": [
      "force1: 1.6685e-13, force2: 8.551062499999998e-13\n",
      "Same result!: force1: 1.6685e-13, force2: 8.551062499999998e-13\n",
      "Positional then Keyword arg.: force1: 1.6685e-13, force2: 8.551062499999998e-13\n",
      "Keyword then Positional arg.: Error!\n"
     ]
    }
   ],
   "source": [
    "# example: our compute_gravitational_force function\n",
    "# Problem with the function code was that we can only\n",
    "# compute force for hard-coded masses. We want the function\n",
    "# to be more versatile\n",
    "def compute_gravitational_force(mass1, mass2, r):\n",
    "    g = 6.674 * 10**-11  # gravitational constant\n",
    "    force = g * ((mass1 * mass2) / r**2)\n",
    "    \n",
    "    return force\n",
    "\n",
    "# now, we can decide the values of the parameters\n",
    "# everytime we call the function!\n",
    "force1 = compute_gravitational_force(mass1 = 2000, mass2 = 500, r = 20000)\n",
    "force2 = compute_gravitational_force(mass1 = 2500, mass2 = 2050, r = 20000)\n",
    "print(f\"force1: {force1}, force2: {force2}\")\n",
    "\n",
    "# we can also call the function without specifying the parameter (keyword arguments)\n",
    "# this is called using positional arguments\n",
    "# make sure to have the right order (position)!\n",
    "force2 = compute_gravitational_force(2500, 2050, 20000)\n",
    "print(f\"Same result!: force1: {force1}, force2: {force2}\")\n",
    "\n",
    "# we can also mix positional arguments with keyword arguments\n",
    "# Look out: positional arguments must come first!\n",
    "force2 = compute_gravitational_force(2500, 2050, r = 20000) #works\n",
    "print(f\"Positional then Keyword arg.: force1: {force1}, force2: {force2}\")\n",
    "\n",
    "# this leads to an error (uncomment to try it out)\n",
    "#force2 = compute_gravitational_force(mass1 = 2500, 2050, 20000)\n",
    "print(f\"Keyword then Positional arg.: Error!\")"
   ]
  },
  {
   "cell_type": "code",
   "execution_count": 7,
   "metadata": {},
   "outputs": [
    {
     "name": "stdout",
     "output_type": "stream",
     "text": [
      "force1 (same as above): 1.6685e-13, force2 (different now): 1.1113562499999999e-12\n"
     ]
    }
   ],
   "source": [
    "# we can also set default arguments, that are used if \n",
    "# no argument was given for a parameter. Default arguments \n",
    "# make parameters optional. (you don't have to provide a value)\n",
    "# let's say we wanted to simulate the result if the grav. const.\n",
    "# was different - makes sense to make it a parameter with a default value\n",
    "def compute_gravitational_force(mass1, mass2, r, g = 6.674 * 10**-11):\n",
    "    force = g * ((mass1 * mass2) / r**2)\n",
    "    return force\n",
    "\n",
    "force1 = compute_gravitational_force(mass1 = 2000, mass2 = 500, r = 20000) # using default value - same result as above\n",
    "force2 = compute_gravitational_force(mass1 = 2500, mass2 = 2050, r = 20000, g = 8.674 * 10**-11)\n",
    "print(f\"force1 (same as above): {force1}, force2 (different now): {force2}\")"
   ]
  },
  {
   "cell_type": "code",
   "execution_count": 96,
   "metadata": {},
   "outputs": [
    {
     "name": "stdout",
     "output_type": "stream",
     "text": [
      "\t\tWithout safer function design:\n",
      "original list: [1, 2, 3], doubled list: [2, 4, 6]\n",
      "\t\tAfter changing default list outside of the function:\n",
      "original list: [1, 4, 3], doubled list: [2, 8, 6]\n",
      "\n",
      "\t\tWith safer function design:\n",
      "original list: [1, 2, 3], doubled list: [2, 4, 6]\n",
      "\t\tAfter changing default list outside of the function:\n",
      "original list: [1, 2, 3], doubled list: [2, 4, 6]\n"
     ]
    }
   ],
   "source": [
    "# Look out: default values are only set at function definition\n",
    "# If you change the value afterwards, this can have unintended side effects\n",
    "\n",
    "def double_values(list_of_values = [1,2,3]):\n",
    "    doubled = [value * 2 for value in list_of_values]\n",
    "    return list_of_values, doubled\n",
    "\n",
    "original_list, doubled_result = double_values()\n",
    "print(f\"\\t\\tWithout safer function design:\\noriginal list: {original_list}, doubled list: {doubled_result}\")\n",
    "\n",
    "original_list[1] = 4\n",
    "\n",
    "original_list, doubled_result = double_values()\n",
    "print(f\"\\t\\tAfter changing default list outside of the function:\\noriginal list: {original_list}, doubled list: {doubled_result}\")\n",
    "\n",
    "# We can avoid this pitfall by using None as default value\n",
    "# and creating the list inside the function\n",
    "# this works because previously the default value itself \n",
    "# was altered, but None is immutable so it cannot be altered\n",
    "def double_values(list_of_values = None):\n",
    "    if list_of_values is None:\n",
    "        list_of_values = [1, 2, 3]\n",
    "    doubled = [value * 2 for value in list_of_values]\n",
    "    return list_of_values, doubled\n",
    "\n",
    "original_list, doubled_result = double_values()\n",
    "print(f\"\\n\\t\\tWith safer function design:\\noriginal list: {original_list}, doubled list: {doubled_result}\")\n",
    "\n",
    "original_list[1] = 4\n",
    "\n",
    "original_list, doubled_result = double_values()\n",
    "print(f\"\\t\\tAfter changing default list outside of the function:\\noriginal list: {original_list}, doubled list: {doubled_result}\")"
   ]
  },
  {
   "cell_type": "code",
   "execution_count": 8,
   "metadata": {},
   "outputs": [
    {
     "name": "stdout",
     "output_type": "stream",
     "text": [
      "positional arguments:  ('these', 'are')\n",
      "keyword arguments:  {'a': 'some', 'b': 'arguments'}\n",
      "\n",
      " \t\tMixed:\n",
      "\n",
      "a: these, b: arguments\n",
      "positional arguments:  ('are',)\n",
      "keyword arguments:  {'c': '!'}\n"
     ]
    }
   ],
   "source": [
    "# sometimes we don't know which / how many arguments our function will receive \n",
    "# when we call it. In this case, we can use *args to collect positional arguments, \n",
    "# and **kwargs to collect keyword arguments. \n",
    "# (other valid names instead of args,kwargs can also be used)\n",
    "def some_function(*args, **kwargs):\n",
    "    print(\"positional arguments: \", args)\n",
    "    print(\"keyword arguments: \", kwargs)\n",
    "some_function(\"these\", \"are\", a=\"some\", b = \"arguments\")\n",
    "\n",
    "# a function can also have a mix of \"normal\" and variable parameters\n",
    "def some_function_mixed(a, *args, b, **kwargs):\n",
    "    print(\"\\n \\t\\tMixed:\\n\")\n",
    "    print(f\"a: {a}, b: {b}\")\n",
    "    print(\"positional arguments: \", args)\n",
    "    print(\"keyword arguments: \", kwargs)\n",
    "\n",
    "# b can now only be passed as a keyword argument \n",
    "# since its after *args in the function definition\n",
    "some_function_mixed(\"these\", \"are\", b = \"arguments\", c = \"!\")\n",
    "\n",
    "# some_function_mixed(\"these\", \"are\", a = \"some\", b = \"arguments\", c = \"!\") # can't do this - a is already defined!"
   ]
  },
  {
   "cell_type": "code",
   "execution_count": 18,
   "metadata": {},
   "outputs": [
    {
     "name": "stdout",
     "output_type": "stream",
     "text": [
      "a: 1, b: 2\n",
      "a: 1, b: 2\n",
      "a: 1, b: 2, c: 3\n"
     ]
    }
   ],
   "source": [
    "# arguments can be passed as unpacked lists/tuples (pos. args) or dictionaries (keyw. args)\n",
    "# using * (pos. args) or ** (keyw. args)\n",
    "\n",
    "# positional arguments: \n",
    "def some_function(a, b):\n",
    "    print(f\"a: {a}, b: {b}\")\n",
    "    \n",
    "list_of_args = [1,2]\n",
    "some_function(*list_of_args) # equal to some_function(1, 2)\n",
    "\n",
    "dict_of_args = {\"a\": 1, \"b\": 2}\n",
    "some_function(**dict_of_args)\n",
    "\n",
    "# mixed\n",
    "dict_of_args = {\"b\": 2, \"c\": 3}\n",
    "def some_function(a, b, c):\n",
    "    print(f\"a: {a}, b: {b}, c: {c}\")\n",
    "some_function(1, **dict_of_args)\n"
   ]
  },
  {
   "cell_type": "markdown",
   "metadata": {},
   "source": [
    "### Return - Werte\n",
    "\n",
    "Python Funktionen können einen Wert zurückgeben, müssen sie aber nicht. Standardmäßig wird None returned, außer \n",
    "es wird etwas anderes mittels return statement returned."
   ]
  },
  {
   "cell_type": "code",
   "execution_count": 22,
   "metadata": {},
   "outputs": [
    {
     "name": "stdout",
     "output_type": "stream",
     "text": [
      "(1, 2, 3)\n"
     ]
    }
   ],
   "source": [
    "def some_function():\n",
    "    return 1, 2, 3\n",
    "result = some_function() # multiple values are returned as a tuple\n",
    "print(result)"
   ]
  },
  {
   "cell_type": "markdown",
   "metadata": {},
   "source": [
    "Durch das return statement wird auch die Funktion verlassen, danach wird kein Code aus der Funktion mehr ausgeführt"
   ]
  },
  {
   "cell_type": "code",
   "execution_count": 9,
   "metadata": {},
   "outputs": [],
   "source": [
    "def some_function(a: bool):\n",
    "    if a:\n",
    "        return \n",
    "    print(\"a was False!\")\n",
    "some_function(True) # doesn't print anything"
   ]
  },
  {
   "cell_type": "markdown",
   "metadata": {},
   "source": [
    "### Type Hinting"
   ]
  },
  {
   "cell_type": "code",
   "execution_count": null,
   "metadata": {},
   "outputs": [],
   "source": [
    "# for readability purposes, we can hint at what kind of data type we expect for our parameters\n",
    "# and specify which data type we expect to be returning. Function documentation allows\n",
    "# for an overview about what the function does and how to use it\n",
    "\n",
    "def add(a: int, b: int = 1) -> int:\n",
    "    \"\"\"Adds two variables (small description).\n",
    "\n",
    "    This function adds two variables via the ``+`` operator (long description).\n",
    "\n",
    "    Parameters\n",
    "    -------------\n",
    "    a : int\n",
    "        First argument.\n",
    "    b : int\n",
    "        Optional second argument. Default: 1\n",
    "\n",
    "    Returns\n",
    "    -------------\n",
    "    int\n",
    "        Returns ``a + b``.\n",
    "    \"\"\"\n",
    "    c = a + b\n",
    "    return c"
   ]
  }
 ],
 "metadata": {
  "kernelspec": {
   "display_name": "dlnn2",
   "language": "python",
   "name": "python3"
  },
  "language_info": {
   "codemirror_mode": {
    "name": "ipython",
    "version": 3
   },
   "file_extension": ".py",
   "mimetype": "text/x-python",
   "name": "python",
   "nbconvert_exporter": "python",
   "pygments_lexer": "ipython3",
   "version": "3.7.16"
  }
 },
 "nbformat": 4,
 "nbformat_minor": 2
}
