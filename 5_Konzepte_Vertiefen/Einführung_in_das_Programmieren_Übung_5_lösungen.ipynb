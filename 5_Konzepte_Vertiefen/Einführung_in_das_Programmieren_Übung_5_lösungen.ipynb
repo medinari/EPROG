{
 "cells": [
  {
   "cell_type": "markdown",
   "id": "3047a06e",
   "metadata": {},
   "source": [
    "# Einführung in das Programmieren - Übung  5\n",
    "\n",
    "### Bitte lösen Sie die folgenden Aufgaben. Falls erforderlich, dürfen Sie auch Konzepte oder Funktionen verwenden, die nicht im Unterricht behandelt wurden, aber keine zusätzlichen packages importieren."
   ]
  },
  {
   "cell_type": "markdown",
   "id": "9adfebe5",
   "metadata": {},
   "source": [
    "## Aufgabe 1: Palindrom-Erkennung\n",
    "\n",
    "Schreiben Sie eine Funktion `is_palindrome(word: str) -> bool`, die überprüft, ob ein eingegebenes Wort ein Palindrom ist.\n",
    "\n",
    "**Anforderungen:**\n",
    "\n",
    "- Ein Palindrom ist ein Wort, das vorwärts und rückwärts gleich gelesen werden kann.\n",
    "\n",
    "- Ignorieren Sie Leerzeichen und Groß-/Kleinschreibung.\n",
    "\n",
    "\n",
    "\n",
    "Beispiel-Aufrufe und Ergebnisse:\n",
    "\n",
    "\n",
    "\n",
    "`is_palindrome(\"Lagerregal\")` → `True`\n",
    "\n",
    "`is_palindrome(\"Python\")` → `False`"
   ]
  },
  {
   "cell_type": "code",
   "execution_count": 9,
   "id": "33221dc5",
   "metadata": {},
   "outputs": [],
   "source": [
    "# your code here\n",
    "def is_palindrome(word: str) -> bool:\n",
    "    word_lower = word.lower().replace(\" \", \"\")\n",
    "    return word_lower == word_lower[::-1]"
   ]
  },
  {
   "cell_type": "markdown",
   "id": "0b10de5d",
   "metadata": {},
   "source": [
    "## Aufgabe 2: Zählen von Wörtern\n",
    "\n",
    "Schreiben Sie eine Funktion `count_words(text: str) -> dict`, die die Anzahl der Vorkommen jedes Wortes in einem Text zählt.\n",
    "\n",
    "**Anforderungen:**\n",
    "\n",
    "- Die Wörter sollen unabhängig von Groß-/Kleinschreibung gezählt werden.\n",
    "\n",
    "- Rückgabe soll ein Dictionary sein, wobei der Schlüssel das Wort und der Wert die Anzahl der Vorkommen ist.\n",
    "\n",
    "\n",
    "\n",
    "Beispiel-Aufruf und Ergebnis:\n",
    "\n",
    "\n",
    "\n",
    "`count_words(\"Das ist ein Test. Test ist gut.\")` → `{'das': 1, 'ist': 2, 'ein': 1, 'test': 2, 'gut': 1}`"
   ]
  },
  {
   "cell_type": "code",
   "execution_count": null,
   "id": "0f69dc03",
   "metadata": {},
   "outputs": [
    {
     "data": {
      "text/plain": [
       "{'das': 1, 'ist': 2, 'ein': 1, 'test': 2, 'gut': 1}"
      ]
     },
     "execution_count": 23,
     "metadata": {},
     "output_type": "execute_result"
    }
   ],
   "source": [
    "def count_words(text: str) -> dict:\n",
    "    counter = {}\n",
    "    clean_text = \"\"\n",
    "    \n",
    "    # only keep alphabetic characters and spaces (will remove numbers!)\n",
    "    for char in text.lower():\n",
    "        # we keep the space so we can split the words later\n",
    "        if char.isalpha() or char.isspace():\n",
    "            clean_text += char\n",
    "\n",
    "    # creates list of words by splitting on the spaces\n",
    "    words = clean_text.split()\n",
    "\n",
    "    # if the key exists, increment counter, else add a new entry to the dictionary\n",
    "    for word in words:\n",
    "        try:\n",
    "            counter[word] += 1\n",
    "        except KeyError:\n",
    "            counter[word] = 1\n",
    "\n",
    "    # more compact and elegant, but arguably less expressive:\n",
    "    # for word in words:\n",
    "    #     counter[word] = counter.get(word, 0) + 1\n",
    "    return counter\n",
    "count_words(\"Das ist ein 3 Test. Test ist gut.\")"
   ]
  },
  {
   "cell_type": "markdown",
   "id": "73c7284a",
   "metadata": {},
   "source": [
    "## Aufgabe 3: Matrixtransposition\n",
    "\n",
    "Schreiben Sie eine Funktion `transpose_matrix(matrix: list) -> list`, die die Transponierte einer gegebenen Matrix berechnet.\n",
    "\n",
    "**Anforderungen:**\n",
    "\n",
    "- Die Funktion soll eine neue Matrix zurückgeben, die durch die Transposition der ursprünglichen Matrix entsteht.\n",
    "\n",
    "- Eine Matrix wird als eine Liste von Listen dargestellt.\n",
    "\n",
    "- Sie können davon ausgehen, dass alle inneren Listen die gleiche Länge haben (rechteckige Matrix).\n",
    "\n",
    "\n",
    "\n",
    "**Erwarteter Input:**\n",
    "\n",
    "- `matrix` ist eine Liste von Listen (2D-Liste), wobei jedes Element eine Liste von ganzen Zahlen (integers) ist.\n",
    "\n",
    "\n",
    "\n",
    "Beispiel-Aufrufe und Ergebnisse:\n",
    "\n",
    "- `transpose_matrix([[1, 2, 3], [4, 5, 6]])` → `[[1, 4], [2, 5], [3, 6]]`\n",
    "\n",
    "- `transpose_matrix([[1, 2], [3, 4], [5, 6]])` → `[[1, 3, 5], [2, 4, 6]]`\n"
   ]
  },
  {
   "cell_type": "code",
   "execution_count": 32,
   "id": "597d847d",
   "metadata": {},
   "outputs": [
    {
     "data": {
      "text/plain": [
       "[[1, 4], [2, 5], [3, 6]]"
      ]
     },
     "execution_count": 32,
     "metadata": {},
     "output_type": "execute_result"
    }
   ],
   "source": [
    "# your code here\n",
    "def transpose_matrix(matrix: list) -> list:\n",
    "    # make a copy so we do not change values of passed matrix\n",
    "    transposed_matrix = []\n",
    "    num_cols = len(matrix[0])\n",
    "    for _ in range(num_cols):\n",
    "        transposed_matrix.append([])\n",
    "    # or\n",
    "    #transposed_matrix = [[] for col in range(num_cols)]\n",
    "    for row in matrix:\n",
    "        for col_idx, col_val in enumerate(row):\n",
    "            transposed_matrix[col_idx].append(col_val)\n",
    "    return transposed_matrix\n",
    "transpose_matrix([[1, 2, 3], [4, 5, 6]])\n",
    "transpose_matrix([[1, 2], [3, 4], [5, 6]])\n",
    "\n"
   ]
  },
  {
   "cell_type": "markdown",
   "id": "55627e6e",
   "metadata": {},
   "source": [
    "## Aufgabe 4: N-Gramm-Generierung\n",
    "\n",
    "Schreiben Sie eine Funktion `generate_n_grams(text: str, n: int) -> list`, die eine Liste von N-Grammen (Folgen von `n` aufeinanderfolgenden Wörtern) aus einem gegebenen Text generiert.\n",
    "\n",
    "**Anforderungen:**\n",
    "\n",
    "- Die Funktion soll den Text in Wörter zerlegen und N-Gramme mit der Länge `n` erstellen.\n",
    "\n",
    "- Wenn `n` größer ist als die Anzahl der Wörter im Text, soll eine leere Liste zurückgegeben werden.\n",
    "\n",
    "- Groß-/Kleinschreibung soll ignoriert werden.\n",
    "\n",
    "\n",
    "\n",
    "**Erwarteter Input:**\n",
    "\n",
    "- `text` ist eine Zeichenkette (string), die Wörter und Leerzeichen enthält.\n",
    "\n",
    "- `n` ist eine positive ganze Zahl (integer), die angibt, wie viele Wörter ein N-Gramm umfassen soll.\n",
    "\n",
    "\n",
    "\n",
    "Beispiel-Aufrufe und Ergebnisse:\n",
    "\n",
    "- `generate_n_grams(\"das ist ein einfacher Test\", 2)` → `[[\"das\", \"ist\"], [\"ist\", \"ein\"], [\"ein\", \"einfacher\"], [\"einfacher\", \"test\"]]`\n",
    "\n",
    "- `generate_n_grams(\"hello world\", 3)` → `[]`\n",
    "\n",
    "- `generate_n_grams(\"n-gram test case\", 1)` → `[[\"n-gram\"], [\"test\"], [\"case\"]]`\n"
   ]
  },
  {
   "cell_type": "code",
   "execution_count": 4,
   "id": "cbbe1ec8",
   "metadata": {},
   "outputs": [
    {
     "name": "stdout",
     "output_type": "stream",
     "text": [
      "[['das', 'ist'], ['ist', 'ein'], ['ein', 'einfacher'], ['einfacher', 'test']]\n",
      "[]\n",
      "[['n-gram'], ['test'], ['case']]\n"
     ]
    }
   ],
   "source": [
    "# your code here\n",
    "def generate_n_grams(text: str, n: int) -> list:\n",
    "\n",
    "    n_grams = []\n",
    "    words = text.lower().split()\n",
    "    word_count = len(words)\n",
    "\n",
    "    if n > word_count:\n",
    "        return []\n",
    "    \n",
    "    for start in range(word_count):\n",
    "        end = start + n\n",
    "        if end > word_count:\n",
    "            return n_grams\n",
    "        n_grams.append(words[start:end])\n",
    "    return n_grams\n",
    "\n",
    "print(generate_n_grams(\"das ist ein einfacher Test\", 2))\n",
    "print(generate_n_grams(\"hello world\", 3))\n",
    "print(generate_n_grams(\"n-gram test case\", 1))"
   ]
  },
  {
   "cell_type": "markdown",
   "id": "3693fc09",
   "metadata": {},
   "source": [
    "## Aufgabe 5: Buchstabenhäufigkeit analysieren\n",
    "\n",
    "Schreiben Sie eine Funktion `letter_frequency_analysis(text: str) -> dict`, die die Häufigkeit jedes Buchstabens in einem gegebenen Text berechnet und ein Dictionary mit den Buchstaben als Schlüssel und deren Häufigkeit als Wert zurückgibt.\n",
    "\n",
    "**Anforderungen:**\n",
    "\n",
    "- Groß-/Kleinschreibung wird ignoriert (d.h., 'A' und 'a' zählen als derselbe Buchstabe).\n",
    "\n",
    "- Nicht-alphabetische Zeichen sollen ignoriert werden.\n",
    "\n",
    "\n",
    "\n",
    "**Erwarteter Input:**\n",
    "\n",
    "- `text` ist eine Zeichenkette (string), die beliebige Zeichen enthält.\n",
    "\n",
    "\n",
    "\n",
    "Beispiel-Aufrufe und Ergebnisse:\n",
    "\n",
    "- `letter_frequency_analysis(\"Hello World!\")` → `{'h': 1, 'e': 1, 'l': 3, 'o': 2, 'w': 1, 'r': 1, 'd': 1}`\n",
    "\n",
    "- `letter_frequency_analysis(\"Das ist ein Test!\")` → `{'d': 1, 'a': 1, 's': 3, 'i': 2, 't': 3, 'e': 2, 'n': 1}`\n"
   ]
  },
  {
   "cell_type": "code",
   "execution_count": 24,
   "id": "a2d9462e",
   "metadata": {},
   "outputs": [
    {
     "name": "stdout",
     "output_type": "stream",
     "text": [
      "{'h': 1, 'e': 1, 'l': 3, 'o': 2, 'w': 1, 'r': 1, 'd': 1}\n",
      "{'d': 1, 'a': 1, 's': 3, 'i': 2, 't': 3, 'e': 2, 'n': 1}\n"
     ]
    }
   ],
   "source": [
    "# your code here\n",
    "def letter_frequency_analysis(text : str):\n",
    "    letter_frequencies = {}\n",
    "    for letter in text.lower():\n",
    "        if letter.isalpha():\n",
    "            letter_frequencies[letter] = letter_frequencies.get(letter, 0) + 1\n",
    "    return letter_frequencies\n",
    "print(letter_frequency_analysis(\"Hello World!\"))\n",
    "print(letter_frequency_analysis(\"Das ist ein Test!\"))"
   ]
  },
  {
   "cell_type": "markdown",
   "id": "bdab6df3",
   "metadata": {},
   "source": [
    "## Aufgabe 6: Zahlen in Wörter umwandeln\n",
    "\n",
    "Schreiben Sie eine Funktion `number_to_words(n: int) -> str`, die eine gegebene Zahl in ihre Wortdarstellung umwandelt.\n",
    "\n",
    "**Anforderungen:**\n",
    "\n",
    "- Die Funktion soll Zahlen zwischen 0 und 99 unterstützen.\n",
    "\n",
    "\n",
    "\n",
    "Beispiel-Aufrufe und Ergebnisse:\n",
    "\n",
    "\n",
    "\n",
    "`number_to_words(42)` → `\"zweiundvierzig\"`\n",
    "\n",
    "`number_to_words(99)` → `\"neunundneunzig\"`\n"
   ]
  },
  {
   "cell_type": "code",
   "execution_count": null,
   "id": "00d21056",
   "metadata": {},
   "outputs": [],
   "source": [
    "# your code here"
   ]
  },
  {
   "cell_type": "markdown",
   "id": "7f4acd41",
   "metadata": {},
   "source": [
    "## Aufgabe 7: Hamming-Distanz zwischen zwei DNA-Sequenzen\n",
    "\n",
    "Schreiben Sie eine Funktion `hamming_distance(dna1: str, dna2: str) -> int`, die die Hamming-Distanz zwischen zwei DNA-Sequenzen berechnet.\n",
    "\n",
    "**Anforderungen:**\n",
    "\n",
    "- Die Hamming-Distanz ist die Anzahl der Positionen, an denen zwei gleich lange DNA-Sequenzen unterschiedliche Nukleotide aufweisen.\n",
    "\n",
    "- Wenn die Sequenzen unterschiedliche Längen haben, soll die Funktion `None` zurückgeben.\n",
    "\n",
    "- Groß-/Kleinschreibung soll ignoriert werden.\n",
    "\n",
    "\n",
    "\n",
    "**Erwarteter Input:**\n",
    "\n",
    "- `dna1` und `dna2` sind Zeichenketten (strings), die aus den Nukleotiden A, T, C und G bestehen.\n",
    "\n",
    "\n",
    "\n",
    "Beispiel-Aufrufe und Ergebnisse:\n",
    "\n",
    "- `hamming_distance(\"GAGCCT\", \"GATCCT\")` → `1`\n",
    "\n",
    "- `hamming_distance(\"AAAA\", \"AAAT\")` → `1`\n",
    "\n",
    "- `hamming_distance(\"AGCT\", \"TCGA\")` → `4`\n",
    "\n",
    "- `hamming_distance(\"AGCT\", \"AGCTT\")` → `None` (unterschiedliche Längen)\n"
   ]
  },
  {
   "cell_type": "code",
   "execution_count": 32,
   "id": "a5b54b78",
   "metadata": {},
   "outputs": [
    {
     "name": "stdout",
     "output_type": "stream",
     "text": [
      "1\n",
      "1\n",
      "4\n",
      "None\n"
     ]
    }
   ],
   "source": [
    "# your code here\n",
    "def hamming_distance(dna1:str, dna2: str) -> int:\n",
    "    \n",
    "    if len(dna1) != len(dna2):\n",
    "        return None\n",
    "    \n",
    "    hamming = 0\n",
    "    seq1 = dna1.lower()\n",
    "    seq2 = dna2.lower()\n",
    "\n",
    "    for pos1, pos2 in zip(seq1,seq2):\n",
    "        if pos1 != pos2:\n",
    "            hamming += 1\n",
    "            \n",
    "    #or\n",
    "\n",
    "    # for idx, pos in enumerate(seq1):\n",
    "    #     if pos != seq2[idx]:\n",
    "    #         hamming += 1\n",
    "    return hamming\n",
    "\n",
    "print(hamming_distance(\"GAGCCT\", \"GATCCT\"))\n",
    "\n",
    "print(hamming_distance(\"AAAA\", \"AAAT\"))\n",
    "\n",
    "print(hamming_distance(\"AGCT\", \"TCGA\"))\n",
    "\n",
    "print(hamming_distance(\"AGCT\", \"AGCTT\"))"
   ]
  },
  {
   "cell_type": "markdown",
   "id": "fbc0383f",
   "metadata": {},
   "source": [
    "## Aufgabe 8: Motif-Suche in DNA-Sequenzen\n",
    "\n",
    "Schreiben Sie eine Funktion `find_motif(dna: str, motif: str) -> list`, die alle Startpositionen eines Motifs (einer kürzeren Sequenz) in einer DNA-Sequenz findet.\n",
    "\n",
    "**Anforderungen:**\n",
    "\n",
    "- Die Startpositionen sollen 1-basiert zurückgegeben werden (d.h., die erste Position ist 1, nicht 0).\n",
    "\n",
    "- Wenn das Motiv nicht in der Sequenz vorkommt, soll eine leere Liste zurückgegeben werden.\n",
    "\n",
    "- Groß-/Kleinschreibung soll ignoriert werden.\n",
    "\n",
    "\n",
    "\n",
    "**Erwarteter Input:**\n",
    "\n",
    "- `dna` ist eine Zeichenkette (string), die aus den Nukleotiden A, T, C und G besteht.\n",
    "\n",
    "- `motif` ist eine kürzere Zeichenkette (string), die ebenfalls aus A, T, C und G besteht.\n",
    "\n",
    "\n",
    "\n",
    "Beispiel-Aufrufe und Ergebnisse:\n",
    "\n",
    "- `find_motif(\"ACGTACGTAC\", \"CGT\")` → `[2, 6]`\n",
    "\n",
    "- `find_motif(\"AAAAA\", \"AA\")` → `[1, 2, 3, 4]`\n",
    "\n",
    "- `find_motif(\"ATGCGC\", \"GG\")` → `[]` (Motif nicht vorhanden)\n"
   ]
  },
  {
   "cell_type": "code",
   "execution_count": 44,
   "id": "5e957c09",
   "metadata": {},
   "outputs": [
    {
     "name": "stdout",
     "output_type": "stream",
     "text": [
      "[2, 6]\n",
      "[1, 2, 3, 4]\n",
      "[]\n"
     ]
    }
   ],
   "source": [
    "# your code here\n",
    "def find_motif(dna: str, motif: str) -> list:\n",
    "    # not a requirement here\n",
    "    if not all([dna, motif]):\n",
    "        raise ValueError(\"Both, dna and motif have to be given\")\n",
    "    \n",
    "    dna, motif = dna.upper(), motif.upper()\n",
    "    start_pos = motif[0]\n",
    "    match_positions = []\n",
    "\n",
    "    for idx, pos in enumerate(dna.upper()):\n",
    "        if pos == start_pos:\n",
    "            start, end = idx, idx + (len(motif))\n",
    "            if dna[start : end] == motif:\n",
    "                match_positions.append(idx+1)\n",
    "    return match_positions\n",
    "\n",
    "print(find_motif(\"ACGTACGTAC\", \"CGT\"))\n",
    "print(find_motif(\"AAAAA\", \"AA\"))\n",
    "print(find_motif(\"ATGCGC\", \"GG\"))\n"
   ]
  }
 ],
 "metadata": {
  "kernelspec": {
   "display_name": "biot5",
   "language": "python",
   "name": "python3"
  },
  "language_info": {
   "codemirror_mode": {
    "name": "ipython",
    "version": 3
   },
   "file_extension": ".py",
   "mimetype": "text/x-python",
   "name": "python",
   "nbconvert_exporter": "python",
   "pygments_lexer": "ipython3",
   "version": "3.7.16"
  }
 },
 "nbformat": 4,
 "nbformat_minor": 5
}
