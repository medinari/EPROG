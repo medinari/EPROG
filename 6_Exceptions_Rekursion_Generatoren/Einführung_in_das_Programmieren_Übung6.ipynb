{
 "cells": [
  {
   "cell_type": "markdown",
   "id": "afb6aad0",
   "metadata": {},
   "source": [
    "# Einführung in das Programmieren - Übung 6"
   ]
  },
  {
   "cell_type": "markdown",
   "id": "1b7f0b41",
   "metadata": {},
   "source": [
    "## Aufgabe 1: Summierung von verschachtelten Listen\n",
    "\n",
    "Schreiben Sie eine Funktion `sub_summarize(nested: list, sub_sums: list) -> int`, die die Summe der Eingabeliste `nested` und aller ihrer beliebig verschachtelten Unterlisten berechnet. \n",
    "Die berechneten Summen jeder Unterliste werden in der Liste `sub_sums` gespeichert, und die Summe der gesamten Liste wird als Rückgabewert zurückgegeben. Verwenden Sie Rekursion, um diese Funktion zu implementieren.\n",
    "\n",
    "**Beispiel-Aufrufe und Ergebnisse:**\n",
    "\n",
    "```\n",
    "nested = [1, 2, 3, [4, [5, 6], 7], 8, [9, 10]]\n",
    "sub_sums = []\n",
    "sub_summarize(nested, sub_sums) -> 55\n",
    "sub_sums -> [11, 22, 19, 55]\n",
    "```\n",
    "\n",
    "**Hinweise:**\n",
    "- Sie können überprüfen, ob ein Objekt ein bestimmter Datentyp ist, indem Sie `isinstance(OBJECT, TYPE)` verwenden."
   ]
  },
  {
   "cell_type": "code",
   "execution_count": null,
   "id": "80d36277",
   "metadata": {},
   "outputs": [],
   "source": [
    "# your code here"
   ]
  },
  {
   "cell_type": "markdown",
   "id": "d99b3768",
   "metadata": {},
   "source": [
    "## Aufgabe 2: Verzeichnisinhalt auflisten\n",
    "\n",
    "Schreiben Sie eine Funktion `print_directory(dir_path: str)`, die rekursiv alle Dateien und Unterverzeichnisse in einem angegebenen Verzeichnis auflistet und ausgibt. \n",
    "Falls `dir_path` ein Pfad zu einer Datei ist, soll die Funktion die Meldung \"`dir_path` ist eine Datei, kein Verzeichnis\" ausgeben. \n",
    "Falls `dir_path` ein Verzeichnis ist, soll die Funktion das Verzeichnis und alle enthaltenen Dateien und Unterverzeichnisse rekursiv auflisten. \n",
    "Falls der Pfad ungültig ist, soll \"`dir_path` ist ungültig\" ausgegeben werden.\n",
    "\n",
    "**Beispiel-Ausgabe für ein Verzeichnis:**\n",
    "\n",
    "```\n",
    "path_to_the_directory_d0\n",
    "d0.1\n",
    "    d0.1.1\n",
    "        f0.1.1.txt\n",
    "        f0.1.2.txt\n",
    "    d0.2\n",
    "        d0.2.1\n",
    "            f0.2.1.txt\n",
    "            f0.2.2.txt\n",
    "```\n",
    "\n",
    "- Nutzen Sie für Dateien und Unterverzeichnisse den Basisnamen, für das Wurzelverzeichnis jedoch den vollständigen Pfad.\n",
    "- Verwenden Sie keine built-in Funktionen, um Dateien und Verzeichnisse aufzulisten, außer folgende:\n",
    "  - `os.path.isfile`\n",
    "  - `os.path.isdir`\n",
    "  - `os.path.basename`\n",
    "  - `os.listdir`\n",
    "  - `os.path.join`\n",
    "\n",
    "**Hinweise:**\n",
    "- Sie können eine rekursive Funktion `print_directory_recursively(dir_path: str, level: int)` implementieren, bei der `level` die Tiefe eines (Unter-)Verzeichnisses angibt."
   ]
  },
  {
   "cell_type": "code",
   "execution_count": null,
   "id": "58e6bc8a",
   "metadata": {},
   "outputs": [],
   "source": [
    "# your code here"
   ]
  },
  {
   "cell_type": "markdown",
   "id": "6aaed562",
   "metadata": {},
   "source": [
    "## Aufgabe 3: Fibonacci-Zahlen generieren\n",
    "\n",
    "Schreiben Sie eine Generatorfunktion `gen_fibonacci(upper_bound)`, die Fibonacci-Zahlen kleiner oder gleich `upper_bound` erzeugt. \n",
    "Wenn `upper_bound` kein Integer oder Float ist, soll eine `TypeError`-Exception ausgelöst werden. Wenn `upper_bound` kleiner als 0 ist, soll eine `ValueError`-Exception ausgelöst werden.\n",
    "\n",
    "Die Fibonacci-Sequenz wird wie folgt definiert:\n",
    "- F0 = 0\n",
    "- F1 = 1\n",
    "- Fn = Fn-1 + Fn-2\n",
    "\n",
    "**Beispiel-Aufrufe und Ergebnisse:**\n",
    "\n",
    "```\n",
    "list(gen_fibonacci(\"3\"))  -> TypeError\n",
    "list(gen_fibonacci(-1))   -> ValueError\n",
    "list(gen_fibonacci(0))    -> [0]\n",
    "list(gen_fibonacci(1))    -> [0, 1, 1]\n",
    "list(gen_fibonacci(3))    -> [0, 1, 1, 2, 3]\n",
    "list(gen_fibonacci(9.2))  -> [0, 1, 1, 2, 3, 5, 8]\n",
    "```\n",
    "\n",
    "**Hinweise:**\n",
    "- Erstellen Sie geeignete und hilfreiche Fehlermeldungen.\n",
    "- Sie können überprüfen, ob ein Objekt ein bestimmter Datentyp ist, indem Sie `isinstance(OBJECT, TYPE)` verwenden."
   ]
  },
  {
   "cell_type": "code",
   "execution_count": null,
   "id": "f85f631c",
   "metadata": {},
   "outputs": [],
   "source": [
    "# your code here"
   ]
  },
  {
   "cell_type": "markdown",
   "id": "42b9d1eb",
   "metadata": {},
   "source": [
    "## Aufgabe 4: Programmflussanalyse mit benutzerdefinierten Exceptions\n",
    "\n",
    "Betrachten Sie den folgenden Code mit benutzerdefinierten Exceptions `ErrorA`, `ErrorB` und `ErrorC`, die alle unabhängig voneinander sind:\n",
    "\n",
    "```python\n",
    "def f(x: int):\n",
    "    try:\n",
    "        g(x)\n",
    "        print(\"f1\")\n",
    "    except ErrorA:\n",
    "        print(\"f2\")\n",
    "    finally:\n",
    "        print(\"f3\")\n",
    "\n",
    "def g(x: int):\n",
    "    try:\n",
    "        h(x)\n",
    "        print(\"g1\")\n",
    "    except ErrorA:\n",
    "        print(\"g2\")\n",
    "    except ErrorB:\n",
    "        print(\"g3\")\n",
    "    if x < -10:\n",
    "        raise ErrorC\n",
    "    print(\"g4\")\n",
    "    else:\n",
    "        print(\"g5\")\n",
    "    print(\"g6\")\n",
    "\n",
    "def h(x: int):\n",
    "    try:\n",
    "        if x > 10:\n",
    "            raise ErrorA\n",
    "        if x < 0:\n",
    "            raise ErrorB\n",
    "    finally:\n",
    "        print(\"h1\")\n",
    "    print(\"h2\")\n",
    "```\n",
    "\n",
    "Bestimmen Sie ohne den Code auszuführen den Ausgabe- oder Fehlerfluss der Funktion `f` für die folgenden vier Argumente: `f(5)`, `f(-5)`, `f(11)` und `f(-11)`. \n",
    "Schreiben Sie Ihre Ergebnisse in die unten dafür vorgesehene markdown-cell.\n",
    "\n",
    "```\n",
    "f(ARG) -> X1 X2 ... Xn\n",
    "```\n",
    "\n",
    "Beispiel-Inhalt der Datei (Ergebnisse sind falsch, dies dient nur zur Demonstration des Formats):\n",
    "\n",
    "```\n",
    "f(5) -> f1 f2 g1 h1\n",
    "f(-5) -> f3 h2 ErrorB\n",
    "f(11) -> h1 h2 f1 f5 g2\n",
    "f(-11) -> g1 h2 f2 ErrorA\n",
    "```\n"
   ]
  },
  {
   "cell_type": "markdown",
   "id": "04a5630b",
   "metadata": {},
   "source": [
    "#### your solution here"
   ]
  }
 ],
 "metadata": {
  "language_info": {
   "name": "python"
  }
 },
 "nbformat": 4,
 "nbformat_minor": 5
}
