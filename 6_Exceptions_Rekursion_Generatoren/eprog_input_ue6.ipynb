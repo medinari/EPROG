{
 "cells": [
  {
   "cell_type": "markdown",
   "metadata": {},
   "source": [
    "# Einführung in das Programmieren ILV\n",
    "## Input Übung 6\n",
    "###### WS 2024/25\n"
   ]
  },
  {
   "cell_type": "markdown",
   "metadata": {},
   "source": [
    "# Exceptions"
   ]
  },
  {
   "cell_type": "markdown",
   "metadata": {},
   "source": [
    "Python unterstützt eine „Trial-and-Error“ - Vorangehensweise. Sie können dynamisch versuchen, Code auszuführen, und wenn etwas schiefgeht, können Sie das Problem entweder durch alternativen Code lösen oder den Fehler dem Nutzer melden. Anstatt mögliche Fehler vor der Codeausführung durch if-else-Bedingungen zu prüfen, wird der Code einfach ausgeführt, und wenn ein Fehler auftritt, kann dieser dynamisch behandelt werden. Solche „Fehler“ während der Codeausführung nennt man in Python „Exceptions“. Exceptions können unterschiedliche Typen haben und liefern zusätzliche Informationen über den aufgetretenen Fehler.\n",
    "\n",
    "Beachten Sie, dass das nicht bedeutet, dass Sie exception handling überall einsetzen sollten. Verwenden Sie dieses Feature nicht übermäßig. In vielen Fällen ist es völlig ausreichend, Bedingungen zu prüfen, anstatt ständig Exceptions auszulösen. Überlegen Sie sich immer, was für die aktuelle Aufgabe am sinnvollsten ist.\n",
    "\n",
    "Exceptions können Sie mit dem keyword „raise“ auslösen. Python bietet eine Vielzahl an eingebauten Exceptions. Eine vollständige Liste finden Sie hier: \n",
    "\n",
    "https://docs.python.org/3/library/exceptions.html#bltin-exceptions"
   ]
  },
  {
   "cell_type": "code",
   "execution_count": 1,
   "metadata": {},
   "outputs": [
    {
     "name": "stdout",
     "output_type": "stream",
     "text": [
      "No exceptions were raised, so this block is executed\n",
      "This block runs no matter what\n"
     ]
    }
   ],
   "source": [
    "a = False  # Set this to True to raise the following exception\n",
    "if a:\n",
    "    raise ValueError(f\"Variable 'a' was {a}\")\n",
    "\n",
    "# Providing an exception message is optional:\n",
    "if a:\n",
    "    raise ValueError\n",
    "\n",
    "# Once an exception is raised, the program's execution jumps to the end.\n",
    "# If you want to avoid this, you can catch exceptions with a \"try\" statement.\n",
    "# Note that you are not forced to do this; Python doesn't enforce exception handling.\n",
    "# https://docs.python.org/3/reference/compound_stmts.html#try\n",
    "\n",
    "# Here's an example of handling exceptions with a \"try\" statement:\n",
    "try:\n",
    "    # This is the \"normal\" code to execute. If any exception happens here,\n",
    "    # it can be caught in the following \"except\" blocks.\n",
    "    a = False  # Set this to True to raise the exception\n",
    "    if a:\n",
    "        # If something goes wrong, an exception will be raised. You can also raise one manually:\n",
    "        raise ValueError(f\"Variable 'a' was {a}\")\n",
    "except ValueError as ex:  # Storing the exception in a variable is optional\n",
    "    # This block runs if a ValueError is raised. Here, we can execute code after the exception.\n",
    "    print(f\"A ValueError occurred: '{ex}'\")\n",
    "    # Important: At this point, the exception has been handled. If you still want\n",
    "    # the exception to propagate further, you need to raise it again:\n",
    "    raise ex  # Or simply write \"raise\" to re-raise the exception\n",
    "except TypeError:\n",
    "    # This block runs if a TypeError is raised.\n",
    "    print(\"A TypeError occurred\")\n",
    "    # Since no exception is raised here, program execution continues normally,\n",
    "    # the \"finally\" block (if present) will run, and then the code after the \"try\".\n",
    "else:\n",
    "    # This block is only executed if no exception occurred in the \"try\" block.\n",
    "    print(\"No exceptions were raised, so this block is executed\")\n",
    "finally:\n",
    "    # The \"finally\" block always runs, whether or not an exception was raised.\n",
    "    # It is often used for cleanup tasks.\n",
    "    print(\"This block runs no matter what\")\n"
   ]
  },
  {
   "cell_type": "code",
   "execution_count": 2,
   "metadata": {},
   "outputs": [
    {
     "name": "stdout",
     "output_type": "stream",
     "text": [
      "Caught an exception: 'unsupported operand type(s) for +: 'int' and 'str''\n",
      "Caught the exception: 'unsupported operand type(s) for +: 'int' and 'str''\n",
      "Caught another exception: 'unsupported operand type(s) for +: 'int' and 'list''\n",
      "First exception: 'unsupported operand type(s) for +: 'int' and 'str''\n",
      "Second exception: 'unsupported operand type(s) for +: 'int' and 'list''\n",
      "First exception after inner block: 'unsupported operand type(s) for +: 'int' and 'str''\n",
      "First try block\n",
      "Second try block\n",
      "Second finally block\n"
     ]
    },
    {
     "ename": "ValueError",
     "evalue": "",
     "output_type": "error",
     "traceback": [
      "\u001b[1;31m---------------------------------------------------------------------------\u001b[0m",
      "\u001b[1;31mValueError\u001b[0m                                Traceback (most recent call last)",
      "\u001b[1;32m~\\AppData\\Local\\Temp\\ipykernel_10592\\1039272209.py\u001b[0m in \u001b[0;36m<module>\u001b[1;34m\u001b[0m\n\u001b[0;32m     32\u001b[0m     \u001b[1;32mtry\u001b[0m\u001b[1;33m:\u001b[0m\u001b[1;33m\u001b[0m\u001b[1;33m\u001b[0m\u001b[0m\n\u001b[0;32m     33\u001b[0m         \u001b[0mprint\u001b[0m\u001b[1;33m(\u001b[0m\u001b[1;34m\"Second try block\"\u001b[0m\u001b[1;33m)\u001b[0m\u001b[1;33m\u001b[0m\u001b[1;33m\u001b[0m\u001b[0m\n\u001b[1;32m---> 34\u001b[1;33m         \u001b[1;32mraise\u001b[0m \u001b[0mValueError\u001b[0m\u001b[1;33m\u001b[0m\u001b[1;33m\u001b[0m\u001b[0m\n\u001b[0m\u001b[0;32m     35\u001b[0m     \u001b[1;31m# Demonstrating the behavior of \"finally\": it will always execute.\u001b[0m\u001b[1;33m\u001b[0m\u001b[1;33m\u001b[0m\u001b[1;33m\u001b[0m\u001b[0m\n\u001b[0;32m     36\u001b[0m     \u001b[1;32mfinally\u001b[0m\u001b[1;33m:\u001b[0m\u001b[1;33m\u001b[0m\u001b[1;33m\u001b[0m\u001b[0m\n",
      "\u001b[1;31mValueError\u001b[0m: "
     ]
    }
   ],
   "source": [
    "# You can catch multiple exception types in a single block:\n",
    "try:\n",
    "    a = 1 + \"f\"  # This raises a \"TypeError\"\n",
    "except (ValueError, TypeError) as ex:\n",
    "    # This block handles both ValueError and TypeError exceptions.\n",
    "    print(f\"Caught an exception: '{ex}'\")\n",
    "\n",
    "# \"try-except\" blocks can be nested as deeply as you need:\n",
    "try:\n",
    "    a = 1 + \"f\"  # This raises a \"TypeError\"\n",
    "except (ValueError, TypeError) as ex1:\n",
    "    # This block will catch either a ValueError or TypeError.\n",
    "    print(f\"Caught the exception: '{ex1}'\")\n",
    "    # You can nest another try-except inside the first one:\n",
    "    try:\n",
    "        a = 1 + [4, 5]  # This raises a different TypeError\n",
    "    except (ValueError, TypeError) as ex2:\n",
    "        # This catches the new exception inside the nested block.\n",
    "        print(f\"Caught another exception: '{ex2}'\")\n",
    "        # You can re-raise ex1 or ex2 here if necessary.\n",
    "        print(f\"First exception: '{ex1}'\")\n",
    "        print(f\"Second exception: '{ex2}'\")\n",
    "    print(f\"First exception after inner block: '{ex1}'\")\n",
    "\n",
    "# Be cautious with nested \"try\" blocks, especially if one exists inside a \"finally\":\n",
    "try:\n",
    "    print(\"First try block\")\n",
    "# The \"finally\" block will always run, but this does not guarantee the whole code is error-free.\n",
    "finally:\n",
    "    # If an exception is raised in this inner \"try\" and not handled,\n",
    "    # it will cause the outer \"finally\" block to fail.\n",
    "    try:\n",
    "        print(\"Second try block\")\n",
    "        raise ValueError\n",
    "    # Demonstrating the behavior of \"finally\": it will always execute.\n",
    "    finally:\n",
    "        print(\"Second finally block\")\n",
    "    # This line will not be reached because the exception above is unhandled.\n",
    "    print(\"First finally block\")\n"
   ]
  },
  {
   "cell_type": "markdown",
   "metadata": {},
   "source": [
    "## Exceptions als Kontrollstruktur"
   ]
  },
  {
   "cell_type": "code",
   "execution_count": null,
   "metadata": {},
   "outputs": [
    {
     "name": "stdout",
     "output_type": "stream",
     "text": [
      "Cannot add 'x + y' directly. Converting both to floats...\n",
      "3.0\n",
      "This will always run\n",
      "0.5\n",
      "This will always run\n"
     ]
    },
    {
     "ename": "ZeroDivisionError",
     "evalue": "division by zero",
     "output_type": "error",
     "traceback": [
      "\u001b[1;31m---------------------------------------------------------------------------\u001b[0m",
      "\u001b[1;31mZeroDivisionError\u001b[0m                         Traceback (most recent call last)",
      "Cell \u001b[1;32mIn[3], line 54\u001b[0m\n\u001b[0;32m     52\u001b[0m \u001b[38;5;28mprint\u001b[39m(divide(\u001b[38;5;241m1\u001b[39m, \u001b[38;5;241m2\u001b[39m))\n\u001b[0;32m     53\u001b[0m \u001b[38;5;66;03m# Prints \"This will always run\", then raises a \"ZeroDivisionError\"\u001b[39;00m\n\u001b[1;32m---> 54\u001b[0m \u001b[38;5;28mprint\u001b[39m(\u001b[43mdivide\u001b[49m\u001b[43m(\u001b[49m\u001b[38;5;241;43m1\u001b[39;49m\u001b[43m,\u001b[49m\u001b[43m \u001b[49m\u001b[38;5;241;43m0\u001b[39;49m\u001b[43m)\u001b[49m)\n\u001b[0;32m     57\u001b[0m \u001b[38;5;66;03m# Example 2: \"return\" in \"finally\"\u001b[39;00m\n\u001b[0;32m     58\u001b[0m \u001b[38;5;28;01mdef\u001b[39;00m \u001b[38;5;21mdivide\u001b[39m(x, y):\n",
      "Cell \u001b[1;32mIn[3], line 46\u001b[0m, in \u001b[0;36mdivide\u001b[1;34m(x, y)\u001b[0m\n\u001b[0;32m     44\u001b[0m \u001b[38;5;28;01mdef\u001b[39;00m \u001b[38;5;21mdivide\u001b[39m(x, y):\n\u001b[0;32m     45\u001b[0m     \u001b[38;5;28;01mtry\u001b[39;00m:\n\u001b[1;32m---> 46\u001b[0m         \u001b[38;5;28;01mreturn\u001b[39;00m \u001b[43mx\u001b[49m\u001b[43m \u001b[49m\u001b[38;5;241;43m/\u001b[39;49m\u001b[43m \u001b[49m\u001b[43my\u001b[49m\n\u001b[0;32m     47\u001b[0m     \u001b[38;5;28;01mfinally\u001b[39;00m:\n\u001b[0;32m     48\u001b[0m         \u001b[38;5;28mprint\u001b[39m(\u001b[38;5;124m\"\u001b[39m\u001b[38;5;124mThis will always run\u001b[39m\u001b[38;5;124m\"\u001b[39m)\n",
      "\u001b[1;31mZeroDivisionError\u001b[0m: division by zero"
     ]
    }
   ],
   "source": [
    "# Exceptions can be a way to control the flow of a program in Python.\n",
    "\n",
    "# Example 1: Increment a counter in a dictionary, and skip if the key is missing\n",
    "numbers = [1, 2, 3, 4, 5, 1, 2, 3, 5, 2, 5, 5, 5]\n",
    "counts = {2: 0, 5: 0}  # Only counting occurrences of 2 and 5\n",
    "for i in numbers:\n",
    "    try:\n",
    "        counts[i] += 1  # This raises a \"KeyError\" if the key is not found\n",
    "    except KeyError:\n",
    "        # \"pass\" means no action is taken if the exception occurs.\n",
    "        pass\n",
    "\n",
    "\n",
    "# Example 2: A more flexible \"add\" function\n",
    "def add(x, y):\n",
    "    try:\n",
    "        z = x + y\n",
    "    except TypeError:\n",
    "        print(\"Cannot add 'x + y' directly. Converting both to floats...\")\n",
    "        z = float(x) + float(y)  # Could still raise an exception\n",
    "    return z\n",
    "\n",
    "\n",
    "# This now works because the function handles the TypeError:\n",
    "print(add(1, \"2\"))\n",
    "\n",
    "#\n",
    "# Special Considerations\n",
    "#\n",
    "\n",
    "# Special rules apply when a \"finally\" block is involved in a function.\n",
    "# If \"finally\" contains a \"return\", \"break\", or \"continue\", exceptions will not be reraised,\n",
    "# meaning they are effectively swallowed! Additionally, if there is a \"return\" \n",
    "# both in the \"try\" block and the \"finally\" block, the \"finally\" return value will overwrite\n",
    "# the one from \"try\".\n",
    "\n",
    "# Example 1: Code execution in the \"finally\" block\n",
    "def divide(x, y):\n",
    "    try:\n",
    "        return x / y\n",
    "    finally:\n",
    "        print(\"This will always run\")\n",
    "\n",
    "\n",
    "# Prints \"This will always run\", then the result of the division\n",
    "print(divide(1, 2))\n",
    "# Prints \"This will always run\", then raises a \"ZeroDivisionError\"\n",
    "print(divide(1, 0))\n",
    "\n",
    "\n",
    "# Example 2: \"return\" in \"finally\"\n",
    "def divide(x, y):\n",
    "    try:\n",
    "        return x / y\n",
    "    finally:\n",
    "        print(\"This will always run\")\n",
    "        return 0  # This overrides any previous return value\n",
    "\n",
    "\n",
    "# Prints \"This will always run\", then returns 0, overwriting the value from \"try\"\n",
    "print(divide(1, 2))\n",
    "# Prints \"This will always run\", returns 0, and no exception is raised\n",
    "print(divide(1, 0))\n"
   ]
  },
  {
   "cell_type": "markdown",
   "metadata": {},
   "source": [
    "# Rekursion\n",
    "\n",
    "Funktionen können sich selbst rekursiv aufrufen. Dabei wird die ursprüngliche Aufgabe meist in eine kleinere Teilaufgabe zerlegt, die sofort lösbar ist, und in einen Rest, der wieder von derselben Funktion bearbeitet wird. Dieser Rest wird mit jedem Schritt kleiner, bis er so einfach ist, dass auch er direkt gelöst werden kann – das ist dann der Basisfall oder Rekursionsanker. Wichtig ist, dass es immer einen Endpunkt der Rekursion gibt und dass in jedem Schritt der Rekursion ein Fortschritt gemacht wird, zum Beispiel indem der Rest immer weiter verkleinert wird. Andernfalls läuft die Rekursion endlos weiter."
   ]
  },
  {
   "cell_type": "code",
   "execution_count": null,
   "metadata": {},
   "outputs": [],
   "source": [
    "def power(x, y):\n",
    "    # Base case 1: Any number to the power of 0 is 1\n",
    "    if y == 0:\n",
    "        return 1\n",
    "    # Base case 2: Any number to the power of 1 is itself\n",
    "    if y == 1:\n",
    "        return x\n",
    "    # Recursive case 1: For y > 0, calculate x raised to the power y\n",
    "    # Break down the task into multiplying x by the result of x raised to the power of (y - 1),\n",
    "    # i.e., x^y = x * (x^(y - 1))\n",
    "    if y > 0:\n",
    "        return x * power(x, y - 1)\n",
    "    # Recursive case 2: For negative exponents (y < 0), x^-y = 1 / (x^y)\n",
    "    # We use the same principle of breaking the task into parts, but this time, the task becomes a division.\n",
    "    # Although we don't split here, we still progress by changing the sign of y, eventually reducing it to the positive case.\n",
    "    return 1 / power(x, -y)\n",
    "\n",
    "\n",
    "# Example: Summing up any number of arguments\n",
    "def add(*args):\n",
    "    # Base case 1: If no arguments are provided, return 0\n",
    "    if len(args) == 0:  # Equivalent to: if not args:\n",
    "        return 0\n",
    "    # Base case 2: If only one argument is present, return it directly\n",
    "    if len(args) == 1:\n",
    "        return args[0]\n",
    "    # Otherwise, sum the first argument with the result of adding the rest (args[1:])\n",
    "    return args[0] + add(*args[1:])\n",
    "\n",
    "\n",
    "# Simplified version (uses the fact that slicing with an index larger than the sequence length returns an empty sequence)\n",
    "def add(*args):\n",
    "    # Base case: If no arguments are provided, return 0\n",
    "    if not args:\n",
    "        return 0\n",
    "    # Sum the first argument with the result of adding the rest (args[1:]).\n",
    "    # The remaining arguments might be empty, which is handled by the base case.\n",
    "    return args[0] + add(*args[1:])\n"
   ]
  },
  {
   "cell_type": "markdown",
   "metadata": {},
   "source": [
    "# Generators"
   ]
  },
  {
   "cell_type": "markdown",
   "metadata": {},
   "source": [
    "Anstelle von \"return\" kann in einer Funktion auch \"yield\" verwendet werden. Dadurch wird die Funktion zu einer sogenannten Generatorfunktion, die ein Generator-Iterator-Objekt zurückgibt, mit dem die von der Funktion erzeugten Elemente durchlaufen werden können. Dieses Generatorobjekt speichert den Zustand der Funktion. Jedes Mal, wenn ein Element angefordert wird (z. B. in einer for-Schleife), wird der Code bis zum Erreichen der \"yield\"-Anweisung ausgeführt und der angegebene Wert zurückgegeben. Die Ausführung wird an dieser Stelle pausiert, bis das nächste Element angefordert wird, und dann fortgesetzt, bis der nächste \"yield\"-Befehl erreicht oder keine weiteren Elemente mehr vorhanden sind. Das bedeutet, dass der Code bei Bedarf ausgeführt wird, anstatt alle Elemente sofort zu verarbeiten und z. B. als Liste zurückzugeben.\n",
    "\n",
    "https://docs.python.org/3/glossary.html#term-generator"
   ]
  },
  {
   "cell_type": "code",
   "execution_count": null,
   "metadata": {},
   "outputs": [
    {
     "name": "stdout",
     "output_type": "stream",
     "text": [
      "Executed when the first element is requested\n",
      "Inside function: 0\n",
      "Function yielded: 0\n",
      "Inside function: 1\n",
      "Function yielded: 1\n",
      "Inside function: 2\n",
      "Function yielded: 2\n",
      "Inside function: 3\n",
      "Function yielded: 3\n",
      "Inside function: 4\n",
      "Function yielded: 4\n",
      "Function complete\n"
     ]
    }
   ],
   "source": [
    "# Example with a finite number of iterations:\n",
    "def iterable_function(n_elems):\n",
    "    # Code here runs only once when the first element is requested\n",
    "    print(\"Executed when the first element is requested\")\n",
    "    for x in range(n_elems):\n",
    "        # This block runs with each iteration\n",
    "        print(\"Inside function:\", x)\n",
    "        # Each \"x\" is yielded, and the state of the function (like local variables) \n",
    "        # is saved. When the next value is requested, the function resumes after \n",
    "        # the yield point, with everything as it was.\n",
    "        yield x\n",
    "    # When there are no more values to yield, the function ends\n",
    "    print(\"Function complete\")\n",
    "\n",
    "\n",
    "for i in iterable_function(5):\n",
    "    print(f\"Function yielded: {i}\")\n",
    "\n",
    "\n",
    "# Another example generating an infinite sequence of elements:\n",
    "def infinite_random_numbers():\n",
    "    import random  # More on imports can be found later\n",
    "    while True:\n",
    "        yield random.random()  # Returns a float in the range [0.0, 1.0)\n",
    "\n",
    "\n",
    "# Uncommenting the following loop would result in an endless output:\n",
    "# for r in infinite_random_numbers():\n",
    "#     print(r)\n",
    "\n",
    "\n",
    "# Solution: Using the built-in function \"next\" to get the next element\n",
    "\n",
    "# The built-in \"next\" function allows us to access the next item from an iterator object, \n",
    "# including one created by a generator function. \n",
    "# A generator function returns a generator iterator object.\n",
    "# Reference: https://docs.python.org/3/glossary.html#term-generator-iterator\n",
    "# and https://docs.python.org/3/library/functions.html#next\n",
    "inf = infinite_random_numbers()\n",
    "for _ in range(5):  # Using underscore to ignore the loop index\n",
    "    print(next(inf))"
   ]
  },
  {
   "cell_type": "markdown",
   "metadata": {},
   "source": [
    "## \"return\" und \"yield\" kombinieren"
   ]
  },
  {
   "cell_type": "code",
   "execution_count": 5,
   "metadata": {},
   "outputs": [
    {
     "name": "stdout",
     "output_type": "stream",
     "text": [
      "0\n",
      "1\n",
      "2\n"
     ]
    },
    {
     "ename": "StopIteration",
     "evalue": "",
     "output_type": "error",
     "traceback": [
      "\u001b[1;31m---------------------------------------------------------------------------\u001b[0m",
      "\u001b[1;31mStopIteration\u001b[0m                             Traceback (most recent call last)",
      "\u001b[1;32m~\\AppData\\Local\\Temp\\ipykernel_10592\\3023207002.py\u001b[0m in \u001b[0;36m<module>\u001b[1;34m\u001b[0m\n\u001b[0;32m     15\u001b[0m \u001b[1;33m\u001b[0m\u001b[0m\n\u001b[0;32m     16\u001b[0m \u001b[1;31m# If you call \"next\" on an empty generator, this would trigger an exception:\u001b[0m\u001b[1;33m\u001b[0m\u001b[1;33m\u001b[0m\u001b[1;33m\u001b[0m\u001b[0m\n\u001b[1;32m---> 17\u001b[1;33m \u001b[0mnext\u001b[0m\u001b[1;33m(\u001b[0m\u001b[0mgen\u001b[0m\u001b[1;33m)\u001b[0m  \u001b[1;31m# Raises StopIteration\u001b[0m\u001b[1;33m\u001b[0m\u001b[1;33m\u001b[0m\u001b[0m\n\u001b[0m",
      "\u001b[1;31mStopIteration\u001b[0m: "
     ]
    }
   ],
   "source": [
    "# You can still use \"return\" inside a generator function along with \"yield\". \n",
    "# If a \"return\" statement is encountered, the generator ends and no further values \n",
    "# will be yielded. If \"next\" is called on an exhausted iterator, a \"StopIteration\" \n",
    "# exception will be raised.\n",
    "def yield_with_return():\n",
    "    for j in range(10):\n",
    "        if j == 3:\n",
    "            return  # Stops the generator when j equals 3\n",
    "        yield j  # Continues yielding until return is reached\n",
    "\n",
    "\n",
    "gen = yield_with_return()\n",
    "for i in gen:\n",
    "    print(i)\n",
    "\n",
    "# If you call \"next\" on an empty generator, this would trigger an exception:\n",
    "next(gen)  # Raises StopIteration"
   ]
  }
 ],
 "metadata": {
  "kernelspec": {
   "display_name": "biot5",
   "language": "python",
   "name": "python3"
  },
  "language_info": {
   "codemirror_mode": {
    "name": "ipython",
    "version": 3
   },
   "file_extension": ".py",
   "mimetype": "text/x-python",
   "name": "python",
   "nbconvert_exporter": "python",
   "pygments_lexer": "ipython3",
   "version": "3.7.16"
  }
 },
 "nbformat": 4,
 "nbformat_minor": 2
}
