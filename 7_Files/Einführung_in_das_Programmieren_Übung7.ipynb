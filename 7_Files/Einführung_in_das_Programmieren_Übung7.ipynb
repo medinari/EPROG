{
 "cells": [
  {
   "cell_type": "markdown",
   "id": "b3fd7d21",
   "metadata": {},
   "source": [
    "# Einführung in das Programmieren - Übung 7\n",
    "\n",
    "### Sie dürfen für diese Übung auch Konzepte/Funktionen verwenden, die wir nicht bereits behandelt haben, und zusätzliche packages importieren."
   ]
  },
  {
   "cell_type": "markdown",
   "id": "e39a44df",
   "metadata": {},
   "source": [
    "Recherchieren Sie gute Wege, diese Aufgaben zu lösen. Für Aufgabe 2 ist das Modul pandas eventuell interessant.\n",
    "\n",
    "Recherchieren Sie folgende Konzepte/packages:\n",
    "\n",
    "- `character encoding/decoding`\n",
    "- `os`\n",
    "- `glob`\n",
    "- `pandas`\n",
    "- `pickle/dill`\n",
    "\n",
    "Bei der Übungspräsentation sollten Sie folgende Fragen beantworten können:\n",
    "- `Was ist es / Was kann man damit machen?`\n",
    "- `Wieso war es für diese Übung wichtig?` (wenn zutrifft)\n",
    "    "
   ]
  },
  {
   "cell_type": "markdown",
   "id": "e9704e4b",
   "metadata": {},
   "source": [
    "## Aufgabe 1\n",
    "\n",
    "Schreiben Sie eine Funktion `file_statistics(path: str)`, die die Statistiken einer angegebenen Datei wie folgt ausgibt:\n",
    "\n",
    "- `path` gibt den Pfad zu einer Textdatei an.\n",
    "- Verwenden Sie die UTF-8-Codierung beim Lesen der Datei.\n",
    "- Die Funktion soll die Anzahl der Zeilen, Wörter, Zeichen und Ziffern der Datei ausgeben.\n",
    "- Wenn `path` keinen korrekten Pfad angibt, soll eine `OSError` ausgelöst werden, die den Benutzer auf einen falschen Pfad hinweist.\n",
    "- Wenn `path` ein korrekter Pfad ist, aber keine `.txt`-Datei, soll ein `ValueError` ausgelöst werden, der den Benutzer auf den falschen Dateityp hinweist.\n",
    "- Sie können die erwarteten Ergebnisse mit den gegebenen Dateien `ex1_1.txt`, `ex1_2.txt`, `ex1_3.txt` und `ex1_4.py` testen.\n",
    "\n",
    "**Hinweise:**\n",
    "- Wörter können dadurch identifiziert werden, dass sie durch Leerzeichen getrennt sind.\n",
    "- Alles außer Zeilenumbrüchen zählt als Zeichen (einschließlich Ziffern und Leerzeichen, ausgenommen `\\r` und `\\n`).\n",
    "\n"
   ]
  },
  {
   "cell_type": "markdown",
   "id": "aa608cd7",
   "metadata": {},
   "source": [
    "### Erwartete Ergebnisse:\n",
    "\n",
    "##### `file_statistics('ex1_1.txt')`\n",
    "--------------------\n",
    "**Statistics of file `ex1_1.txt`:**\n",
    "- Number of lines: 79\n",
    "- Number of words: 3578\n",
    "- Number of characters: 21966\n",
    "- Number of digits: 0\n",
    "--------------------\n",
    "\n",
    "##### `file_statistics('ex1_2.txt')`\n",
    "--------------------\n",
    "**Statistics of file `ex1_2.txt`:**\n",
    "- Number of lines: 612\n",
    "- Number of words: 22308\n",
    "- Number of characters: 140742\n",
    "- Number of digits: 193\n",
    "--------------------\n",
    "\n",
    "##### `file_statistics('ex1_3.txt')`\n",
    "--------------------\n",
    "**Statistics of file `ex1_3.txt`:**\n",
    "- Number of lines: 124453\n",
    "- Number of words: 901325\n",
    "- Number of characters: 5458195\n",
    "- Number of digits: 3190\n",
    "--------------------\n",
    "\n",
    "##### `file_statistics('ex1_4.py')`\n",
    "--------------------\n",
    "**ValueError**: Path `ex1_4.py` is not a text file\n",
    "\n",
    "##### `file_statistics('ex1_5.txt')`\n",
    "--------------------\n",
    "**OSError**: Path `ex1_5.txt` does not exist\n"
   ]
  },
  {
   "cell_type": "code",
   "execution_count": 1,
   "id": "c5644325",
   "metadata": {},
   "outputs": [],
   "source": [
    "# your code here"
   ]
  },
  {
   "cell_type": "markdown",
   "id": "e8a36dd6",
   "metadata": {},
   "source": [
    "## Aufgabe 2"
   ]
  },
  {
   "cell_type": "markdown",
   "id": "d56c8ddd",
   "metadata": {},
   "source": [
    "Schreiben Sie eine Funktion \n",
    "`merge_csv_files(*paths: str, delimiter = ';': str, only_shared_columns = False : bool)` \n",
    "die eine beliebige Anzahl von CSV-Dateien zu einer einzigen Datei zusammenführt.\n",
    "\n",
    "- `*paths` ist eine beliebige Anzahl von Pfaden zu CSV-Dateien (Sie können annehmen, dass es mindestens einen gibt).\n",
    "- `delimiter` gibt an, wie die Werte innerhalb der CSV-Dateien getrennt sind.\n",
    "- `only_shared_columns` ändert, welche Spalten zusammengeführt werden sollen. Wenn `True`, soll die zusammengeführte Datei nur Spalten enthalten, die in allen ursprünglichen Dateien existieren. Wenn `False`, sollen alle Spalten verwendet und fehlende Werte mit `NaN` aufgefüllt werden.\n",
    "- Die zusammengeführte CSV-Datei sollte `merged.csv` heißen und im gleichen Verzeichnis wie alle ursprünglichen Dateien gespeichert werden. Sehen Sie sich die ursprünglichen Dateien `ex2_1.csv`, `ex2_2.csv`, `ex2_3.csv` und die resultierenden zusammengeführten Dateien `merged_all.csv` und `merged_shared.csv` an, um die erwarteten Ergebnisse für zwei Aufrufe dieser Funktion zu sehen. (Mit allen Dateien und `only_shared_columns = False` bzw. `only_shared_columns = True`)\n",
    "\n",
    "**Hinweise:**\n",
    "- Stellen Sie sicher, dass Sie denselben `delimiter` für die Eingabe- und Ausgabedateien verwenden.\n",
    "- Prüfen Sie, ob die zusammengeführte Datei die Spaltennamen enthält und keine zusätzlichen Zeilen aufweist.\n",
    "- Die Spalten können in der Eingabe und Ausgabe beliebig geordnet sein.\n"
   ]
  },
  {
   "cell_type": "code",
   "execution_count": null,
   "id": "8d1d774b",
   "metadata": {},
   "outputs": [],
   "source": [
    "# your code here"
   ]
  }
 ],
 "metadata": {
  "kernelspec": {
   "display_name": "biot5",
   "language": "python",
   "name": "python3"
  },
  "language_info": {
   "codemirror_mode": {
    "name": "ipython",
    "version": 3
   },
   "file_extension": ".py",
   "mimetype": "text/x-python",
   "name": "python",
   "nbconvert_exporter": "python",
   "pygments_lexer": "ipython3",
   "version": "3.8.19"
  }
 },
 "nbformat": 4,
 "nbformat_minor": 5
}
