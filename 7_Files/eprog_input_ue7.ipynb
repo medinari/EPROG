{
 "cells": [
  {
   "cell_type": "markdown",
   "metadata": {},
   "source": [
    "# Einführung in das Programmieren ILV\n",
    "## Input Übung 7 (Files)\n",
    "###### WS 2024/25 | Mohamed Goha, BSc.\n"
   ]
  },
  {
   "cell_type": "markdown",
   "metadata": {},
   "source": [
    "## Aus Dateien lesen"
   ]
  },
  {
   "cell_type": "code",
   "execution_count": null,
   "metadata": {},
   "outputs": [],
   "source": [
    "f = open(\"some_file.txt\", \"r\")\n",
    "\n",
    "content = f.read()\n",
    "print(content) \n",
    "\n",
    "f.close()"
   ]
  },
  {
   "cell_type": "code",
   "execution_count": null,
   "metadata": {},
   "outputs": [],
   "source": [
    "with open(\"some_file.txt\", \"r\") as f:\n",
    "    # We now have \"f\" as file handle available until the code block is left\n",
    "    print(f.read(20))\n",
    "\n",
    "with open(\"some_filee.txt\", \"r\") as f:\n",
    "    # The for loop automatically reads the file content line by line:\n",
    "    for line in f:\n",
    "        # \"line\" already contains a line break \"\\n\" at the end, so no need to\n",
    "        # print two line breaks \"\\n\"\n",
    "        print(line, end=\"\")"
   ]
  },
  {
   "cell_type": "markdown",
   "metadata": {},
   "source": [
    "## In Dateien schreiben"
   ]
  },
  {
   "cell_type": "code",
   "execution_count": 8,
   "metadata": {},
   "outputs": [],
   "source": [
    "with open(\"some_filee.txt\", \"w\") as f:\n",
    "    f.write(\"This overwrites an existing file\\nor creates a new one with this text!\\n\")\n",
    "    f.write(\"This adds another line to the file without a newline character at the end.\")\n",
    "    f.write(\" ... but now we add a newline character.\\n\")\n",
    "\n",
    "with open(\"some_file.txt\", \"a\") as f:\n",
    "    f.write(\"And here this line is appended.\\n\")\n",
    "    f.write(\"And another line is appended.\\n\")\n",
    "\n",
    "with open(\"some_file.txt\", \"a\") as f:\n",
    "    print(\"And another line via print()!\", file=f)\n",
    "    print(\"Note that print adds a newline by default.\", file=f)"
   ]
  },
  {
   "cell_type": "markdown",
   "metadata": {},
   "source": [
    "## Nützliche Methoden"
   ]
  },
  {
   "cell_type": "code",
   "execution_count": null,
   "metadata": {},
   "outputs": [],
   "source": [
    "# Reading lines into a list of strings (every line ends with \"\\n\", except\n",
    "# potentially for the last line if the file ends with this line and there\n",
    "# is no empty new line at the bottom)\n",
    "with open(\"some_file.txt\", \"r\") as f:\n",
    "    lines = f.readlines()\n",
    "\n",
    "# Writing an iterable (e.g., a list) of strings. This is the same as consecutive\n",
    "# calls to \"f.write(...)\", which also means that no \"\\n\" characters will be\n",
    "# written by default.\n",
    "with open(\"some_file.txt\", \"w\") as f:\n",
    "    f.writelines([\n",
    "        \"This is line1\",\n",
    "        \"---which directly continues here\\n\"\n",
    "        \"This will be on a new line\"\n",
    "    ])\n"
   ]
  }
 ],
 "metadata": {
  "kernelspec": {
   "display_name": "biot5",
   "language": "python",
   "name": "python3"
  },
  "language_info": {
   "codemirror_mode": {
    "name": "ipython",
    "version": 3
   },
   "file_extension": ".py",
   "mimetype": "text/x-python",
   "name": "python",
   "nbconvert_exporter": "python",
   "pygments_lexer": "ipython3",
   "version": "3.7.16"
  }
 },
 "nbformat": 4,
 "nbformat_minor": 2
}
