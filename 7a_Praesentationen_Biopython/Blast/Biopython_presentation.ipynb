{
 "cells": [
  {
   "cell_type": "markdown",
   "metadata": {},
   "source": [
    "# Biopython - Blast\n",
    "\n",
    "### Introduction: BLAST and its importance in bioinformatics\n",
    "\n",
    "- **Sequence Identification**: Identifies unknown DNA/protein sequences.\n",
    "- **Phylogenetic Analysis**: Studies evolutionary relationships.\n",
    "- **Functional Annotation**: Predicts protein functions.\n",
    "- **Efficiency and Speed**: Analyses large datasets quickly.\n",
    "\n",
    "NCBI BLAST Output:\n",
    "- Formats: XML, XML2, JSON, HTML, Text, Tabular.\n",
    "- Access: NCBI website or via command line tools.\n",
    "- **Usage: quick online searches and manual inspection**.\n",
    "\n",
    "Biopython BLAST Output:\n",
    "- Formats: no HTML or Text parsing.\n",
    "- Access: Via `Bio.Blast` module for online searches or local BLAST+ tools.\n",
    "- **Usage: Ideal for automated processing and integration into Python workflows**.\n"
   ]
  },
  {
   "cell_type": "markdown",
   "metadata": {},
   "source": [
    "### Biopython - JSON Format\n",
    "\n",
    "An useful output format is JSON. When declaring `format_type=\"JSON2\"`, `qblast` will return a zipped JSON format.\n",
    "\n",
    "**Benefits of JSON Format for BLAST Results**:\n",
    "\n",
    "- **Easy Access**: Quick access to specific data.\n",
    "- **Data Manipulation**: Filter and transform data easily.\n",
    "- **Integration**: Works well with other Python libraries.\n",
    "- **Automation**: Simplifies repetitive tasks.\n",
    "- **Storage**: Convenient for saving and retrieving results."
   ]
  },
  {
   "cell_type": "markdown",
   "metadata": {},
   "source": [
    "### BLAST Locally - BLAST+\n",
    "\n",
    "**Advantages**:\n",
    "1. **Speed**: May be faster.\n",
    "2. **Custom Databases**: Allows use of your own database.\n",
    "3. **Privacy**: Use BLAST without redistributing proprietary or unpublished sequence data.\n",
    "\n",
    "**Drawbacks**:\n",
    "1. **Installation**: Requires command line tools for installation.\n",
    "2. **Setup**: Requires BLAST database to be set up."
   ]
  },
  {
   "cell_type": "markdown",
   "metadata": {},
   "source": [
    "--\n",
    "```python\n",
    "# this code requires BLAST to be installed locally\n",
    "import subprocess\n",
    "cmd = \"blastn -query Sample.fasta -db nt -out Sample.xml\"\n",
    "cmd += \" -evalue 0.001 -outfmt 5\"\n",
    "subprocess.run(cmd, shell=True)\n",
    "```\n",
    "--"
   ]
  },
  {
   "cell_type": "markdown",
   "metadata": {},
   "source": [
    "### Biopython - BLAST Over the Internet\n",
    "We use the function `qblast` in the `Bio.Blast` module to call the online version of BLAST.\n",
    "\n",
    "NCBI BLAST Usage Guidelines:\n",
    "\n",
    "- **Server Contact Frequency**: Max once every 10 seconds.\n",
    "- **RID Polling**: Max once per minute.\n",
    "- **Identification**: Use email and tool URL parameters.\n",
    "- **High-Volume Searches**: Run scripts weekends or 9 pm-5 am ET.\n",
    "\n",
    "Important Arguments:\n",
    "\n",
    "1. **Program**: BLAST program to use (e.g., blastn, blastp).\n",
    "2. **Database**: BLAST database to search against (e.g., nr, nt).\n",
    "3. **Sequence**: Sequence or FASTA file.\n",
    "4. **Optional**: format_type (XML, HTML, Text, XML2, JSON2, Tabular)."
   ]
  },
  {
   "cell_type": "markdown",
   "metadata": {},
   "source": [
    "--\n",
    "```python\n",
    "## Example run: perform BLAST using the GI number of the query sequence\n",
    "from Bio import Blast\n",
    "result_stream = Blast.qblast(\"blastn\", \"nt\", \"8332116\")\n",
    "```\n",
    "--"
   ]
  },
  {
   "cell_type": "markdown",
   "metadata": {},
   "source": [
    "```python\n",
    "## Example run: perform BLAST Using a Fasta file\n",
    "```"
   ]
  },
  {
   "cell_type": "code",
   "execution_count": null,
   "metadata": {},
   "outputs": [],
   "source": [
    "from Bio import Blast\n",
    "\n",
    "## Read the FASTA file\n",
    "with open(\"Sample2.fasta\") as txt:\n",
    "    our_fasta = txt.read()\n",
    "\n",
    "## Perform BLAST search\n",
    "result_stream = Blast.qblast(\"blastn\", \"nt\", our_fasta)\n",
    "\n",
    "## Format result as FASTA (no metadata, ideal for quick inspection)\n",
    "# result_stream = Blast.qblast(\"blastn\", \"nt\", format(SeqRecord, \"fasta\"))\n",
    "\n",
    "## format result as XML (with metadata, useful for in-depth analysis)\n",
    "with open(\"my_blast.xml\", \"wb\") as out_stream:\n",
    "    out_stream.write(result_stream.read())\n",
    "\n",
    "## Close the result stream\n",
    "result_stream.close()\n",
    "\n",
    "## Reopen the saved XML file\n",
    "result_stream = open(\"my_blast.xml\", \"rb\")"
   ]
  },
  {
   "cell_type": "markdown",
   "metadata": {},
   "source": [
    "### BLAST Parsing\n",
    "Biopython can parse XML, XML2 and tabular format. There is no parsing for HTML and text output.\n",
    "\n",
    "**Output can be generated from**:\n",
    "- Biopython BLAST over the internet\n",
    "- Biopython BLAST local\n",
    "- BLAST on NCBI website\n",
    "- BLAST locally without Biopython (**BLAST+ command line tools**)\n",
    "\n"
   ]
  },
  {
   "cell_type": "code",
   "execution_count": null,
   "metadata": {},
   "outputs": [],
   "source": [
    "## One query\n",
    "# blast_record = Blast.read(result_stream)\n",
    "\n",
    "## Multiple querys (returns an iterator)\n",
    "blast_records = Blast.parse(result_stream)\n",
    "\n",
    "# Alternative: blast_record = next(blast_records)\n",
    "print(blast_records) # parser iterates over all records and saves them"
   ]
  },
  {
   "cell_type": "code",
   "execution_count": null,
   "metadata": {},
   "outputs": [],
   "source": [
    "## A single query: access the first BLAST record\n",
    "blast_record = blast_records[0]\n",
    "print(blast_record)"
   ]
  },
  {
   "cell_type": "code",
   "execution_count": null,
   "metadata": {},
   "outputs": [],
   "source": [
    "blast_slice = blast_record[:3] # to copy use copy = blast_record[:]\n",
    "print(blast_slice)"
   ]
  },
  {
   "cell_type": "code",
   "execution_count": null,
   "metadata": {},
   "outputs": [],
   "source": [
    "# BLAST Hit\n",
    "hit = blast_record[0] # 0 top hit; -1 last hit\n",
    "print(hit)"
   ]
  },
  {
   "cell_type": "code",
   "execution_count": null,
   "metadata": {},
   "outputs": [],
   "source": [
    "# BLAST HSP\n",
    "alignment = hit[0]\n",
    "print(alignment)"
   ]
  },
  {
   "cell_type": "code",
   "execution_count": null,
   "metadata": {},
   "outputs": [],
   "source": [
    "from Bio import SeqIO\n",
    "\n",
    "fasta_file = \"Sample2.fasta\"\n",
    "sequences = list(SeqIO.parse(fasta_file, \"fasta\"))\n",
    "\n",
    "def filter_sequences(sequences, min_length=100, motifs=None):\n",
    "    filtered_seqs = []\n",
    "    for seq_record in sequences:\n",
    "        matches = []\n",
    "        for motif, name in motifs.items():\n",
    "            if motif in seq_record.seq:\n",
    "                matches.append(name)\n",
    "        if len(seq_record.seq) >= min_length and matches:\n",
    "            filtered_seqs.append((seq_record, matches))\n",
    "    return filtered_seqs\n",
    "\n",
    "motifs_to_search = {\n",
    "    \"ATG\": \"Start codon\",\n",
    "    \"TGCAT\": \"IHF binding site\",\n",
    "    \"GCGCA\": \"CRP binding site\",\n",
    "    \"GAATTC\": \"EcoRI restriction site\",\n",
    "    \"AAGCTT\": \"HindIII restriction site\",\n",
    "    \"GGATCC\": \"BamHI restriction site\",\n",
    "    \"CTGTTG\": \"LacI binding site\",\n",
    "    \"GATC\": \"Dam methylation site\",\n",
    "    \"CCATGG\": \"NcoI restriction site\",\n",
    " }\n",
    "filtered_sequences = filter_sequences(sequences, motifs=motifs_to_search)\n",
    "\n",
    "for seq_record, matches in filtered_sequences:\n",
    "    print(f\">{seq_record.id}\\n{seq_record.seq}\\nMatches: {', '.join(matches)}\\n\")"
   ]
  }
 ],
 "metadata": {
  "kernelspec": {
   "display_name": "Enviroment",
   "language": "python",
   "name": "python3"
  },
  "language_info": {
   "codemirror_mode": {
    "name": "ipython",
    "version": 3
   },
   "file_extension": ".py",
   "mimetype": "text/x-python",
   "name": "python",
   "nbconvert_exporter": "python",
   "pygments_lexer": "ipython3",
   "version": "3.11.1"
  }
 },
 "nbformat": 4,
 "nbformat_minor": 2
}
