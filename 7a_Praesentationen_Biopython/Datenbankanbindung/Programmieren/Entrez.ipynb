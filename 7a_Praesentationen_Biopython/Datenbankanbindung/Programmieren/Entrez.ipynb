{
 "cells": [
  {
   "cell_type": "markdown",
   "metadata": {},
   "source": [
    "## Beispiel SQLite3"
   ]
  },
  {
   "cell_type": "code",
   "execution_count": 2,
   "metadata": {},
   "outputs": [
    {
     "name": "stdout",
     "output_type": "stream",
     "text": [
      "(1, 'BRCA1', 'ATCGGCTA')\n",
      "(2, 'TRAF6', 'ATCGGCTAGGG')\n",
      "(3, 'BRCA1', 'ATCGGCTA')\n",
      "(4, 'TRAF6', 'ATCGGCTAGGG')\n"
     ]
    }
   ],
   "source": [
    "import sqlite3\n",
    "\n",
    "# Connect to the database\n",
    "with sqlite3.connect('example.db') as conn:\n",
    "    # Create a database cursor\n",
    "    cursor = conn.cursor()\n",
    "    # Create the table if it doesn't exist\n",
    "    cursor.execute(\"CREATE TABLE IF NOT EXISTS sequences (id INTEGER PRIMARY KEY, name TEXT, sequence TEXT)\")\n",
    "    # Insert data into the table\n",
    "    cursor.execute(\"INSERT INTO sequences (name, sequence) VALUES (?, ?)\", (\"BRCA1\", \"ATCGGCTA\"))\n",
    "    cursor.execute(\"INSERT INTO sequences (name, sequence) VALUES (?, ?)\", (\"TRAF6\", \"ATCGGCTAGGG\"))\n",
    "    #cursor.execute(\"DELETE FROM sequences\")\n",
    "    # Commit changes (optional in `with` as it commits on close, but explicit commit is good practice)\n",
    "    conn.commit()\n",
    "\n",
    "with sqlite3.connect('example.db') as conn:\n",
    "    cursor = conn.cursor()\n",
    "    cursor.execute(\"SELECT * FROM sequences\")\n",
    "    rows = cursor.fetchall()\n",
    "    for row in rows:\n",
    "        print(row)"
   ]
  },
  {
   "cell_type": "markdown",
   "metadata": {},
   "source": [
    "## Beispiel Entrez"
   ]
  },
  {
   "cell_type": "code",
   "execution_count": 6,
   "metadata": {},
   "outputs": [
    {
     "name": "stdout",
     "output_type": "stream",
     "text": [
      "Gefundene IDs: ['262359905', '2814447092', '2814447090', '2814447088', '2811272175']\n",
      "ID: NG_005905.2, Beschreibung: Homo sapiens BRCA1 DNA repair associated (BRCA1), RefSeqGene (LRG_292) on chromosome 17, Sequenz: TGTGTGTATGAAGTTAACTTCAAAGCAAGCTTCCTGTGCTGAGGGGGTGG\n",
      "ID: PQ399722.1, Beschreibung: Homo sapiens isolate TWH-4347-0-1 Shortening of BRCA1 (BRCA1) gene, complete cds, Sequenz: ATGGATTTATCTGCTCTTCGCGTTGAAGAAGTACAAAATGTCATTAATGC\n",
      "ID: PQ399721.1, Beschreibung: Homo sapiens isolate TWH-4530-0-1 Shortening of BRCA1 (BRCA1) gene, complete cds, Sequenz: ATGGATTTATCTGCTCTTCGCGTTGAAGAAGTACAAAATGTCATTAATGC\n",
      "ID: PQ399720.1, Beschreibung: Homo sapiens isolate TWH-4363-0-1 Shortening of BRCA1 (BRCA1) gene, complete cds, Sequenz: ATGGATTTATCTGCTCTTCGCGTTGAAGAAGTACAAAATGTCATTAATGC\n",
      "ID: PQ178459.1, Beschreibung: Homo sapiens isolate OV-0685-0-1 breast and ovarian cancer susceptibility protein 1 (BRCA1) mRNA, partial sequence, Sequenz: ATGGATTTATCTGCTCTTCGCGTTGAAGAAGTACAAAATGTCATTAATGC\n",
      "\n",
      " Zusammenfassung: [{'Item': [], 'Id': '262359905', 'Caption': 'NG_005905', 'Title': 'Homo sapiens BRCA1 DNA repair associated (BRCA1), RefSeqGene (LRG_292) on chromosome 17', 'Extra': 'gi|262359905|ref|NG_005905.2||gnl|LRG|LRG_292[262359905]', 'Gi': IntegerElement(262359905, attributes={}), 'CreateDate': '2007/02/21', 'UpdateDate': '2024/10/29', 'Flags': IntegerElement(512, attributes={}), 'TaxId': IntegerElement(9606, attributes={}), 'Length': IntegerElement(193689, attributes={}), 'Status': 'live', 'ReplacedBy': '', 'Comment': '  ', 'AccessionVersion': 'NG_005905.2'}]\n",
      "\n",
      " Verknüpfte Proteine: [{'ERROR': [], 'LinkSetDb': [{'Link': [{'Id': '615276331'}, {'Id': '615276329'}, {'Id': '615276263'}, {'Id': '615276252'}, {'Id': '615276236'}, {'Id': '21450796'}, {'Id': '14110381'}, {'Id': '14110375'}, {'Id': '6552299'}, {'Id': '4885581'}], 'DbTo': 'protein', 'LinkName': 'nuccore_protein'}], 'LinkSetDbHistory': [], 'DbFrom': 'nuccore', 'IdList': ['262359905']}]\n",
      "\n",
      "Abrufen der ersten Protein-ID: 615276331\n",
      "\n",
      "Protein-Daten:\n",
      " LOCUS       NP_001278501             837 aa            linear   PRI 21-SEP-2024\n",
      "DEFINITION  next to BRCA1 gene 1 protein isoform c [Homo sapiens].\n",
      "ACCESSION   NP_001278501\n",
      "VERSION     NP_001278501.1\n",
      "DBSOURCE    REFSEQ: accession NM_001291572.2\n",
      "KEYWORDS    RefSeq.\n",
      "SOURCE      Homo sapiens (human)\n",
      "  ORGANISM  Homo sapiens\n",
      "            Eukaryota; Metazoa; Chordata; Craniata; Vertebrata; Euteleostomi;\n",
      "            Mammalia; Eutheria; Euarchontoglires; Primates; Haplorrhini;\n",
      "            Catarrhini; Hom\n"
     ]
    }
   ],
   "source": [
    "from Bio import Entrez, SeqIO\n",
    "\n",
    "Entrez.email = \"your_email@example.com\"\n",
    "\n",
    "# Suche nach IDs\n",
    "handle = Entrez.esearch(db=\"nucleotide\", term=\"BRCA1[Gene] AND Homo sapiens[Organism]\", retmax=5)\n",
    "results = Entrez.read(handle)\n",
    "print(\"Gefundene IDs:\", results['IdList'])\n",
    "handle.close()\n",
    "\n",
    "# Abruf der Sequenzen für jede ID\n",
    "for seq_id in results['IdList']:\n",
    "    handle = Entrez.efetch(db=\"nucleotide\", id=seq_id, rettype=\"gb\", retmode=\"text\")\n",
    "    seq_record = SeqIO.read(handle, \"genbank\")\n",
    "    handle.close()\n",
    "    print(f\"ID: {seq_record.id}, Beschreibung: {seq_record.description}, Sequenz: {seq_record.seq[:50]}\")\n",
    "\n",
    "handle = Entrez.esummary(db=\"nucleotide\", id=results['IdList'][0])\n",
    "summary = Entrez.read(handle)\n",
    "print(\"\\n Zusammenfassung:\",summary)\n",
    "\n",
    "handle = Entrez.elink(dbfrom=\"nucleotide\", db=\"protein\", id=results['IdList'][0])\n",
    "links = Entrez.read(handle)\n",
    "print(\"\\n Verknüpfte Proteine:\",links)\n",
    "\n",
    "protein_id = links[0][\"LinkSetDb\"][0][\"Link\"][0][\"Id\"]\n",
    "print(\"\\nAbrufen der ersten Protein-ID:\", protein_id)\n",
    "\n",
    "# Abrufen der Protein-Daten\n",
    "handle = Entrez.efetch(db=\"protein\", id=protein_id, rettype=\"gb\", retmode=\"text\")\n",
    "protein_data = handle.read()\n",
    "handle.close()\n",
    "print(\"\\nProtein-Daten:\\n\", protein_data[:500])  # Nur die ersten 500 Zeichen anzeigen"
   ]
  }
 ],
 "metadata": {
  "kernelspec": {
   "display_name": "Python 3",
   "language": "python",
   "name": "python3"
  },
  "language_info": {
   "codemirror_mode": {
    "name": "ipython",
    "version": 3
   },
   "file_extension": ".py",
   "mimetype": "text/x-python",
   "name": "python",
   "nbconvert_exporter": "python",
   "pygments_lexer": "ipython3",
   "version": "3.11.9"
  }
 },
 "nbformat": 4,
 "nbformat_minor": 2
}
