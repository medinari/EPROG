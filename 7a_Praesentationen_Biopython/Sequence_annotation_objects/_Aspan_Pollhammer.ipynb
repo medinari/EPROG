{
 "cells": [
  {
   "cell_type": "markdown",
   "metadata": {
    "id": "7kOTEcwoyK9P"
   },
   "source": [
    "## Sequence annotation objects\n",
    "\n",
    "\n",
    "Sequence annotation objects in Biopython represent features of biological sequences, such as genes, promoters, or regulatory regions, often stored as `SeqFeature` objects within sequence records `SeqRecord`. These enable structured metadata for regions of interest.\n",
    "\n"
   ]
  },
  {
   "cell_type": "code",
   "execution_count": 2,
   "metadata": {
    "colab": {
     "base_uri": "https://localhost:8080/"
    },
    "collapsed": true,
    "id": "XvaZVUqTxsCC",
    "outputId": "c9132d0c-e801-449a-8e2c-8b10412b7276"
   },
   "outputs": [
    {
     "name": "stdout",
     "output_type": "stream",
     "text": [
      "1.84\n"
     ]
    }
   ],
   "source": [
    "import Bio\n",
    "print(Bio.__version__)"
   ]
  },
  {
   "cell_type": "code",
   "execution_count": 4,
   "metadata": {
    "id": "l0IiaN1dn0xz"
   },
   "outputs": [],
   "source": [
    "from Bio.SeqRecord import SeqRecord\n",
    "# Execute help() to view help on class SeqRecord\n",
    "# help(SeqRecord)"
   ]
  },
  {
   "cell_type": "markdown",
   "metadata": {
    "id": "xc8_foaZn2qv"
   },
   "source": [
    "### Creation and structure of a SeqRecord"
   ]
  },
  {
   "cell_type": "code",
   "execution_count": 5,
   "metadata": {
    "colab": {
     "base_uri": "https://localhost:8080/"
    },
    "id": "2siRYJeJn4gn",
    "outputId": "72428d4f-f75a-4a37-ba92-975b4c5b0b8b"
   },
   "outputs": [
    {
     "name": "stdout",
     "output_type": "stream",
     "text": [
      "Sequence Object: GATC \n",
      "\n",
      "ID: <unknown id>\n",
      "Name: <unknown name>\n",
      "Description: <unknown description>\n",
      "Number of features: 0\n",
      "Seq('GATC')\n"
     ]
    }
   ],
   "source": [
    "from Bio.Seq import Seq\n",
    "# Create Seq Object\n",
    "simple_seq = Seq(\"GATC\")\n",
    "\n",
    "print(f\"Sequence Object: {simple_seq}\", \"\\n\")\n",
    "# Use Seq Object for Seq Record creation\n",
    "simple_seq_r = SeqRecord(simple_seq)\n",
    "\n",
    "print(simple_seq_r)"
   ]
  },
  {
   "cell_type": "markdown",
   "metadata": {
    "id": "45UM0hlBn5rg"
   },
   "source": [
    "### Attributes of a SeqRecord\n",
    "\n",
    "Main attributes:\n",
    " - `id`          - Identifier such as a locus tag (string)\n",
    " - `seq`         - The sequence itself (`Seq` object or similar)\n",
    "\n",
    "Additional attributes:\n",
    " - `name`        - Sequence name, e.g. gene name (string)\n",
    " - `description` - Additional text (string)\n",
    " - `dbxrefs`     - List of database cross references (list of strings)\n",
    " - `features`    - Any (sub)features defined (list of `SeqFeature` objects)\n",
    " - `annotations` - Further information about the whole sequence (dictionary).<br>\n",
    "  Most entries are strings, or lists of strings.\n",
    " - `letter_annotations` - Per letter/symbol annotation (restricted\n",
    "     dictionary). This holds Python sequences (lists, strings\n",
    "     or tuples) whose length matches that of the sequence.\n",
    "     A typical use would be to hold a list of integers\n",
    "     representing sequencing quality scores, or a string\n",
    "     representing the secondary structure."
   ]
  },
  {
   "cell_type": "code",
   "execution_count": 6,
   "metadata": {
    "colab": {
     "base_uri": "https://localhost:8080/"
    },
    "id": "0yf3qIUqn-VL",
    "outputId": "cacc43e5-0b5a-4d11-e6c2-862bb7276960"
   },
   "outputs": [
    {
     "name": "stdout",
     "output_type": "stream",
     "text": [
      "<unknown id>\n"
     ]
    }
   ],
   "source": [
    "# No information on ID, this can be added manually\n",
    "print(simple_seq_r.id)"
   ]
  },
  {
   "cell_type": "code",
   "execution_count": 7,
   "metadata": {
    "colab": {
     "base_uri": "https://localhost:8080/",
     "height": 35
    },
    "id": "RDME5i_uoCmd",
    "outputId": "1184a98b-6ea9-4f0c-9d91-81d38e2f526c"
   },
   "outputs": [
    {
     "data": {
      "text/plain": [
       "'AC12345'"
      ]
     },
     "execution_count": 7,
     "metadata": {},
     "output_type": "execute_result"
    }
   ],
   "source": [
    "# Adding identifier information to the SeqRecord\n",
    "simple_seq_r.id = \"AC12345\"\n",
    "simple_seq_r.id"
   ]
  },
  {
   "cell_type": "code",
   "execution_count": 8,
   "metadata": {
    "colab": {
     "base_uri": "https://localhost:8080/",
     "height": 35
    },
    "id": "O0iNVtnnoCet",
    "outputId": "76716ba0-0380-488e-f26f-0a428438b72d"
   },
   "outputs": [
    {
     "data": {
      "text/plain": [
       "'Made up sequence I wish I could write a paper about'"
      ]
     },
     "execution_count": 8,
     "metadata": {},
     "output_type": "execute_result"
    }
   ],
   "source": [
    "# Adding description information to the SeqRecord\n",
    "simple_seq_r.description = \"Made up sequence I wish I could write a paper about\"\n",
    "simple_seq_r.description"
   ]
  },
  {
   "cell_type": "code",
   "execution_count": 9,
   "metadata": {
    "colab": {
     "base_uri": "https://localhost:8080/"
    },
    "id": "J_CD8HMQoCXz",
    "outputId": "a9bae0a2-5364-4ada-e100-eda56b590c0e"
   },
   "outputs": [
    {
     "data": {
      "text/plain": [
       "Seq('GATC')"
      ]
     },
     "execution_count": 9,
     "metadata": {},
     "output_type": "execute_result"
    }
   ],
   "source": [
    "# seq is still a Seq Object\n",
    "simple_seq_r.seq"
   ]
  },
  {
   "cell_type": "code",
   "execution_count": 10,
   "metadata": {
    "colab": {
     "base_uri": "https://localhost:8080/"
    },
    "id": "GkKfAW3BoCN_",
    "outputId": "ac566bad-9eb0-4369-b104-a9f70d1b587d"
   },
   "outputs": [
    {
     "name": "stdout",
     "output_type": "stream",
     "text": [
      "ID: AC54321\n",
      "Name: <unknown name>\n",
      "Description: <unknown description>\n",
      "Number of features: 0\n",
      "Seq('GATC')\n"
     ]
    }
   ],
   "source": [
    "# Directly add ID information on creation of SeqRecord\n",
    "simple_seq_r = SeqRecord(simple_seq, id=\"AC54321\")\n",
    "print(simple_seq_r)"
   ]
  },
  {
   "cell_type": "code",
   "execution_count": 11,
   "metadata": {
    "colab": {
     "base_uri": "https://localhost:8080/"
    },
    "id": "cvgXAjnsGS2n",
    "outputId": "65df0f31-0fde-4bdf-dfe5-459cf17e15ad"
   },
   "outputs": [
    {
     "name": "stdout",
     "output_type": "stream",
     "text": [
      "{'evidence': 'None. I just made it up.'}\n",
      "None. I just made it up.\n"
     ]
    }
   ],
   "source": [
    "# Add annotation dictionary key pair to the SeqRecord\n",
    "simple_seq_r.annotations[\"evidence\"] = \"None. I just made it up.\"\n",
    "# View the added dictionary\n",
    "print(simple_seq_r.annotations)\n",
    "# View the value pair by providing the key\n",
    "print(simple_seq_r.annotations[\"evidence\"])"
   ]
  },
  {
   "cell_type": "markdown",
   "metadata": {
    "id": "xHfq6bZQoNqj"
   },
   "source": [
    "### SeqFeature objects"
   ]
  },
  {
   "cell_type": "code",
   "execution_count": 12,
   "metadata": {
    "id": "qpdnS9zFoR6F"
   },
   "outputs": [],
   "source": [
    "from Bio.Seq import Seq\n",
    "from Bio.SeqRecord import SeqRecord\n",
    "from Bio.SeqFeature import SeqFeature, FeatureLocation\n",
    "\n",
    "#help(SeqFeature)"
   ]
  },
  {
   "cell_type": "markdown",
   "metadata": {
    "id": "1w1jU_ztoSqk"
   },
   "source": [
    "Attributes:\n",
    " - `location` - the location of the feature on the sequence (SimpleLocation)\n",
    " - `type` - the specified type of the feature (ie. CDS, exon, repeat...)\n",
    " - `id` - A string identifier for the feature.\n",
    " - `qualifiers` - A dictionary of qualifiers on the feature. These are analogous to the qualifiers from a GenBank feature table. The keys of the dictionary are qualifier names, the values are the qualifier values.\n"
   ]
  },
  {
   "cell_type": "code",
   "execution_count": 13,
   "metadata": {
    "colab": {
     "base_uri": "https://localhost:8080/"
    },
    "id": "2UxO0Ss1oVVS",
    "outputId": "520d6161-e8de-4c16-8c9f-bc5ec3ea8600"
   },
   "outputs": [
    {
     "name": "stdout",
     "output_type": "stream",
     "text": [
      "ID: NC_000913.3\n",
      "Name: Example_Record\n",
      "Description: Example sequence with annotations\n",
      "Number of features: 2\n",
      "/molecule_type=DNA\n",
      "/organism=E. coli\n",
      "Per letter annotation for: phred_quality\n",
      "Seq('ATGGCCATTGTAATGGGCCGCTGAAAGGGTGCCCGATAG')\n"
     ]
    }
   ],
   "source": [
    "# Create a sequence\n",
    "sequence = Seq(\"ATGGCCATTGTAATGGGCCGCTGAAAGGGTGCCCGATAG\")\n",
    "\n",
    "# Create a SeqRecord\n",
    "seq_record = SeqRecord(\n",
    "    sequence,\n",
    "    id=\"NC_000913.3\",  # Accession number or ID\n",
    "    name=\"Example_Record\",\n",
    "    description=\"Example sequence with annotations\",\n",
    "    annotations={\"molecule_type\": \"DNA\", \"organism\": \"E. coli\"},\n",
    ")\n",
    "\n",
    "# Add features\n",
    "seq_record.features.append(\n",
    "    SeqFeature(location=FeatureLocation(0, 12), type=\"CDS\", qualifiers={\"gene\": \"example_gene\"})\n",
    ")\n",
    "seq_record.features.append(\n",
    "    SeqFeature(location=FeatureLocation(15, 30), type=\"regulatory\", qualifiers={\"note\": \"promoter\"})\n",
    ")\n",
    "\n",
    "# Add Phred quality scores as letter annotations\n",
    "seq_record.letter_annotations[\"phred_quality\"] = [40, 38, 39, 37, 40, 38, 37, 35, 36, 38, 39, 40,\n",
    "                                                   35, 36, 38, 39, 40, 37, 38, 39, 40, 38, 37, 35,\n",
    "                                                   36, 38, 39, 40, 35, 36, 38, 39, 40, 37, 38, 39,\n",
    "                                                   37, 37, 37]\n",
    "\n",
    "# Output\n",
    "print(seq_record)"
   ]
  },
  {
   "cell_type": "markdown",
   "metadata": {
    "id": "HR1Z6JpBobTr"
   },
   "source": [
    "### SeqRecord objects from FASTA files\n"
   ]
  },
  {
   "cell_type": "code",
   "execution_count": 15,
   "metadata": {
    "colab": {
     "base_uri": "https://localhost:8080/"
    },
    "id": "mYTiSpIIobj_",
    "outputId": "0e08187e-53c9-4294-a9e8-18977d248b52"
   },
   "outputs": [
    {
     "name": "stdout",
     "output_type": "stream",
     "text": [
      "ID: gi|45478711|ref|NC_005816.1|\n",
      "Name: gi|45478711|ref|NC_005816.1|\n",
      "Description: gi|45478711|ref|NC_005816.1| Yersinia pestis biovar Microtus str. 91001 plasmid pPCP1, complete sequence\n",
      "Number of features: 0\n",
      "Seq('TGTAACGAACGGTGCAATAGTGATCCACACCCAACGCCTGAAATCAGATCCAGG...CTG')\n"
     ]
    }
   ],
   "source": [
    "from Bio import SeqIO\n",
    "\n",
    "# Title of FASTA is used for ID, Name and Description\n",
    "# Theoretically gi number can be extracted and added as separate annotation to the SeqRecord but FASTA files from other sources vary.\n",
    "record = SeqIO.read(\"NC_005816.fna\", \"fasta\")\n",
    "\n",
    "print(record)"
   ]
  },
  {
   "cell_type": "markdown",
   "metadata": {
    "id": "CoitEVt6ocEt"
   },
   "source": [
    "### SeqRecord objects from GenBank files"
   ]
  },
  {
   "cell_type": "code",
   "execution_count": 16,
   "metadata": {
    "colab": {
     "base_uri": "https://localhost:8080/",
     "height": 356
    },
    "collapsed": true,
    "id": "XH1lO_ZTocTd",
    "outputId": "b3f17641-5d64-41b7-bad2-b37792b1c7cb"
   },
   "outputs": [
    {
     "name": "stdout",
     "output_type": "stream",
     "text": [
      "ID: NC_005816.1\n",
      "Name: NC_005816\n",
      "Description: Yersinia pestis biovar Microtus str. 91001 plasmid pPCP1, complete sequence\n",
      "Database cross-references: Project:58037\n",
      "Number of features: 41\n",
      "/molecule_type=DNA\n",
      "/topology=circular\n",
      "/data_file_division=BCT\n",
      "/date=21-JUL-2008\n",
      "/accessions=['NC_005816']\n",
      "/sequence_version=1\n",
      "/gi=45478711\n",
      "/keywords=['']\n",
      "/source=Yersinia pestis biovar Microtus str. 91001\n",
      "/organism=Yersinia pestis biovar Microtus str. 91001\n",
      "/taxonomy=['Bacteria', 'Proteobacteria', 'Gammaproteobacteria', 'Enterobacteriales', 'Enterobacteriaceae', 'Yersinia']\n",
      "/references=[Reference(title='Genetics of metabolic variations between Yersinia pestis biovars and the proposal of a new biovar, microtus', ...), Reference(title='Complete genome sequence of Yersinia pestis strain 91001, an isolate avirulent to humans', ...), Reference(title='Direct Submission', ...), Reference(title='Direct Submission', ...)]\n",
      "/comment=PROVISIONAL REFSEQ: This record has not yet been subject to final\n",
      "NCBI review. The reference sequence was derived from AE017046.\n",
      "COMPLETENESS: full length.\n",
      "Seq('TGTAACGAACGGTGCAATAGTGATCCACACCCAACGCCTGAAATCAGATCCAGG...CTG')\n"
     ]
    }
   ],
   "source": [
    "from Bio import SeqIO\n",
    "\n",
    "record = SeqIO.read(\"NC_005816.gb\", \"genbank\")\n",
    "\n",
    "print(record)"
   ]
  },
  {
   "cell_type": "markdown",
   "metadata": {
    "id": "KONgTWs44rDY"
   },
   "source": [
    "### Location testing\n",
    "- the key idea about each `SeqFeature` object is to describe a region on a parent sequence\n",
    "- these features (gene, CDS, SNP, ...) have a location range (`feature.location` object) on the DNA-sequence\n",
    "- you can check if a specific position falls within any feature’s range\n",
    "- you can also check if there are notes on that feature via `get()` on the `feature.qualifiers` object"
   ]
  },
  {
   "cell_type": "code",
   "execution_count": null,
   "metadata": {
    "colab": {
     "base_uri": "https://localhost:8080/"
    },
    "id": "bnAVvjo-44AX",
    "outputId": "f5fcbc2d-3ee9-4d7a-bbcb-413ce6fe683e"
   },
   "outputs": [
    {
     "name": "stdout",
     "output_type": "stream",
     "text": [
      "Feature type: source,\n",
      " Location: [0:9609](+),\n",
      " Note: None\n",
      "-----\n",
      "Feature type: gene,\n",
      " Location: [4342:4780](+),\n",
      " Note: None\n",
      "-----\n",
      "Feature type: CDS,\n",
      " Location: [4342:4780](+),\n",
      " Note: ['similar to many previously sequenced pesticin immunity protein entries of Yersinia pestis plasmid pPCP, e.g. gi| 16082683|,ref|NP_395230.1| (NC_003132) , gi|1200166|emb|CAA90861.1| (Z54145 ) , gi|1488655| emb|CAA63439.1| (X92856) , gi|2996219|gb|AAC62543.1| (AF053945) , and gi|5763814|emb|CAB531 67.1| (AL109969)']\n",
      "-----\n"
     ]
    }
   ],
   "source": [
    "my_snp = 4350\n",
    "record = SeqIO.read(\"sample_data/NC_005816.gb\", \"genbank\")\n",
    "\n",
    "for feature in record.features:\n",
    "    if my_snp in feature:\n",
    "        print(\"Feature type: {},\\n Location: {},\\n Note: {}\\n-----\"\n",
    "                .format(feature.type,\n",
    "                        feature.location,\n",
    "                        feature.qualifiers.get('note')))\n"
   ]
  },
  {
   "cell_type": "markdown",
   "metadata": {
    "id": "r6IeeulrFAHv"
   },
   "source": [
    "### Slicing a SeqRecord ✂\n",
    "- slicing a `seq` object works just like slicing a `str` object - exclusive start and inclusive end\n",
    "- via `enumerate()` we can get the feature Nr. of our gene of interest from the feature list"
   ]
  },
  {
   "cell_type": "code",
   "execution_count": null,
   "metadata": {
    "colab": {
     "base_uri": "https://localhost:8080/"
    },
    "id": "LCg_auOHFH2D",
    "outputId": "f97f31ad-24a5-444b-af8d-ec67dae80a7f"
   },
   "outputs": [
    {
     "name": "stdout",
     "output_type": "stream",
     "text": [
      "Feature #0: Type = source, Location = [0:9609](+)\n",
      "Feature #20: Type = gene, Location = [4342:4780](+)\n",
      "Feature #21: Type = CDS, Location = [4342:4780](+)\n"
     ]
    }
   ],
   "source": [
    "my_snp = 4350\n",
    "record = SeqIO.read(\"sample_data/NC_005816.gb\", \"genbank\")\n",
    "\n",
    "for idx, feature in enumerate(record.features):\n",
    "    if my_snp in feature:\n",
    "        print(\"Feature #{}: Type = {}, Location = {}\"\n",
    "        .format(idx, feature.type,\n",
    "                feature.location))"
   ]
  },
  {
   "cell_type": "code",
   "execution_count": null,
   "metadata": {
    "colab": {
     "base_uri": "https://localhost:8080/"
    },
    "id": "tWyTFz8yMTZy",
    "outputId": "cbcc5724-d9ad-4c75-f797-cfb56cff0a55"
   },
   "outputs": [
    {
     "name": "stdout",
     "output_type": "stream",
     "text": [
      "type: CDS\n",
      "location: [4342:4780](+)\n",
      "qualifiers:\n",
      "    Key: codon_start, Value: ['1']\n",
      "    Key: db_xref, Value: ['GI:45478716', 'GeneID:2767712']\n",
      "    Key: gene, Value: ['pim']\n",
      "    Key: locus_tag, Value: ['YP_pPCP05']\n",
      "    Key: note, Value: ['similar to many previously sequenced pesticin immunity protein entries of Yersinia pestis plasmid pPCP, e.g. gi| 16082683|,ref|NP_395230.1| (NC_003132) , gi|1200166|emb|CAA90861.1| (Z54145 ) , gi|1488655| emb|CAA63439.1| (X92856) , gi|2996219|gb|AAC62543.1| (AF053945) , and gi|5763814|emb|CAB531 67.1| (AL109969)']\n",
      "    Key: product, Value: ['pesticin immunity protein']\n",
      "    Key: protein_id, Value: ['NP_995571.1']\n",
      "    Key: transl_table, Value: ['11']\n",
      "    Key: translation, Value: ['MGGGMISKLFCLALIFLSSSGLAEKNTYTAKDILQNLELNTFGNSLSHGIYGKQTTFKQTEFTNIKSNTKKHIALINKDNSWMISLKILGIKRDEYTVCFEDFSLIRPPTYVAIHPLLIKKVKSGNFIVVKEIKKSIPGCTVYYH']\n",
      "\n"
     ]
    }
   ],
   "source": [
    "print(record.features[21])"
   ]
  },
  {
   "cell_type": "code",
   "execution_count": null,
   "metadata": {
    "colab": {
     "base_uri": "https://localhost:8080/"
    },
    "id": "B04ghLTSIW8x",
    "outputId": "bb51541b-ca07-4c91-ddc6-9d7ae116b26d"
   },
   "outputs": [
    {
     "name": "stdout",
     "output_type": "stream",
     "text": [
      "ID: NC_005816.1\n",
      "Name: NC_005816\n",
      "Description: Yersinia pestis biovar Microtus str. 91001 plasmid pPCP1, complete sequence\n",
      "Number of features: 2\n",
      "/molecule_type=DNA\n",
      "Seq('ATAAATAGATTATTCCAAATAATTTATTTATGTAAGAACAGGATGGGAGGGGGA...TTA')\n"
     ]
    },
    {
     "data": {
      "text/plain": [
       "500"
      ]
     },
     "execution_count": 7,
     "metadata": {},
     "output_type": "execute_result"
    }
   ],
   "source": [
    "#slicing the GOI\n",
    "sub_record = record[4300:4800]\n",
    "print(sub_record)\n",
    "\n",
    "#lenght of GOI\n",
    "len(sub_record)"
   ]
  },
  {
   "cell_type": "markdown",
   "metadata": {
    "id": "jwnDEdgoFOXf"
   },
   "source": [
    "- after slicing, the locations of the features have been adjusted to reflect the new parent sequence\n",
    "- the sliced sequence has now two features left: the gene and CDS entry from the parent string"
   ]
  },
  {
   "cell_type": "code",
   "execution_count": null,
   "metadata": {
    "colab": {
     "base_uri": "https://localhost:8080/"
    },
    "id": "ndMzEgHsGHAl",
    "outputId": "51bec320-7f88-4f64-dd6f-0c3b9e61f415"
   },
   "outputs": [
    {
     "name": "stdout",
     "output_type": "stream",
     "text": [
      "type: gene\n",
      "location: [42:480](+)\n",
      "qualifiers:\n",
      "    Key: db_xref, Value: ['GeneID:2767712']\n",
      "    Key: gene, Value: ['pim']\n",
      "    Key: locus_tag, Value: ['YP_pPCP05']\n",
      "\n",
      "type: CDS\n",
      "location: [42:480](+)\n",
      "qualifiers:\n",
      "    Key: codon_start, Value: ['1']\n",
      "    Key: db_xref, Value: ['GI:45478716', 'GeneID:2767712']\n",
      "    Key: gene, Value: ['pim']\n",
      "    Key: locus_tag, Value: ['YP_pPCP05']\n",
      "    Key: note, Value: ['similar to many previously sequenced pesticin immunity protein entries of Yersinia pestis plasmid pPCP, e.g. gi| 16082683|,ref|NP_395230.1| (NC_003132) , gi|1200166|emb|CAA90861.1| (Z54145 ) , gi|1488655| emb|CAA63439.1| (X92856) , gi|2996219|gb|AAC62543.1| (AF053945) , and gi|5763814|emb|CAB531 67.1| (AL109969)']\n",
      "    Key: product, Value: ['pesticin immunity protein']\n",
      "    Key: protein_id, Value: ['NP_995571.1']\n",
      "    Key: transl_table, Value: ['11']\n",
      "    Key: translation, Value: ['MGGGMISKLFCLALIFLSSSGLAEKNTYTAKDILQNLELNTFGNSLSHGIYGKQTTFKQTEFTNIKSNTKKHIALINKDNSWMISLKILGIKRDEYTVCFEDFSLIRPPTYVAIHPLLIKKVKSGNFIVVKEIKKSIPGCTVYYH']\n",
      "\n"
     ]
    }
   ],
   "source": [
    "#accesing features via index\n",
    "print(sub_record.features[0])\n",
    "print(sub_record.features[1])"
   ]
  },
  {
   "cell_type": "code",
   "execution_count": null,
   "metadata": {
    "colab": {
     "base_uri": "https://localhost:8080/"
    },
    "id": "nF03j7uOIffS",
    "outputId": "810a56bf-db3b-4d8a-bd35-dbbff208bc5f"
   },
   "outputs": [
    {
     "name": "stdout",
     "output_type": "stream",
     "text": [
      "{'molecule_type': 'DNA'}\n",
      "[]\n"
     ]
    }
   ],
   "source": [
    "# checking annotations and databank cross-references after slicing\n",
    "print(sub_record.annotations)\n",
    "print(sub_record.dbxrefs)"
   ]
  },
  {
   "cell_type": "markdown",
   "metadata": {
    "id": "CQdeZXLyFjXZ"
   },
   "source": [
    "- the `.annotations` and `.dbxrefs` are omitted from the sub-record, and it is up to you to transfer any relevant information as appropriate\n",
    "-  `id`, `name` and `description` are preserved for practicality but may be updated!\n",
    "-  e.g. our new sub-record is not the complete sequence of the plasmid, so the description is wrong"
   ]
  },
  {
   "cell_type": "code",
   "execution_count": null,
   "metadata": {
    "colab": {
     "base_uri": "https://localhost:8080/"
    },
    "id": "3Db49kKbFtoH",
    "outputId": "0a890419-ecd0-45b4-a42b-89eff7fce883"
   },
   "outputs": [
    {
     "name": "stdout",
     "output_type": "stream",
     "text": [
      "NC_005816.1\n",
      "Yersinia pestis biovar Microtus str. 91001 plasmid pPCP1, complete sequence\n",
      "NC_005816.pim_gene\n"
     ]
    }
   ],
   "source": [
    "# annotations need to be updated manually to ensure correctnes\n",
    "print(sub_record.id)\n",
    "print(sub_record.description)\n",
    "\n",
    "sub_record.id = \"NC_005816.pim_gene\"\n",
    "print(sub_record.id)"
   ]
  },
  {
   "cell_type": "markdown",
   "metadata": {
    "id": "VK9ovf7zjDZa"
   },
   "source": [
    "### Adding SeqRecord objects\n",
    "- you can combine `SeqRecord` objects to create a new one\n",
    "- features are preserved, with adjusted locations\n",
    "- shared annotations like `id`, `name`, and `description` are retained"
   ]
  },
  {
   "cell_type": "code",
   "execution_count": 19,
   "metadata": {
    "colab": {
     "base_uri": "https://localhost:8080/"
    },
    "id": "GFmImkb0jLrx",
    "outputId": "9c3f96cd-b891-4fd7-ac27-cc4b1b0742e8"
   },
   "outputs": [
    {
     "name": "stdout",
     "output_type": "stream",
     "text": [
      "25\n",
      "CCCTTCTTGTCTTCAGCGTTTCTCC\n"
     ]
    }
   ],
   "source": [
    "sequence = SeqRecord(Seq('CCCTTCTTGTCTTCAGCGTTTCTCC'))\n",
    "\n",
    "print(len(sequence))\n",
    "print(sequence.seq)"
   ]
  },
  {
   "cell_type": "markdown",
   "metadata": {
    "id": "xrQ6cAm8jaS4"
   },
   "source": [
    "- we can make a new edited record by slicing the `SeqRecord` before and after the third T\n",
    "- we can also add a string to a `SeqRecord` object"
   ]
  },
  {
   "cell_type": "code",
   "execution_count": 20,
   "metadata": {
    "colab": {
     "base_uri": "https://localhost:8080/"
    },
    "id": "xDx6ssYgjnBg",
    "outputId": "528aa76e-e1d5-441a-87c0-ae24062b3b4d"
   },
   "outputs": [
    {
     "name": "stdout",
     "output_type": "stream",
     "text": [
      "24\n",
      "CCCTTCTTGTCTTCAGCGTTCTCC\n",
      "CCCTTCTTGTCTTCAGCGTTCTCCAGT\n"
     ]
    }
   ],
   "source": [
    "edited = sequence[:20] + sequence[21:]\n",
    "print(len(edited))\n",
    "print(edited.seq)\n",
    "\n",
    "edited_2 = edited + 'AGT'\n",
    "print(edited_2.seq)"
   ]
  },
  {
   "cell_type": "markdown",
   "metadata": {
    "id": "tyRY2mYv-PZS"
   },
   "source": [
    "### Comparison\n",
    "##### What happens when you try to compare these “identical” records?"
   ]
  },
  {
   "cell_type": "code",
   "execution_count": 21,
   "metadata": {
    "id": "LxfD2d9K-VfJ"
   },
   "outputs": [],
   "source": [
    "record1 = SeqRecord(Seq(\"ACGT\"), id=\"test\")\n",
    "record2 = SeqRecord(Seq(\"ACGT\"), id=\"test\")"
   ]
  },
  {
   "cell_type": "markdown",
   "metadata": {
    "id": "Rv0PqNqL-YgD"
   },
   "source": [
    "- older Biopython Versions would only return `True` when compared objects pointing to same adress in memory\n",
    "- to avoid this in Biopythons newer versions (from 1.67 on) Pythons default object comparison ` __eq__` will raise a `NotImplentedError`\n",
    "- how to compare: check instead the attributes you are interested in, e.g. the id or sequence itself"
   ]
  },
  {
   "cell_type": "code",
   "execution_count": 22,
   "metadata": {
    "id": "tJ7jsaol-z0i"
   },
   "outputs": [
    {
     "data": {
      "text/plain": [
       "True"
      ]
     },
     "execution_count": 22,
     "metadata": {},
     "output_type": "execute_result"
    }
   ],
   "source": [
    "record1.id == record2.id\n",
    "record1.seq == record2.seq"
   ]
  },
  {
   "cell_type": "markdown",
   "metadata": {
    "id": "7a78GRs8_5hb"
   },
   "source": [
    "Some commonly used `str` methods that are not implemented in the `SeqRecord`class:"
   ]
  },
  {
   "cell_type": "code",
   "execution_count": null,
   "metadata": {
    "colab": {
     "base_uri": "https://localhost:8080/"
    },
    "collapsed": true,
    "id": "Hu8tuKOt54HX",
    "outputId": "246bd36a-2344-4b58-cb9b-ae450ae85af8"
   },
   "outputs": [],
   "source": [
    "\n",
    "# \"\"\" def __lt__(self, other: Any) -> NoReturn:\n",
    "#     \"\"\"Define the less-than operand (not implemented).\"\"\"\n",
    "#     raise NotImplementedError(_NO_SEQRECORD_COMPARISON)\n",
    "\n",
    "# def __eq__(self, other: object) -> NoReturn:\n",
    "#     \"\"\"Define the equal-to operand (not implemented).\"\"\"\n",
    "#     raise NotImplementedError(_NO_SEQRECORD_COMPARISON)\n",
    "\n",
    "# def __gt__(self, other: Any) -> NoReturn:\n",
    "#     \"\"\"Define the greater-than operand (not implemented).\"\"\"\n",
    "#     raise NotImplementedError(_NO_SEQRECORD_COMPARISON)\n",
    "\n",
    "# \"\"\""
   ]
  },
  {
   "cell_type": "markdown",
   "metadata": {
    "id": "iIrNgipAOIGc"
   },
   "source": [
    "##### Some methods known from the `str` class that will work with `SeqRec` objects:\n"
   ]
  },
  {
   "cell_type": "code",
   "execution_count": 25,
   "metadata": {
    "colab": {
     "base_uri": "https://localhost:8080/"
    },
    "id": "_GiVwZd4OUxp",
    "outputId": "7ba1be85-7922-4153-955c-0a1f6de8b4fe"
   },
   "outputs": [
    {
     "name": "stdout",
     "output_type": "stream",
     "text": [
      "9609\n",
      "9612\n",
      "CCCTTCTTGTCTTCAGCGTTCTCC\n",
      "cccttcttgtcttcagcgttctcc\n"
     ]
    }
   ],
   "source": [
    "# Return the length of the sequence\n",
    "print(len(record))\n",
    "# Add another sequence or string to sequence, by default omitts different annotation info!\n",
    "new = record + 'ATG' # position defines where str is added\n",
    "print(len(new.seq))\n",
    "# Return the number of non-overlapping occurrences of sub in sequence - count(sub, start, end)\n",
    "record.count('GLIS')\n",
    "# Return a copy of the record with an upper/lower case sequence\n",
    "print(edited.seq.upper())\n",
    "print(edited.seq.lower())"
   ]
  },
  {
   "cell_type": "markdown",
   "metadata": {
    "id": "x2PeBZMkrksN"
   },
   "source": [
    "### The format method\n",
    "- `format()` -> string\n",
    "- should be a lower case string supported as an output format, e.g fasta or FASTQ\n",
    "- formats that require more than one sequence (multiple sequence alignmet formats) won't work with `format()` method"
   ]
  },
  {
   "cell_type": "code",
   "execution_count": null,
   "metadata": {
    "colab": {
     "base_uri": "https://localhost:8080/"
    },
    "id": "o96HoDaKsJeU",
    "outputId": "4580307e-12e5-490d-8a31-73092dc3262e"
   },
   "outputs": [
    {
     "name": "stdout",
     "output_type": "stream",
     "text": [
      "ID: gi|14150838|gb|AAK54648.1|AF376133_1\n",
      "Name: <unknown name>\n",
      "Description: chalcone synthase [Cucumis sativus]\n",
      "Number of features: 0\n",
      "Seq('MMYQQGCFAGGTVLRLAKDLAENNRGARVLVVCSEITAVTFRGPSETHLDSMVG...LIS')\n",
      ">gi|14150838|gb|AAK54648.1|AF376133_1 chalcone synthase [Cucumis sativus]\n",
      "MMYQQGCFAGGTVLRLAKDLAENNRGARVLVVCSEITAVTFRGPSETHLDSMVGQALFGD\n",
      "GAGAVIVGSDPDLSVERPLYELVWTGATLLPDSEGAIDGHLREVGLTFHLLKDVPGLIS\n",
      "\n"
     ]
    }
   ],
   "source": [
    "record = SeqRecord(\n",
    "    Seq(\n",
    "        \"MMYQQGCFAGGTVLRLAKDLAENNRGARVLVVCSEITAVTFRGPSETHLDSMVGQALFGD\"\n",
    "        \"GAGAVIVGSDPDLSVERPLYELVWTGATLLPDSEGAIDGHLREVGLTFHLLKDVPGLIS\"\n",
    "    ),\n",
    "    id=\"gi|14150838|gb|AAK54648.1|AF376133_1\",\n",
    "    description=\"chalcone synthase [Cucumis sativus]\",\n",
    ")\n",
    "\n",
    "print(record)\n",
    "\n",
    "print(record.format(\"fasta\"))\n"
   ]
  }
 ],
 "metadata": {
  "colab": {
   "provenance": []
  },
  "kernelspec": {
   "display_name": "Python 3",
   "name": "python3"
  },
  "language_info": {
   "codemirror_mode": {
    "name": "ipython",
    "version": 3
   },
   "file_extension": ".py",
   "mimetype": "text/x-python",
   "name": "python",
   "nbconvert_exporter": "python",
   "pygments_lexer": "ipython3",
   "version": "3.12.5"
  }
 },
 "nbformat": 4,
 "nbformat_minor": 0
}
