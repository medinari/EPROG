{
 "cells": [
  {
   "cell_type": "markdown",
   "metadata": {},
   "source": [
    "# Einführung in das Programmieren ILV\n",
    "## Input Übung 8 (OOP Teil 1)\n",
    "###### WS 2024/25 | Mohamed Goha, BSc.\n",
    "\n",
    "# `Objektorientiertes Programmieren`"
   ]
  },
  {
   "cell_type": "markdown",
   "metadata": {},
   "source": [
    "# **1 Motivation OOP**\n",
    "\n",
    "In diesem Abschnitt wird eine Implementierung mit der bisher besprochenen prozeduralen Programmierung einer OOP Implementierung gegebübergestellt. Dadurch soll die Motivation mit allen Vorteilen dieses Konzeptes sichtbar gemacht werden.\n",
    "\n",
    "Es soll ein System für die Verwaltung von Konten entwickelt werden, welches das Anlegen neuer Konten, Überweisungen sowie Ein- und Auszahlungen ermöglicht. Ziel ist es, folgende Datenstruktur als Objekt mit den entsprechenden Methoden zu implementieren:"
   ]
  },
  {
   "cell_type": "code",
   "execution_count": 1,
   "metadata": {},
   "outputs": [
    {
     "name": "stdout",
     "output_type": "stream",
     "text": [
      "Account of Heinz Meier\n",
      "Current balance: 13190.00 Euro\n",
      "(Already 1160.00 of 1500 Euro spent today)\n",
      "Account of Erwin Schmidt\n",
      "Current balance: 14160.00 Euro\n",
      "(Already 1160.00 of 1500 Euro spent today)\n"
     ]
    }
   ],
   "source": [
    "account = {\n",
    "    \"owner\" : \"Hans Meier\",\n",
    "    \"account_number\" : 567123,\n",
    "    \"balance\" : 123.0,\n",
    "    \"max_daily_transactions\" : 1500,\n",
    "    \"transactions_today\" : 10.0\n",
    "    }\n",
    "\n",
    "def new_account(owner, account_number, balance, max_daily_transactions=1500):\n",
    "    return {\n",
    "        \"owner\" : owner,\n",
    "        \"account_number\" : account_number,\n",
    "        \"balance\" : balance,\n",
    "        \"max_daily_transactions\" : max_daily_transactions,\n",
    "        \"transactions_today\" : 0\n",
    "        }\n",
    "\n",
    "# Method to enable basic functionality like money transfer\n",
    "\n",
    "def money_transfer(source, target, amount):\n",
    "    # Here we check if the transfer is possible\n",
    "    if (amount < 0 or\n",
    "        source[\"transactions_today\"] + amount > source[\"max_daily_transactions\"] or\n",
    "        target[\"transactions_today\"] + amount > target[\"max_daily_transactions\"]):\n",
    "        # Transfer not possible\n",
    "        return False\n",
    "    else:\n",
    "        # Everything OK - Let's go\n",
    "        source[\"balance\"] -= amount\n",
    "        source[\"transactions_today\"] += amount\n",
    "        target[\"balance\"] += amount\n",
    "        target[\"transactions_today\"] += amount\n",
    "        return True\n",
    "\n",
    "def deposit(account, amount):\n",
    "    if amount < 0 or account[\"transactions_today\"] + amount > account[\"max_daily_transactions\"]:\n",
    "        # Daily limit exceeded or invalid amount\n",
    "        return False\n",
    "    else:\n",
    "        account[\"balance\"] += amount\n",
    "        account[\"transactions_today\"] += amount\n",
    "        return True\n",
    "\n",
    "def withdraw(account, amount):\n",
    "    if amount < 0 or account[\"transactions_today\"] + amount > account[\"max_daily_transactions\"]:\n",
    "        # Daily limit exceeded or invalid amount\n",
    "        return False\n",
    "    else:\n",
    "        account[\"balance\"] -= amount\n",
    "        account[\"transactions_today\"] += amount\n",
    "        return True\n",
    "\n",
    "# Method to query account data\n",
    "\n",
    "def show_account(account):\n",
    "    print(f\"Account of {account['owner']}\")\n",
    "    print(\"Current balance: {:.2f} Euro\".format(account[\"balance\"]))\n",
    "    print(\"(Already {:.2f} of {} Euro spent today)\".format(\n",
    "        account[\"transactions_today\"], account[\"max_daily_transactions\"]))\n",
    "    \n",
    "# In the main program, bank operations can now be performed\n",
    "\n",
    "acc1 = new_account(\"Heinz Meier\", 567123, 12350.0)\n",
    "acc2 = new_account(\"Erwin Schmidt\", 396754, 15000.0)\n",
    "\n",
    "money_transfer(acc1, acc2, 160)\n",
    "money_transfer(acc2, acc1, 1000)\n",
    "money_transfer(acc2, acc1, 500)\n",
    "deposit(acc2, 500)\n",
    "\n",
    "show_account(acc1)\n",
    "show_account(acc2)\n"
   ]
  },
  {
   "cell_type": "markdown",
   "metadata": {},
   "source": [
    "## 1.2 Lösung mit OOP\n",
    "\n",
    "\n",
    "Die Objektorientierung bietet genau die Lösungen an, die notwendig sind, um die besprochene prozedurale Implementierung klarer, übersichtlicher und besser erweiterbar zu machen. Dabei werden Daten und Funktionen zu Klassen und Objekten zusammenfasst.\n",
    "\n",
    "Die Daten eines solchen Objekts werden Attribute und die Verarbeitungsfunktionen Methoden genannt. Attribute und Methoden werden unter dem Begriff Member einer Klasse zusammengefasst. Schematisch lässt sich das Objekt eines Kontos folgendermaßen darstellen:\n",
    "\n",
    "![image.png](data:image/png;base64,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)\n",
    "\n"
   ]
  },
  {
   "cell_type": "code",
   "execution_count": 2,
   "metadata": {},
   "outputs": [],
   "source": [
    "# The Account class includes all attributes and functionalities\n",
    "# as above in procedural programming, but with the advantage of clear encapsulation and structure\n",
    "\n",
    "class Account:\n",
    "    def __init__(self, owner, account_number, balance, max_daily_transactions=1500):\n",
    "        self.owner = owner\n",
    "        self.account_number = account_number\n",
    "        self.balance = balance\n",
    "        self.max_daily_transactions = max_daily_transactions\n",
    "        self.transactions_today = 0\n",
    "\n",
    "    def money_transfer(self, target, amount):\n",
    "        # Here we check if the transfer is possible\n",
    "        if (amount < 0 or\n",
    "                self.transactions_today + amount > self.max_daily_transactions or\n",
    "                target.transactions_today + amount > target.max_daily_transactions):\n",
    "            # Transfer not possible\n",
    "            return False\n",
    "        else:\n",
    "            # All OK - Let's go\n",
    "            self.balance -= amount\n",
    "            self.transactions_today += amount\n",
    "            target.balance += amount\n",
    "            target.transactions_today += amount\n",
    "            return True\n",
    "\n",
    "    def deposit(self, amount):\n",
    "        if amount < 0 or self.transactions_today + amount > self.max_daily_transactions:\n",
    "            # Daily limit exceeded or invalid amount\n",
    "            return False\n",
    "        else:\n",
    "            self.balance += amount\n",
    "            self.transactions_today += amount\n",
    "            return True\n",
    "\n",
    "    def withdraw(self, amount):\n",
    "        if amount < 0 or self.transactions_today + amount > self.max_daily_transactions:\n",
    "            # Daily limit exceeded or invalid amount\n",
    "            return False\n",
    "        else:\n",
    "            self.balance -= amount\n",
    "            self.transactions_today += amount\n",
    "            return True\n",
    "\n",
    "    def show(self):\n",
    "        print(f\"Account of {self.owner}\")\n",
    "        print(\"Current balance: {:.2f} Euro\".format(self.balance))\n",
    "        print(\"(Already {:.2f} of {} Euro spent today)\".format(\n",
    "            self.transactions_today, self.max_daily_transactions))\n"
   ]
  },
  {
   "cell_type": "code",
   "execution_count": 3,
   "metadata": {},
   "outputs": [
    {
     "name": "stdout",
     "output_type": "stream",
     "text": [
      "Account of Heinz Meier\n",
      "Current balance: 13190.00 Euro\n",
      "(Already 1160.00 of 1500 Euro spent today)\n",
      "Account of Erwin Schmidt\n",
      "Current balance: 14160.00 Euro\n",
      "(Already 1160.00 of 1500 Euro spent today)\n"
     ]
    }
   ],
   "source": [
    "# In the main program, instances are created\n",
    "\n",
    "acc1 = Account(\"Heinz Meier\", 567123, 12350.0)\n",
    "acc2 = Account(\"Erwin Schmidt\", 396754, 15000.0)\n",
    "\n",
    "acc1.money_transfer(acc2, 160)\n",
    "acc2.money_transfer(acc1, 1000)\n",
    "acc2.money_transfer(acc1, 500)\n",
    "acc2.deposit(500)\n",
    "\n",
    "acc1.show()\n",
    "acc2.show()\n"
   ]
  },
  {
   "cell_type": "markdown",
   "metadata": {},
   "source": [
    "### `Klassendefinition und Erstellung von Instanzen/Objekten`"
   ]
  },
  {
   "cell_type": "markdown",
   "metadata": {},
   "source": [
    "Wie wir schon bei dem Thema Funktionen gesehen haben, kann es Vorteile haben, Code - Abschnitte in wiederverwendbare Strukturen zu packen. Der Code kann dadurch nicht nur besser lesbar, sondern auch flexibler werden (z.B. durch variable Parameter/Argumente). \n",
    "\n",
    "Wenn wir objektorientiert programmieren, gruppieren wir sowohl Daten, als auch Funktionen in eine Struktur: einem \"Objekt\" (object). \n",
    "\n",
    "Ein Objekt ist eine Instanz einer Klasse. Es wird oft versucht, durch eine Klasse einen Aspekt der Welt/ein Konzept digital zu modellieren. \n",
    "\n",
    "Intuition: Wenn die Klasse \"Mensch\" existiert, dann kann eine 24-jährige Frau namens Julia als eine Instanz dieser Klasse abgebildet werden. Diese Instanz ist ein Objekt mit den Attributen (Daten) und Methoden (Funktionen), die in der Klasse definiert sind. Mögliche Attribute für die Klasse Mensch: Alter, Name, Geschlecht. Mögliche Methoden für die Klasse Mensch: atmen(), ernähren(), etc. \n",
    "\n",
    "Jede Instanz dieser Beispielklasse \"Mensch\" hat dann die genannten Attribute, aber die Werte der Attribute können verschieden sein - ein Objekt kann den Namen \"Felix\" haben, ein anderes den Wert 46 im Attribut \"Alter\". Somit haben wir verschiedene Objekte, die aber alle Instanzen der Klasse \"Mensch\" sind.\n",
    "\n",
    "Wir haben schon oft mit Objekten gearbeitet. Beispielsweise ist in Python eine Variable x = 12 eine Referenz auf ein Objekt der built-in Klasse \"int\". Built-in Klassen werden jedoch etwas verschieden zu anderen Klassen behandelt.\n",
    " "
   ]
  },
  {
   "cell_type": "code",
   "execution_count": 4,
   "metadata": {},
   "outputs": [],
   "source": [
    "class Dog:\n",
    "    def __init__(self, name):\n",
    "        # __init__ is called when creating a new instance of the class\n",
    "        # 'self' is the first parameter of every method and gives access\n",
    "        # to the instance's attributes and methods\n",
    "        \n",
    "        # Variables are only available within the method scope\n",
    "        some_variable = 5  # Only exists in this method\n",
    "        \n",
    "        # Create instance attributes using self.attribute_name\n",
    "        self.name = name\n",
    "        \n",
    "        print(f\"Created {self.name}\")"
   ]
  },
  {
   "cell_type": "code",
   "execution_count": 5,
   "metadata": {},
   "outputs": [
    {
     "name": "stdout",
     "output_type": "stream",
     "text": [
      "Created bello\n"
     ]
    }
   ],
   "source": [
    "# for demonstration\n",
    "dog1 = Dog(name=\"bello\")"
   ]
  },
  {
   "cell_type": "code",
   "execution_count": 6,
   "metadata": {},
   "outputs": [
    {
     "name": "stdout",
     "output_type": "stream",
     "text": [
      "Created bello\n",
      "dog1: <__main__.Dog object at 0x0000027AD0951C48>\n",
      "dog1.name: bello\n",
      "<class '__main__.Dog'>\n",
      "Dog\n",
      "Created barky\n",
      "dog2: <__main__.Dog object at 0x0000027AD0951988>\n",
      "dog2.name: barky\n",
      "dog1 is dog2? answer: False\n"
     ]
    }
   ],
   "source": [
    "# Creating instances of the \"Dog\" class involves Python's two-step object creation:\n",
    "# 1. The \"__new__\" method creates the instance in memory\n",
    "# 2. The \"__init__\" method initializes the instance with its attributes\n",
    "# While \"__init__\" is commonly called a constructor, it's technically an initializer:\n",
    "dog1 = Dog(name=\"bello\")  # This creates an initialized instance of our class\n",
    "\n",
    "# Access the instance and its attributes:\n",
    "print(f\"dog1: {dog1}\")\n",
    "print(f\"dog1.name: {dog1.name}\")\n",
    "\n",
    "# Get the type/class information using the built-in \"type\" function:\n",
    "# https://docs.python.org/3/library/functions.html#type\n",
    "print(type(dog1))\n",
    "print(type(dog1).__name__)\n",
    "\n",
    "# Create another instance of our \"Dog\" class:\n",
    "dog2 = Dog(name=\"barky\")\n",
    "print(f\"dog2: {dog2}\")\n",
    "print(f\"dog2.name: {dog2.name}\")\n",
    "\n",
    "# Demonstrate that each instance is a unique object in memory:\n",
    "print(f\"dog1 is dog2? answer: {dog1 is dog2}\")"
   ]
  },
  {
   "cell_type": "markdown",
   "metadata": {},
   "source": [
    "#### `Methoden hinzufügen`"
   ]
  },
  {
   "cell_type": "code",
   "execution_count": 7,
   "metadata": {},
   "outputs": [],
   "source": [
    "class Dog:\n",
    "    \n",
    "    def __init__(self, name):\n",
    "        self.name = name\n",
    "    \n",
    "    def communicate(self):\n",
    "        communication = \"bark\"\n",
    "        communication = f\"{self.name}: {communication}\"\n",
    "        return communication\n",
    "\n"
   ]
  },
  {
   "cell_type": "code",
   "execution_count": 8,
   "metadata": {},
   "outputs": [
    {
     "name": "stdout",
     "output_type": "stream",
     "text": [
      "bello: bark\n",
      "barky: bark\n"
     ]
    }
   ],
   "source": [
    "# Create instances of our new \"Dog\" class:\n",
    "dog1 = Dog(name=\"bello\")  # First instance\n",
    "dog2 = Dog(\"barky\")       # Second instance, demonstrating optional 'name=' syntax\n",
    "\n",
    "# Call instance methods using dot notation:\n",
    "print(dog1.communicate())  # Effectively calls: Dog.communicate(dog1)\n",
    "print(dog2.communicate())\n",
    "\n",
    "# This pattern is common in Python's built-in classes:\n",
    "# - str methods: \"some_string.upper()\"\n",
    "# - list methods: \"some_list.append(...)\""
   ]
  },
  {
   "cell_type": "markdown",
   "metadata": {},
   "source": [
    "### `Vererbung`\n",
    "\n",
    "Nehmen wir an, wir möchten eine Klasse \"Cat\" und \"Frog\" hinzufügen, \n",
    "die ebenfalls ein Attribut \"name\" und eine Methode \"communicate\" haben. Allerdings \n",
    "möchten wir das Verhalten der \"communicate\"-Methode für \"Cat\" und \"Frog\" ändern. \n",
    "\n",
    "Um Code-Duplikation zu vermeiden, verwenden wir `Vererbung`, bei der wir Code in \n",
    "sogenannten Unterklassen (subclasses) wiederverwenden können, die Code von Basisklassen/Superklassen \n",
    "erben. Dies erzeugt eine Typ-/Klassenhierarchie von Basisklassen und Unterklassen. \n",
    "Im folgenden Beispiel erstellen wir diese Hierarchie:"
   ]
  },
  {
   "cell_type": "code",
   "execution_count": 9,
   "metadata": {},
   "outputs": [],
   "source": [
    "#                                  Animal\n",
    "#                                    ↑\n",
    "#                                    │\n",
    "#         ┌─────────────────┬────────┴────────┬────────────────┐\n",
    "#         │                 │                 │                │\n",
    "#        Frog              Bird              Dog              Cat\n",
    "#         ↑                 ↑\n",
    "#         │                 │\n",
    "# SouthernLeopardFrog     Canary\n",
    "\n",
    "# First, we define a base class that we call \"Animal\":\n",
    "class Animal:\n",
    "    \n",
    "    def __init__(self, name):\n",
    "        self.name = name\n",
    "    \n",
    "    def communicate(self):\n",
    "        # As a generic animal, we do not really know how to communicate, this\n",
    "        # should be implemented by concrete subclasses. Our \"communicate\" method\n",
    "        # is now called an abstract method, it does not have an (actual)\n",
    "        # implementation. This can be indicated by raising a NotImplementedError\n",
    "        raise NotImplementedError\n",
    "\n",
    "\n",
    "# Then, we can define a class \"Dog\" that inherits from the class \"Animal\". By\n",
    "# doing this, we will have a class \"Dog\" that contains the same attributes and\n",
    "# methods as the base class \"Animal\" does. If we want to add or modify the\n",
    "# methods/attributes, we can simply override them:\n",
    "class Dog(Animal):\n",
    "    # We do not need a new \"__init__\" method since the \"__init__\" method from\n",
    "    # the \"Animal\" base class already does everything what we want it to do.\n",
    "    \n",
    "    # Here, we override the method \"communicate\" by a new version:\n",
    "    def communicate(self):\n",
    "        return f\"{self.name}: bark\"\n",
    "\n",
    "\n",
    "# We can do the same for the classes \"Cat\" and \"Frog\":\n",
    "class Cat(Animal):\n",
    "    \n",
    "    def communicate(self):\n",
    "        return f\"{self.name}: meow\"\n",
    "\n",
    "\n",
    "class Frog(Animal):\n",
    "    \n",
    "    def communicate(self):\n",
    "        return f\"{self.name}: croak\""
   ]
  },
  {
   "cell_type": "code",
   "execution_count": 10,
   "metadata": {},
   "outputs": [
    {
     "name": "stdout",
     "output_type": "stream",
     "text": [
      "bello: bark\n",
      "scratchy: meow\n",
      "jumper: croak\n"
     ]
    }
   ],
   "source": [
    "animal1 = Dog(name=\"bello\")\n",
    "animal2 = Cat(name=\"scratchy\")\n",
    "animal3 = Frog(name=\"jumper\")\n",
    "\n",
    "print(animal1.communicate())\n",
    "print(animal2.communicate())\n",
    "print(animal3.communicate())"
   ]
  },
  {
   "cell_type": "code",
   "execution_count": 11,
   "metadata": {},
   "outputs": [
    {
     "name": "stdout",
     "output_type": "stream",
     "text": [
      "froggy: screech\n"
     ]
    }
   ],
   "source": [
    "# Multiple inheritance\n",
    "class SouthernLeopardFrog(Frog):\n",
    "    \n",
    "    def communicate(self):\n",
    "        return f\"{self.name}: screech\"\n",
    "\n",
    "\n",
    "animal4 = SouthernLeopardFrog(name=\"froggy\")\n",
    "print(animal4.communicate())"
   ]
  },
  {
   "cell_type": "code",
   "execution_count": 12,
   "metadata": {},
   "outputs": [
    {
     "name": "stdout",
     "output_type": "stream",
     "text": [
      "peeps: peep\n",
      "peeps flew 500km!\n"
     ]
    }
   ],
   "source": [
    "# We can also add new methods when deriving from a class:\n",
    "class Bird(Animal):\n",
    "    \n",
    "    def communicate(self):\n",
    "        return f\"{self.name}: peep\"\n",
    "    \n",
    "    # Here, we add a new method \"fly\" including a user-specifiable parameter\n",
    "    # (again \"self\" must be the first (implicitly set) parameter):\n",
    "    def fly(self, distance):\n",
    "        return f\"{self.name} flew {distance}km!\"\n",
    "\n",
    "\n",
    "animal5 = Bird(name=\"peeps\")\n",
    "print(animal5.communicate())\n",
    "print(animal5.fly(500))\n",
    "\n",
    "\n",
    "# We can also choose not to override anything if we are already satisfied with\n",
    "# the implementation in the superclass. If we do not override, simply the first\n",
    "# found implementation will be used when going upwards the class hierarchy:\n",
    "class Canary(Bird):\n",
    "    \n",
    "    def communicate(self):\n",
    "        return f\"{self.name}: *sings song*\"\n",
    "    \n",
    "    # \"fly\" method of superclass is already satisfactory"
   ]
  },
  {
   "cell_type": "code",
   "execution_count": 13,
   "metadata": {},
   "outputs": [
    {
     "name": "stdout",
     "output_type": "stream",
     "text": [
      "Joe flew 10km!\n"
     ]
    }
   ],
   "source": [
    "animal6 = Canary(name=\"Joe\")\n",
    "# Uses the first found implementation of \"fly\" when going upwards the class\n",
    "# hierarchy, which is the implementation in class \"Bird\":\n",
    "print(animal6.fly(10))"
   ]
  }
 ],
 "metadata": {
  "kernelspec": {
   "display_name": "dlnn2",
   "language": "python",
   "name": "python3"
  },
  "language_info": {
   "codemirror_mode": {
    "name": "ipython",
    "version": 3
   },
   "file_extension": ".py",
   "mimetype": "text/x-python",
   "name": "python",
   "nbconvert_exporter": "python",
   "pygments_lexer": "ipython3",
   "version": "3.7.16"
  }
 },
 "nbformat": 4,
 "nbformat_minor": 2
}
