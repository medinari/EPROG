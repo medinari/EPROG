{
 "cells": [
  {
   "cell_type": "markdown",
   "metadata": {},
   "source": [
    "# Einführung in das Programmieren - Übung 9\n",
    "# Objektorientiertes Programmieren (Teil 2)\n",
    "\n",
    "##### Sie dürfen für diese Übung auch Konzepte verwenden, die wir nicht bereits behandelt haben. \n",
    "\n",
    "#### Das einzige Modul, das sie importieren dürfen, ist `math` für Aufgabe 1."
   ]
  },
  {
   "cell_type": "markdown",
   "metadata": {},
   "source": [
    "Recherchieren Sie folgende Konzepte:\n",
    "\n",
    "- `Setter und Getter Methoden`: Was sind sie? Wofür sind sie gut?\n",
    "- `Abstrakte Klassen`: Was sind sie? Wofür sind sie gut?\n",
    "\n",
    "(Sie werden diese Konzepte nicht innerhalb dieser Übung brauchen)"
   ]
  },
  {
   "cell_type": "markdown",
   "metadata": {},
   "source": [
    "## Aufgabe 1\n",
    "\n",
    "Erstellen Sie eine Klasse `Angle`, die Winkel in Grad (degree) in Bogenmaß (radian) und umgekehrt umwandelt. Die Klasse besitzt die folgenden Instanzattribute:\n",
    "\n",
    "- `degree: float`  \n",
    "  Repräsentiert den Winkel in Grad.\n",
    "- `radian: float`  \n",
    "  Repräsentiert den Winkel im Bogenmaß.\n",
    "\n",
    "Die Klasse besitzt die folgenden Instanzmethoden:\n",
    "\n",
    "- `__init__(self, degree: float = None, radian: float = None)`  \n",
    "  Initialisiert die Instanzattribute.\n",
    "  - Wenn nur der Grad angegeben ist, sollte das Attribut `radian` mit der Methode `deg_to_rad` (siehe unten) zugewiesen werden.\n",
    "  - Wenn nur das Bogenmaß angegeben ist, sollte das Attribut `degree` mit der Methode `rad_to_deg` (siehe unten) zugewiesen werden.\n",
    "  - Wenn beide Argumente angegeben sind, überprüfen Sie mit der Methode `consistency` (siehe unten), ob beide Werte dem gleichen Winkel entsprechen.\n",
    "  - Wenn kein Argument angegeben ist, werfen Sie einen `ValueError(\"Either degree or radian must be specified.\")`.\n",
    "\n",
    "- `consistency(self)`  \n",
    "  Überprüft, ob die Attribute `degree` und `radian` demselben Winkel entsprechen. Verwenden Sie `math.isclose()`, um die consistency zu überprüfen. Falls nicht, werfen Sie einen `ValueError(\"Degree and radian are not consistent.\")`.\n",
    "\n",
    "- `__eq__(self, other)`  \n",
    "  Wenn `other` eine Instanz von `Angle` ist, wird `True` zurückgegeben, wenn die Attribute `degree` und `radian` von `other` gleich denen von `self` sind, ansonsten `False`. Wenn `other` keine Instanz von `Angle` ist, wird `NotImplemented` zurückgegeben. Verwenden Sie `math.isclose()`, um die Gleichheit zu überprüfen.\n",
    "\n",
    "- `__repr__(self)`  \n",
    "  Gibt den folgenden String zurück: `\"Angle(degree=<degree>, radian=<radian>)\"`, wobei `<degree>` der Winkel in Grad und `<radian>` der Winkel im Bogenmaß ist. Beide Werte sollten auf 3 Dezimalstellen angezeigt werden.\n",
    "\n",
    "- `__str__(self)`  \n",
    "  Gibt den folgenden String zurück: `\"<degree> deg = <radian> rad\"`, wobei `<degree>` der Winkel in Grad und `<radian>` der Winkel im Bogenmaß ist. Beide Werte sollten auf 2 Dezimalstellen gerundet angezeigt werden. Beispiel: `\"90.00 deg = 1.57 rad\"`\n",
    "\n",
    "- `__add__(self, other)`  \n",
    "  Wenn `other` eine Instanz von `Angle` ist, addiert `other` zu `self` und gibt ein neues `Angle`-Objekt mit dem Ergebnis dieser Addition zurück. Die Addition erfolgt sowohl für `<degree>` als auch für `<radian>`. Andernfalls wird `NotImplemented` zurückgegeben.\n",
    "\n",
    "- `__iadd__(self, other)`  \n",
    "  Wenn `other` eine Instanz von `Angle` ist, wird `other` zu `self` hinzugefügt (In-Place) und `self` wird zurückgegeben. Die Addition erfolgt sowohl für `<degree>` als auch für `<radian>` und überprüft die Konsistenz mit der Methode `consistency`. Andernfalls wird `NotImplemented` zurückgegeben.\n",
    "\n",
    "##### Und folgende Statische Methoden (@staticmethod):\n",
    "- `deg_to_rad(degree)`  \n",
    "  Wandelt einen Winkel von Grad in Bogenmaß um mit `degree * (π/180)`. Verwenden Sie `math.pi` für `π`.\n",
    "\n",
    "- `rad_to_deg(radian)`  \n",
    "  Wandelt einen Winkel von Bogenmaß in Grad um mit `radian * (180/π)`. Verwenden Sie `math.pi` für `π`.\n",
    "\n",
    "- `add_all(angle: Angle, *angles: Angle)`  \n",
    "  Addiert `angle` und alle Winkel in `*angles` zusammen und gibt ein neues `Angle`-Objekt zurück, das diese Summe enthält. Keines der Eingabeargumente darf verändert werden, d. h. alle Winkel, die durch `angle` und `*angles` angegeben werden, müssen unverändert bleiben."
   ]
  },
  {
   "cell_type": "code",
   "execution_count": 2,
   "metadata": {},
   "outputs": [],
   "source": [
    "# your code here"
   ]
  },
  {
   "cell_type": "markdown",
   "metadata": {},
   "source": [
    "### Beispielausführung des Programms:\n",
    "\n",
    "```python\n",
    "import math\n",
    "\n",
    "a1 = Angle(degree=45)\n",
    "a2 = Angle(radian=math.pi/4)\n",
    "a3 = Angle(30, math.pi/6)\n",
    "print(a1)\n",
    "print(a2.__repr__())\n",
    "print(repr(a3))\n",
    "print(a1 == a2)\n",
    "print(a1 + a2)\n",
    "a1 += a3\n",
    "print(a1)\n",
    "sum_angle = Angle.add_all(a1, a2, a3)\n",
    "print(sum_angle)\n",
    "\n",
    "try:\n",
    "    a4 = Angle()\n",
    "except ValueError as e:\n",
    "    print(e)\n",
    "\n",
    "try:\n",
    "    a5 = Angle(degree=45, radian=1)\n",
    "except ValueError as e:\n",
    "    print(e)\n"
   ]
  },
  {
   "cell_type": "markdown",
   "metadata": {},
   "source": [
    "### Beispielausgabe:\n",
    "```plaintext\n",
    "45.00 deg = 0.79 rad\n",
    "Angle(degree=45.000, radian=0.785)\n",
    "Angle(degree=30.000, radian=0.524)\n",
    "True\n",
    "90.00 deg = 1.57 rad\n",
    "75.00 deg = 1.31 rad\n",
    "150.00 deg = 2.62 rad\n",
    "Either degree or radian must be specified.\n",
    "Degree and radian are not consistent.\n"
   ]
  },
  {
   "cell_type": "markdown",
   "metadata": {},
   "source": [
    "### Aufgabe 2\n",
    "\n",
    "Erstellen Sie eine Klasse `Power`, die einen Exponenten darstellt. Die Klasse besitzt das folgende Instanzattribut:\n",
    "\n",
    "- `exponent: float`  \n",
    "  Repräsentiert den Exponentenwert.\n",
    "\n",
    "Die Klasse besitzt die folgenden Instanzmethoden:\n",
    "\n",
    "- `__init__(self, exponent)`  \n",
    "  Setzt das Instanzattribut `exponent`. Wenn `exponent` nicht numerisch ist, wird ein `TypeError(\"The exponent must be a numerical value.\")` ausgelöst.\n",
    "\n",
    "- `__call__(self, x)`  \n",
    "  Gibt `x` hoch `exponent` zurück. Wenn `x` nicht numerisch ist, wird ein `TypeError(\"Input must be a numerical value.\")` ausgelöst.\n",
    "\n",
    "- `__mul__(self, other)`  \n",
    "  Wenn `other` ein numerischer Wert ist, wird `other` zum Exponenten von `self` addiert und ein neues `Power`-Objekt mit dem Ergebnis dieser Addition zurückgegeben. Wenn `other` eine weitere Instanz von `Power` ist, werden die Exponenten von `self` und `other` addiert und ein neues `Power`-Objekt wird zurückgegeben. Andernfalls wird `NotImplemented` zurückgegeben.\n",
    "\n",
    "Erstellen Sie zusätzlich eine Tochterklasse `Square`, für die `exponent=2` festgelegt ist.\n"
   ]
  },
  {
   "cell_type": "code",
   "execution_count": 1,
   "metadata": {},
   "outputs": [],
   "source": [
    "# your code here"
   ]
  },
  {
   "cell_type": "markdown",
   "metadata": {},
   "source": [
    "### Beispielausführung des Programms:\n",
    "\n",
    "```python\n",
    "x = 3\n",
    "square = Square()\n",
    "cube = Power(3)\n",
    "print(square.exponent, square(x))\n",
    "print(cube.exponent, cube(x))\n",
    "\n",
    "m1 = square * 2\n",
    "print(m1.exponent, m1.__call__(x))\n",
    "\n",
    "m2 = square * cube\n",
    "print(m2.exponent, m2.__call__(x))\n",
    "\n",
    "try:\n",
    "    square(\"foo\")\n",
    "except TypeError as e:\n",
    "    print(e)\n",
    "\n",
    "try:\n",
    "    Power(\"foo\")\n",
    "except TypeError as e:\n",
    "    print(e)\n"
   ]
  },
  {
   "cell_type": "markdown",
   "metadata": {},
   "source": [
    "### Beispielausgabe:\n",
    "```plaintext\n",
    "2 9\n",
    "3 27\n",
    "4 81\n",
    "5 243\n",
    "Input must be a numerical value.\n",
    "The exponent must be a numerical value.\n"
   ]
  },
  {
   "cell_type": "markdown",
   "metadata": {},
   "source": [
    "### Aufgabe 3 (Freiwillige Zusatzaufgabe)\n",
    "\n",
    "`Für Interessierte:` Recherchieren Sie, wieso es in der Datenanalyse oft Sinn macht, Daten zu standardisieren.\n",
    "\n",
    "Erstellen Sie eine Klasse `StandardScaler`, die features standardisiert, indem der Mittelwert (µ) entfernt und auf die Einheits-Standardabweichung (σ) skaliert wird. Die Transformation jedes features wird durch die Formel \n",
    "$$\n",
    "z = \\frac{x - \\mu}{\\sigma}\n",
    "$$ \n",
    "gegeben. Die Klasse besitzt die folgenden Instanzattribute:\n",
    "\n",
    "- `mu: float`  \n",
    "  Repräsentiert den Mittelwert.\n",
    "\n",
    "- `sig: float`  \n",
    "  Repräsentiert die Standardabweichung.\n",
    "\n",
    "Die Klasse besitzt die folgenden Instanzmethoden:\n",
    "\n",
    "- `__init__(self)`  \n",
    "  Initialisiert die Instanzattribute. Beide Attribute sollen standardmäßig auf `None` gesetzt werden.\n",
    "\n",
    "- `fit(self, features: list)`  \n",
    "  Berechnet den Mittelwert und die Standardabweichung der Eingabe-features. Die Standardabweichung sollte berechnet werden als  \n",
    "  $$\n",
    "  \\sigma = \\sqrt{\\frac{1}{N-1} \\sum_{i=1}^N (x_i - \\mu)^2}\n",
    "  $$\n",
    "  Sie können davon ausgehen, dass die Werte in `features` numerisch sind.\n",
    "\n",
    "- `transform(self, features: list)`  \n",
    "  Gibt eine Liste der skalierten Eingabefeatures basierend auf den Attributen `mu` und `sig` zurück. Wenn `mu` oder `sig` `None` ist, wird ein `ValueError(\"Scaler has not been fitted.\")` ausgelöst. Sie können davon ausgehen, dass die Werte in `features` numerisch sind.\n",
    "\n",
    "- `fit_transform(self, features: list)`  \n",
    "  Kombiniert die Schritte `fit` und `transform` und gibt die angepassten Eingabefeatures zurück. Sie können davon ausgehen, dass die Werte in `features` numerisch sind.\n",
    "\n",
    "- `__getitem__(self, key)`  \n",
    "  Ermöglicht den indexbasierten Zugriff auf die Attribute. Wenn `key` 0 ist, wird der Wert von `mu` zurückgegeben, und wenn `key` 1 ist, wird der Wert von `sig` zurückgegeben. Wenn der `key` außerhalb des Bereichs liegt, wird ein `IndexError(\"Index out of range\")` ausgelöst. Wenn der `key` nicht vom Typ `int` ist, wird ein `TypeError(\"Indices must be integers\")` ausgelöst."
   ]
  },
  {
   "cell_type": "code",
   "execution_count": 3,
   "metadata": {},
   "outputs": [],
   "source": [
    "# your code here"
   ]
  },
  {
   "cell_type": "markdown",
   "metadata": {},
   "source": [
    "### Beispielausführung des Programms:\n",
    "\n",
    "```python\n",
    "feats1 = [0, 2, 4, 6, 8, 10]\n",
    "feats2 = [1, 3, 5, 7, 9]\n",
    "\n",
    "s = StandardScaler()\n",
    "print(s.mu, s.sig)\n",
    "\n",
    "s.fit(feats1)\n",
    "print(s[0], s[1])\n",
    "\n",
    "feats1_scaled = s.transform(feats1)\n",
    "print(feats1_scaled)\n",
    "\n",
    "feats2_scaled = s.transform(feats2)\n",
    "print(feats2_scaled)\n",
    "\n",
    "s = StandardScaler()\n",
    "feats2_scaled = s.fit_transform(feats2)\n",
    "print(feats2_scaled)\n",
    "print(s[0], s[1])\n",
    "\n",
    "s = StandardScaler()\n",
    "try:\n",
    "    s.transform(feats2)\n",
    "except ValueError as e:\n",
    "    print(f\"{type(e).__name__}: {e}\")\n",
    "\n",
    "try:\n",
    "    print(s[\"foo\"])\n",
    "except TypeError as e:\n",
    "    print(f\"{type(e).__name__}: {e}\")\n",
    "\n",
    "try:\n",
    "    print(s[2])\n",
    "except IndexError as e:\n",
    "    print(f\"{type(e).__name__}: {e}\")\n"
   ]
  },
  {
   "cell_type": "markdown",
   "metadata": {},
   "source": [
    "### Beispielausgabe:\n",
    "```plaintext\n",
    "None None\n",
    "5.0 3.7416573867739413\n",
    "[-1.3363062095621219, -0.8017837257372732, ...]\n",
    "[-1.0690449676496976, -0.5345224838248488, ...]\n",
    "[-1.2649110640673518, -0.6324555320336759, ...]\n",
    "5.0 3.1622776601683795\n",
    "ValueError: Scaler has not been fitted.\n",
    "TypeError: Indices must be integers\n",
    "IndexError: Index out of range\n"
   ]
  }
 ],
 "metadata": {
  "kernelspec": {
   "display_name": "dlnn2",
   "language": "python",
   "name": "python3"
  },
  "language_info": {
   "codemirror_mode": {
    "name": "ipython",
    "version": 3
   },
   "file_extension": ".py",
   "mimetype": "text/x-python",
   "name": "python",
   "nbconvert_exporter": "python",
   "pygments_lexer": "ipython3",
   "version": "3.7.16"
  }
 },
 "nbformat": 4,
 "nbformat_minor": 2
}
