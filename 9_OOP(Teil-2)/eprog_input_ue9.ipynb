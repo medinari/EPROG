{
 "cells": [
  {
   "cell_type": "markdown",
   "metadata": {},
   "source": [
    "# Einführung in das Programmieren ILV\n",
    "## VO + Input Übung 9 (OOP Teil 2)\n",
    "###### WS 2024/25 | Mohamed Goha, BSc.\n",
    "\n",
    "# `Objektorientiertes Programmieren (Teil 2)`"
   ]
  },
  {
   "cell_type": "markdown",
   "metadata": {},
   "source": [
    "# Atrributes"
   ]
  },
  {
   "cell_type": "markdown",
   "metadata": {},
   "source": [
    "### Class Attribute vs Instance Attribute"
   ]
  },
  {
   "cell_type": "code",
   "execution_count": 1,
   "metadata": {},
   "outputs": [
    {
     "name": "stdout",
     "output_type": "stream",
     "text": [
      "9\n",
      "9\n",
      "3\n",
      "5\n"
     ]
    }
   ],
   "source": [
    "class some_class:\n",
    "    some_cl_attr = 4 # class attribute\n",
    "    def __init__(self, a) -> None:\n",
    "        self.a = 5\n",
    "\n",
    "################# class atribute #################\n",
    "some_object1 = some_class(31)\n",
    "some_object2 = some_class(12)\n",
    "\n",
    "some_class.some_cl_attr = 9 # change once\n",
    "\n",
    "# attribute is changed across all objects!\n",
    "print(some_object1.some_cl_attr) # prints 9\n",
    "print(some_object2.some_cl_attr) # prints 9\n",
    "\n",
    "################# instance atribute #################\n",
    "some_object1.a = 3 #change once (in one object)\n",
    "\n",
    "print(some_object1.a) # value changed \n",
    "print(some_object2.a) # remains unchanged\n"
   ]
  },
  {
   "cell_type": "code",
   "execution_count": 2,
   "metadata": {},
   "outputs": [
    {
     "name": "stdout",
     "output_type": "stream",
     "text": [
      "9\n",
      "786\n"
     ]
    }
   ],
   "source": [
    "# But what happens if we do this?\n",
    "some_object1.some_cl_attr = 786\n",
    "# \"Overriding\" the class attribute \"var\" via an instance/object actually creates\n",
    "# a new object attribute for this instance/object with the same name:\n",
    "print(some_class.some_cl_attr)\n",
    "print(some_object1.some_cl_attr)"
   ]
  },
  {
   "cell_type": "markdown",
   "metadata": {},
   "source": [
    "### Private Attributes\n",
    "\n",
    "https://docs.python.org/3/tutorial/classes.html#private-variables\n",
    "\n",
    "https://dbader.org/blog/meaning-of-underscores-in-python"
   ]
  },
  {
   "cell_type": "code",
   "execution_count": 3,
   "metadata": {},
   "outputs": [
    {
     "name": "stdout",
     "output_type": "stream",
     "text": [
      "Parent's private attribute\n"
     ]
    }
   ],
   "source": [
    "class Parent:\n",
    "    def __init__(self):\n",
    "        self.__private_attr = \"Parent's private attribute\"\n",
    "\n",
    "    def show_private(self):\n",
    "        return self.__private_attr\n",
    "\n",
    "class Child(Parent):\n",
    "    def show_private(self):\n",
    "        # This will cause an AttributeError because __private_attr is name-mangled\n",
    "        # return self.__private_attr\n",
    "        \n",
    "        # Accessing the private attribute using name mangling\n",
    "        return self._Parent__private_attr\n",
    "\n",
    "obj = Child()\n",
    "#print(obj.__private_attr) # leads to error\n",
    "print(obj._Parent__private_attr)  # Output: \"Parent's private attribute\"\n"
   ]
  },
  {
   "cell_type": "markdown",
   "metadata": {},
   "source": [
    "# Methods"
   ]
  },
  {
   "cell_type": "markdown",
   "metadata": {},
   "source": [
    "### Class Methods und Static Methods"
   ]
  },
  {
   "cell_type": "code",
   "execution_count": 4,
   "metadata": {},
   "outputs": [
    {
     "name": "stdout",
     "output_type": "stream",
     "text": [
      "This is a class method.\n",
      "Accessing class_variable: Hello from the class variable\n",
      "This is a class method.\n",
      "Accessing class_variable: Hello from the class variable\n",
      "This is a static method.\n",
      "Static methods do not access class or instance variables directly.\n",
      "This is a static method.\n",
      "Static methods do not access class or instance variables directly.\n"
     ]
    }
   ],
   "source": [
    "class MyClass:\n",
    "    class_variable = \"Hello from the class variable\"\n",
    "\n",
    "    def __init__(self, instance_variable):\n",
    "        self.instance_variable = instance_variable  # Instance variable\n",
    "\n",
    "    @classmethod\n",
    "    def class_method(cls):\n",
    "        # This method can access the class variable and other class-level data\n",
    "        print(\"This is a class method.\")\n",
    "        print(f\"Accessing class_variable: {cls.class_variable}\")\n",
    "\n",
    "    @staticmethod\n",
    "    def static_method():\n",
    "        # This method doesn't have access to the instance (self) or the class (cls)\n",
    "        print(\"This is a static method.\")\n",
    "        print(\"Static methods do not access class or instance variables directly.\")\n",
    "\n",
    "# Creating an instance of the class\n",
    "example = MyClass(\"Hello from the instance variable\")\n",
    "\n",
    "# Calling the class method\n",
    "MyClass.class_method()  # Output: This is a class method. \\n Accessing class_variable: Hello from the class variable\n",
    "example.class_method()  # Works the same way as calling it on the class directly\n",
    "\n",
    "# Calling the static method\n",
    "MyClass.static_method()  # Output: This is a static method. \\n Static methods do not access class or instance variables directly\n",
    "example.static_method()  # Also works the same way as calling it on the class directly\n"
   ]
  },
  {
   "cell_type": "markdown",
   "metadata": {},
   "source": [
    "### Private Methods"
   ]
  },
  {
   "cell_type": "code",
   "execution_count": 5,
   "metadata": {},
   "outputs": [
    {
     "name": "stdout",
     "output_type": "stream",
     "text": [
      "This is a public method.\n",
      "This is a private method. The private value is 42\n",
      "This is a private method. The private value is 42\n"
     ]
    }
   ],
   "source": [
    "class ExampleClass:\n",
    "    def __init__(self, value):\n",
    "        self.__value = value  # Private attribute initialized\n",
    "\n",
    "    def public_method(self):\n",
    "        # This is a public method that can be called from outside the class\n",
    "        print(\"This is a public method.\")\n",
    "        self.__private_method()  # Calling the private method from within the class\n",
    "\n",
    "    def __private_method(self):\n",
    "        # This is a private method, indicated by the double underscores\n",
    "        print(f\"This is a private method. The private value is {self.__value}\")\n",
    "\n",
    "# Create an instance of the class\n",
    "example = ExampleClass(42)\n",
    "\n",
    "# Call the public method\n",
    "example.public_method()  # Output: This is a public method. \\n This is a private method. The private value is 42\n",
    "\n",
    "# Attempt to call the private method directly from outside the class\n",
    "# example.__private_method()  # This would raise an AttributeError: 'ExampleClass' object has no attribute '__private_method'\n",
    "\n",
    "# Accessing the private method using name mangling (not recommended)\n",
    "example._ExampleClass__private_method()  # Output: This is a private method. The private value is 42\n"
   ]
  },
  {
   "cell_type": "markdown",
   "metadata": {},
   "source": [
    "### MRO"
   ]
  },
  {
   "cell_type": "code",
   "execution_count": 6,
   "metadata": {},
   "outputs": [
    {
     "name": "stdout",
     "output_type": "stream",
     "text": [
      "Class B\n",
      "[<class '__main__.D'>, <class '__main__.B'>, <class '__main__.C'>, <class '__main__.A'>, <class 'object'>]\n"
     ]
    }
   ],
   "source": [
    "class A:\n",
    "    def show(self):\n",
    "        print(\"Class A\")\n",
    "\n",
    "class B(A):\n",
    "    def show(self):\n",
    "        print(\"Class B\")\n",
    "\n",
    "class C(A):\n",
    "    def show(self):\n",
    "        print(\"Class C\")\n",
    "\n",
    "class D(B, C):  # Multiple inheritance\n",
    "    pass\n",
    "\n",
    "obj = D()\n",
    "obj.show()  # Output: \"Class B\" (follows the MRO: D -> B -> C -> A)\n",
    "\n",
    "# Print the MRO\n",
    "print(D.mro())  # Output: [<class '__main__.D'>, <class '__main__.B'>, <class '__main__.C'>, <class '__main__.A'>, <class 'object'>]\n"
   ]
  },
  {
   "cell_type": "markdown",
   "metadata": {},
   "source": [
    "### MRO init"
   ]
  },
  {
   "cell_type": "code",
   "execution_count": 7,
   "metadata": {},
   "outputs": [
    {
     "name": "stdout",
     "output_type": "stream",
     "text": [
      "init of B\n"
     ]
    }
   ],
   "source": [
    "class a:\n",
    "    def __init__(self):\n",
    "        print(\"init of A\")\n",
    "class b(a):\n",
    "    def __init__(self):\n",
    "        print(\"init of B\")\n",
    "class c(b):\n",
    "    pass\n",
    "\n",
    "# init of b is called\n",
    "a_obj = c()"
   ]
  },
  {
   "cell_type": "markdown",
   "metadata": {},
   "source": [
    "# Root Klasse \"object\""
   ]
  },
  {
   "cell_type": "code",
   "execution_count": 8,
   "metadata": {},
   "outputs": [
    {
     "name": "stdout",
     "output_type": "stream",
     "text": [
      "This is possible\n"
     ]
    }
   ],
   "source": [
    "class some_class:\n",
    "    \n",
    "    def print_something(self):\n",
    "        print(\"This is possible\")\n",
    "\n",
    "# why is this possible (creating class without defining __init__ method)?\n",
    "some_obj = some_class()\n",
    "some_obj.print_something()\n",
    "\n",
    "\n",
    "\n",
    "# It's possible because our class inherits the __init__ from the root object class!"
   ]
  },
  {
   "cell_type": "code",
   "execution_count": 9,
   "metadata": {},
   "outputs": [],
   "source": [
    "# Lets define a class for a point with x and y coordinates\n",
    "class Point:\n",
    "    \n",
    "    def __init__(self, x, y):\n",
    "        self.x = x\n",
    "        self.y = y"
   ]
  },
  {
   "cell_type": "code",
   "execution_count": 10,
   "metadata": {},
   "outputs": [
    {
     "name": "stdout",
     "output_type": "stream",
     "text": [
      "False\n",
      "False\n"
     ]
    }
   ],
   "source": [
    "p1 = Point(1, 2)\n",
    "p2 = Point(1, 2)\n",
    "print(p1 is p2)\n",
    "print(p1 == p2)\n",
    "\n",
    "\n",
    "# both false, because equals (\"==\") operator class object compares object identity"
   ]
  },
  {
   "cell_type": "code",
   "execution_count": 11,
   "metadata": {},
   "outputs": [],
   "source": [
    "# would be nice to compare points by x and y values\n",
    "class Point:\n",
    "    \n",
    "    def __init__(self, x, y):\n",
    "        self.x = x\n",
    "        self.y = y\n",
    "    # Here, we provide a custom implementation of the method \"__eq__\", which\n",
    "    # will then be used when we compare \"Point\" objects with \"==\". When\n",
    "    # overriding such special methods, we must ensure that we adhere to the\n",
    "    # requirements that are listed in the specification to avoid unexpected or\n",
    "    # incorrect behavior:\n",
    "    # https://docs.python.org/3/reference/datamodel.html#object.__eq__\n",
    "    #\n",
    "    # Note: When returning \"NotImplemented\" instead of False, we allow Python to\n",
    "    # fall back to the \"__eq__\" method of the \"other\" object. This can be\n",
    "    # important in case of subclasses that also define the \"__eq__\" method if we\n",
    "    # want to retain equality comparison symmetry.\n",
    "    def __eq__(self, other):\n",
    "        if isinstance(other, Point):\n",
    "            return self.x == other.x and self.y == other.y\n",
    "        return NotImplemented"
   ]
  },
  {
   "cell_type": "code",
   "execution_count": 12,
   "metadata": {},
   "outputs": [
    {
     "name": "stdout",
     "output_type": "stream",
     "text": [
      "True\n"
     ]
    }
   ],
   "source": [
    "p1 = Point(1, 2)\n",
    "p2 = Point(1, 2)\n",
    "print(p1 == p2)"
   ]
  },
  {
   "cell_type": "markdown",
   "metadata": {},
   "source": [
    "### Add operation hinzufügen"
   ]
  },
  {
   "cell_type": "code",
   "execution_count": 13,
   "metadata": {},
   "outputs": [
    {
     "ename": "TypeError",
     "evalue": "unsupported operand type(s) for +: 'Point' and 'Point'",
     "output_type": "error",
     "traceback": [
      "\u001b[1;31m---------------------------------------------------------------------------\u001b[0m",
      "\u001b[1;31mTypeError\u001b[0m                                 Traceback (most recent call last)",
      "\u001b[1;32m~\\AppData\\Local\\Temp\\ipykernel_19408\\3740050543.py\u001b[0m in \u001b[0;36m<module>\u001b[1;34m\u001b[0m\n\u001b[0;32m      1\u001b[0m \u001b[1;31m# there is no __add__ in object class, so this will fail:\u001b[0m\u001b[1;33m\u001b[0m\u001b[1;33m\u001b[0m\u001b[1;33m\u001b[0m\u001b[0m\n\u001b[1;32m----> 2\u001b[1;33m \u001b[0mp1\u001b[0m \u001b[1;33m+\u001b[0m \u001b[0mp2\u001b[0m\u001b[1;33m\u001b[0m\u001b[1;33m\u001b[0m\u001b[0m\n\u001b[0m",
      "\u001b[1;31mTypeError\u001b[0m: unsupported operand type(s) for +: 'Point' and 'Point'"
     ]
    }
   ],
   "source": [
    "# there is no __add__ in object class, so this will fail:\n",
    "p1 + p2"
   ]
  },
  {
   "cell_type": "code",
   "execution_count": null,
   "metadata": {},
   "outputs": [],
   "source": [
    "# we also want to be able to add two points, for this we define the __add__ method.\n",
    "# would be nice to compare points by x and y values\n",
    "class Point:\n",
    "    \n",
    "    def __init__(self, x, y):\n",
    "        self.x = x\n",
    "        self.y = y\n",
    "    def __eq__(self, other):\n",
    "        if isinstance(other, Point):\n",
    "            return self.x == other.x and self.y == other.y\n",
    "        return NotImplemented\n",
    "    def __add__(self, other):\n",
    "        if isinstance(other, Point):\n",
    "            return Point(self.x + other.x, self.y + other.y)\n",
    "        if isinstance(other, (int, float)):\n",
    "            return Point(self.x + other, self.y + other)"
   ]
  },
  {
   "cell_type": "code",
   "execution_count": null,
   "metadata": {},
   "outputs": [
    {
     "name": "stdout",
     "output_type": "stream",
     "text": [
      "<__main__.Point object at 0x000002B2D9B9CA88>\n",
      "<__main__.Point object at 0x000002B2D9B9CB08>\n"
     ]
    },
    {
     "ename": "TypeError",
     "evalue": "unsupported operand type(s) for +: 'float' and 'Point'",
     "output_type": "error",
     "traceback": [
      "\u001b[1;31m---------------------------------------------------------------------------\u001b[0m",
      "\u001b[1;31mTypeError\u001b[0m                                 Traceback (most recent call last)",
      "\u001b[1;32m~\\AppData\\Local\\Temp\\ipykernel_19268\\2185026497.py\u001b[0m in \u001b[0;36m<module>\u001b[1;34m\u001b[0m\n\u001b[0;32m      9\u001b[0m \u001b[1;31m# because now, the \"__add__\"\" method of the other type is called rather than our\u001b[0m\u001b[1;33m\u001b[0m\u001b[1;33m\u001b[0m\u001b[1;33m\u001b[0m\u001b[0m\n\u001b[0;32m     10\u001b[0m \u001b[1;31m# method in the \"Point\" class.\u001b[0m\u001b[1;33m\u001b[0m\u001b[1;33m\u001b[0m\u001b[1;33m\u001b[0m\u001b[0m\n\u001b[1;32m---> 11\u001b[1;33m \u001b[0mprint\u001b[0m\u001b[1;33m(\u001b[0m\u001b[1;36m123.4\u001b[0m \u001b[1;33m+\u001b[0m \u001b[0mp1\u001b[0m\u001b[1;33m)\u001b[0m  \u001b[1;31m# Will invoke \"float.__add__(self=123.4, other=p1)\"\u001b[0m\u001b[1;33m\u001b[0m\u001b[1;33m\u001b[0m\u001b[0m\n\u001b[0m",
      "\u001b[1;31mTypeError\u001b[0m: unsupported operand type(s) for +: 'float' and 'Point'"
     ]
    }
   ],
   "source": [
    "# We can now add something to a \"Point\" object, which will return a new \"Point\"\n",
    "# object (the one we returned in \"__add__\").\n",
    "p1 = Point(1, 2)\n",
    "p2 = Point(1, 2)\n",
    "print(p1 + p2)  # Will invoke \"Point.__add__(self=p1, other=p2)\"\n",
    "print(p1 + 123.4)  # Will invoke \"Point.__add__(self=p1, other=123.4)\"\n",
    "\n",
    "# Note that with swapped operands and different types, it does not work anymore,\n",
    "# because now, the \"__add__\"\" method of the other type is called rather than our\n",
    "# method in the \"Point\" class.\n",
    "print(123.4 + p1)  # Will invoke \"float.__add__(self=123.4, other=p1)\""
   ]
  }
 ],
 "metadata": {
  "kernelspec": {
   "display_name": "dlnn2",
   "language": "python",
   "name": "python3"
  },
  "language_info": {
   "codemirror_mode": {
    "name": "ipython",
    "version": 3
   },
   "file_extension": ".py",
   "mimetype": "text/x-python",
   "name": "python",
   "nbconvert_exporter": "python",
   "pygments_lexer": "ipython3",
   "version": "3.7.16"
  }
 },
 "nbformat": 4,
 "nbformat_minor": 2
}
